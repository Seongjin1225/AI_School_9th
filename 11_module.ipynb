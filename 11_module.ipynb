{
 "cells": [
  {
   "cell_type": "markdown",
   "metadata": {},
   "source": [
    "# 모듈(Module)"
   ]
  },
  {
   "cell_type": "markdown",
   "metadata": {},
   "source": [
    "## 1. 모듈 개념\n",
    "- 변수, 험수, 클래스 등을 포함하는 하나의 파이썬 파일(.py)\n",
    "- import math, from bs4 import BeautifulSoap\n",
    "- 코드의 가독성을 높이고 유지 보수 관리 용이\n",
    "- 모듈 네이밍 컨벤션\n",
    "    - 소문자\n",
    "    - 스네이크 케이스\n",
    "    - mymodule.py, my_module.py\n",
    "- 모듈(module) -> 패키지(package) -> 라이브러리(library)\n",
    "    - 모듈 : 변수, 함수, 클래스\n",
    "    - 패키지: 모듈을 모아놓은 폴더\n",
    "    - 라이브러리: 모듈과 패키지 포함하는 개념"
   ]
  },
  {
   "cell_type": "markdown",
   "metadata": {},
   "source": [
    "## 2. 모듈 전체 호출\n",
    "- `import module`"
   ]
  },
  {
   "cell_type": "code",
   "execution_count": 1,
   "metadata": {},
   "outputs": [],
   "source": [
    "import my_module"
   ]
  },
  {
   "cell_type": "code",
   "execution_count": 5,
   "metadata": {},
   "outputs": [
    {
     "name": "stdout",
     "output_type": "stream",
     "text": [
      "1\n",
      "2\n",
      "This is plus module 3\n",
      "사자이/가 푸바아오오오오 소리를 냅니다.\n"
     ]
    }
   ],
   "source": [
    "print(my_module.num1)\n",
    "print(my_module.num2)\n",
    "\n",
    "# 모듈의 함수\n",
    "my_module.plus(1, 2)\n",
    "\n",
    "# 모듈의 클래스\n",
    "lion = my_module.Animal('사자')\n",
    "lion.make_sound('푸바아오오오오')"
   ]
  },
  {
   "cell_type": "code",
   "execution_count": 4,
   "metadata": {},
   "outputs": [
    {
     "data": {
      "text/plain": [
       "['Animal', 'num1', 'num2', 'plus']"
      ]
     },
     "execution_count": 4,
     "metadata": {},
     "output_type": "execute_result"
    }
   ],
   "source": [
    "[func for func in dir(my_module) if func[0] != '_']\n"
   ]
  },
  {
   "cell_type": "markdown",
   "metadata": {},
   "source": [
    "## 3. 모듈의 일부 내용 호출\n",
    "- from func import module"
   ]
  },
  {
   "cell_type": "code",
   "execution_count": 11,
   "metadata": {},
   "outputs": [],
   "source": [
    "from my_module import num1\n",
    "from my_module import num2\n",
    "from my_module import plus\n",
    "from my_module import Animal\n",
    "\n",
    "# requests 모듈을 전체 호출\n",
    "import requests\n",
    "\n",
    "# bs4 모듈이 가진 BeautifulSoap 클래스 호출\n",
    "from bs4 import BeautifulSoup"
   ]
  },
  {
   "cell_type": "code",
   "execution_count": 10,
   "metadata": {},
   "outputs": [
    {
     "name": "stdout",
     "output_type": "stream",
     "text": [
      "This is plus module 3\n"
     ]
    }
   ],
   "source": [
    "plus(num1, num2)"
   ]
  },
  {
   "cell_type": "code",
   "execution_count": 12,
   "metadata": {},
   "outputs": [
    {
     "name": "stdout",
     "output_type": "stream",
     "text": [
      "호랑이이/가 아이이이이이이이 소리를 냅니다.\n"
     ]
    }
   ],
   "source": [
    "tiger = Animal('호랑이')\n",
    "tiger.make_sound('아이이이이이이이')"
   ]
  },
  {
   "cell_type": "markdown",
   "metadata": {},
   "source": [
    "## 4. 모듈 이름 변경 호출\n",
    "- import module as md"
   ]
  },
  {
   "cell_type": "code",
   "execution_count": 13,
   "metadata": {},
   "outputs": [],
   "source": [
    "import my_module as md\n"
   ]
  },
  {
   "cell_type": "code",
   "execution_count": 17,
   "metadata": {},
   "outputs": [
    {
     "name": "stdout",
     "output_type": "stream",
     "text": [
      "1 2\n",
      "This is plus module 3\n",
      "말티푸이/가 컁컁 소리를 냅니다.\n"
     ]
    }
   ],
   "source": [
    "print(md.num1, md.num2)\n",
    "md.plus(md.num1, md.num2)\n",
    "dog = md.Animal('말티푸')\n",
    "dog.make_sound('컁컁')"
   ]
  },
  {
   "cell_type": "markdown",
   "metadata": {},
   "source": [
    "## 5. `if __name__ == \"__main__\"`\n",
    "- 모듈(.py)이 터미널에서 직접 실행되는 경우\n",
    "- jupyter notebook에서 import module로 불러와서 사용하는 경우"
   ]
  },
  {
   "cell_type": "code",
   "execution_count": 23,
   "metadata": {},
   "outputs": [
    {
     "ename": "ModuleNotFoundError",
     "evalue": "No module named 'requests'",
     "output_type": "error",
     "traceback": [
      "\u001b[1;31m---------------------------------------------------------------------------\u001b[0m",
      "\u001b[1;31mModuleNotFoundError\u001b[0m                       Traceback (most recent call last)",
      "\u001b[1;32mc:\\Users\\SeongJin\\Documents\\my_ws\\edu\\python\\11_module.ipynb Cell 15\u001b[0m line \u001b[0;36m1\n\u001b[1;32m----> <a href='vscode-notebook-cell:/c%3A/Users/SeongJin/Documents/my_ws/edu/python/11_module.ipynb#X26sZmlsZQ%3D%3D?line=0'>1</a>\u001b[0m \u001b[39mimport\u001b[39;00m \u001b[39mmy_weather_info\u001b[39;00m\n",
      "File \u001b[1;32mc:\\Users\\SeongJin\\Documents\\my_ws\\edu\\python\\my_weather_info.py:1\u001b[0m\n\u001b[1;32m----> 1\u001b[0m \u001b[39mimport\u001b[39;00m \u001b[39mrequests\u001b[39;00m\n\u001b[0;32m      2\u001b[0m \u001b[39mimport\u001b[39;00m \u001b[39mjson\u001b[39;00m\n\u001b[0;32m      4\u001b[0m \u001b[39m# 함수 선언\u001b[39;00m\n",
      "\u001b[1;31mModuleNotFoundError\u001b[0m: No module named 'requests'"
     ]
    }
   ],
   "source": [
    "import my_weather_info"
   ]
  },
  {
   "cell_type": "code",
   "execution_count": 24,
   "metadata": {},
   "outputs": [
    {
     "ename": "NameError",
     "evalue": "name 'my_weather_info' is not defined",
     "output_type": "error",
     "traceback": [
      "\u001b[1;31m---------------------------------------------------------------------------\u001b[0m",
      "\u001b[1;31mNameError\u001b[0m                                 Traceback (most recent call last)",
      "\u001b[1;32mc:\\Users\\SeongJin\\Documents\\my_ws\\edu\\python\\11_module.ipynb Cell 16\u001b[0m line \u001b[0;36m1\n\u001b[1;32m----> <a href='vscode-notebook-cell:/c%3A/Users/SeongJin/Documents/my_ws/edu/python/11_module.ipynb#X30sZmlsZQ%3D%3D?line=0'>1</a>\u001b[0m my_weather_info\u001b[39m.\u001b[39mget_weather_info(\u001b[39m'\u001b[39m\u001b[39mSeoul\u001b[39m\u001b[39m'\u001b[39m)\n",
      "\u001b[1;31mNameError\u001b[0m: name 'my_weather_info' is not defined"
     ]
    }
   ],
   "source": [
    "my_weather_info.get_weather_info('Seoul')"
   ]
  },
  {
   "cell_type": "code",
   "execution_count": 25,
   "metadata": {},
   "outputs": [
    {
     "name": "stdout",
     "output_type": "stream",
     "text": [
      "Active code page: 65001\n"
     ]
    },
    {
     "name": "stderr",
     "output_type": "stream",
     "text": [
      "Traceback (most recent call last):\n",
      "  File \"my_weather_info.py\", line 1, in <module>\n",
      "    import requests\n",
      "ModuleNotFoundError: No module named 'requests'\n"
     ]
    }
   ],
   "source": [
    "!python my_weather_info.py"
   ]
  },
  {
   "cell_type": "code",
   "execution_count": 26,
   "metadata": {},
   "outputs": [
    {
     "ename": "NameError",
     "evalue": "name 'my_weather_info' is not defined",
     "output_type": "error",
     "traceback": [
      "\u001b[1;31m---------------------------------------------------------------------------\u001b[0m",
      "\u001b[1;31mNameError\u001b[0m                                 Traceback (most recent call last)",
      "\u001b[1;32mc:\\Users\\SeongJin\\Documents\\my_ws\\edu\\python\\11_module.ipynb Cell 18\u001b[0m line \u001b[0;36m1\n\u001b[1;32m----> <a href='vscode-notebook-cell:/c%3A/Users/SeongJin/Documents/my_ws/edu/python/11_module.ipynb#X32sZmlsZQ%3D%3D?line=0'>1</a>\u001b[0m \u001b[39mprint\u001b[39m(my_weather_info\u001b[39m.\u001b[39m\u001b[39m__name__\u001b[39m)\n",
      "\u001b[1;31mNameError\u001b[0m: name 'my_weather_info' is not defined"
     ]
    }
   ],
   "source": [
    "print(my_weather_info.__name__)"
   ]
  },
  {
   "cell_type": "code",
   "execution_count": null,
   "metadata": {},
   "outputs": [],
   "source": []
  }
 ],
 "metadata": {
  "kernelspec": {
   "display_name": "Python 3",
   "language": "python",
   "name": "python3"
  },
  "language_info": {
   "codemirror_mode": {
    "name": "ipython",
    "version": 3
   },
   "file_extension": ".py",
   "mimetype": "text/x-python",
   "name": "python",
   "nbconvert_exporter": "python",
   "pygments_lexer": "ipython3",
   "version": "3.8.18"
  },
  "orig_nbformat": 4
 },
 "nbformat": 4,
 "nbformat_minor": 2
}
