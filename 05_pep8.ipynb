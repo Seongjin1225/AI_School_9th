{
 "cells": [
  {
   "cell_type": "markdown",
   "id": "c3516c95",
   "metadata": {},
   "source": [
    "# PEP8\n",
    "- Python Enhancement Proposal 8m\n",
    "- 파이썬 코드 작성 규칙(컨벤션)\n",
    "- https://peps.python.org/pep-0008"
   ]
  },
  {
   "cell_type": "code",
   "execution_count": 1,
   "id": "9444bd1b",
   "metadata": {},
   "outputs": [
    {
     "name": "stdout",
     "output_type": "stream",
     "text": [
      "The Zen of Python, by Tim Peters\n",
      "\n",
      "Beautiful is better than ugly.\n",
      "Explicit is better than implicit.\n",
      "Simple is better than complex.\n",
      "Complex is better than complicated.\n",
      "Flat is better than nested.\n",
      "Sparse is better than dense.\n",
      "Readability counts.\n",
      "Special cases aren't special enough to break the rules.\n",
      "Although practicality beats purity.\n",
      "Errors should never pass silently.\n",
      "Unless explicitly silenced.\n",
      "In the face of ambiguity, refuse the temptation to guess.\n",
      "There should be one-- and preferably only one --obvious way to do it.\n",
      "Although that way may not be obvious at first unless you're Dutch.\n",
      "Now is better than never.\n",
      "Although never is often better than *right* now.\n",
      "If the implementation is hard to explain, it's a bad idea.\n",
      "If the implementation is easy to explain, it may be a good idea.\n",
      "Namespaces are one honking great idea -- let's do more of those!\n"
     ]
    }
   ],
   "source": [
    "import this"
   ]
  },
  {
   "cell_type": "markdown",
   "id": "e907611c",
   "metadata": {},
   "source": [
    "## 1. 가로간격\n",
    "- 들여쓰기(indent)\n",
    "- 공백 4칸\n",
    "    - 2칸은 구분이 잘 안됨\n",
    "    - 8칸은 간격이 너무 큼\n",
    "    - 2,4,8,16과 같은 2의 거듭제곱 수를 선호하는 경향\n",
    "    - 3이나 6 같은 수는 고려 대상에 포함하지 않음"
   ]
  },
  {
   "cell_type": "code",
   "execution_count": 3,
   "id": "ff003b9a",
   "metadata": {},
   "outputs": [
    {
     "name": "stdout",
     "output_type": "stream",
     "text": [
      "0\n",
      "1\n",
      "2\n",
      "2\n"
     ]
    }
   ],
   "source": [
    "# 들여쓰기 4칸\n",
    "for i in range(3):\n",
    "    print(i)\n",
    "print(i)"
   ]
  },
  {
   "cell_type": "code",
   "execution_count": 4,
   "id": "1732f1a8",
   "metadata": {},
   "outputs": [
    {
     "name": "stdout",
     "output_type": "stream",
     "text": [
      "0\n",
      "1\n",
      "2\n",
      "2\n"
     ]
    }
   ],
   "source": [
    "# 들여쓰기 2칸\n",
    "for i in range(3):\n",
    "  print(i)\n",
    "print(i)"
   ]
  },
  {
   "cell_type": "code",
   "execution_count": 5,
   "id": "8a215399",
   "metadata": {},
   "outputs": [
    {
     "name": "stdout",
     "output_type": "stream",
     "text": [
      "0\n",
      "1\n",
      "2\n",
      "2\n"
     ]
    }
   ],
   "source": [
    "# 들여쓰기 8칸\n",
    "for i in range(3):\n",
    "        print(i)\n",
    "print(i)"
   ]
  },
  {
   "cell_type": "markdown",
   "id": "c5d08acd",
   "metadata": {},
   "source": [
    "## 2. 세로 간격"
   ]
  },
  {
   "cell_type": "code",
   "execution_count": 6,
   "id": "839ac081",
   "metadata": {},
   "outputs": [
    {
     "ename": "SyntaxError",
     "evalue": "invalid syntax (4035083928.py, line 2)",
     "output_type": "error",
     "traceback": [
      "\u001b[1;36m  Cell \u001b[1;32mIn[6], line 2\u001b[1;36m\u001b[0m\n\u001b[1;33m    Class MyCalc:\u001b[0m\n\u001b[1;37m          ^\u001b[0m\n\u001b[1;31mSyntaxError\u001b[0m\u001b[1;31m:\u001b[0m invalid syntax\n"
     ]
    }
   ],
   "source": [
    "# 나쁜 예\n",
    "Class MyCalc:\n",
    "    def __init__():\n",
    "        pass\n",
    "    def plus():\n",
    "        pass\n",
    "    def minus():\n",
    "        pass"
   ]
  },
  {
   "cell_type": "code",
   "execution_count": null,
   "id": "83f1b68d",
   "metadata": {},
   "outputs": [],
   "source": [
    "# 좋은 예\n",
    "Class MyCalc:\n",
    "    def __init__():\n",
    "        pass\n",
    "    \n",
    "    def plus():\n",
    "        pass\n",
    "    \n",
    "    def minus():\n",
    "        pass"
   ]
  },
  {
   "cell_type": "markdown",
   "id": "518b2c59",
   "metadata": {},
   "source": [
    "## 3. 연산자와 식별자 사이의 공백 한칸"
   ]
  },
  {
   "cell_type": "code",
   "execution_count": null,
   "id": "35ca1581",
   "metadata": {},
   "outputs": [],
   "source": [
    "# 나쁜 예\n",
    "\n",
    "my_list=[1,2,3,4]\n",
    "my_list[:i]+my_list[i:]+my_list[i]"
   ]
  },
  {
   "cell_type": "code",
   "execution_count": null,
   "id": "36cca4f9",
   "metadata": {},
   "outputs": [],
   "source": [
    "# 나쁜 예\n",
    "\n",
    "my_list = [1,2,3,4]\n",
    "my_list[:i] + my_list[i:] + my_list[i]"
   ]
  },
  {
   "cell_type": "code",
   "execution_count": null,
   "id": "cc75eaad",
   "metadata": {},
   "outputs": [],
   "source": [
    "## 4. 구분자는 뒤쪽에 공백 한 칸"
   ]
  },
  {
   "cell_type": "code",
   "execution_count": null,
   "id": "57155395",
   "metadata": {},
   "outputs": [],
   "source": [
    "#나쁜 예\n",
    "\n",
    "def spam(egg,bacon,ham):\n",
    "    kal=[80,100,200]\n",
    "    "
   ]
  },
  {
   "cell_type": "code",
   "execution_count": null,
   "id": "01638a2e",
   "metadata": {},
   "outputs": [],
   "source": [
    "#좋은 예\n",
    "\n",
    "def spam(egg, bacon, ham):\n",
    "    kal = [80, 100, 200]"
   ]
  },
  {
   "cell_type": "markdown",
   "id": "8b0d5a91",
   "metadata": {},
   "source": [
    "## 4. 구분자는 뒤쪽에 공백 한 칸"
   ]
  },
  {
   "cell_type": "code",
   "execution_count": null,
   "id": "c04172ed",
   "metadata": {},
   "outputs": [],
   "source": [
    "# 나쁜 예\n",
    "\n",
    "def spam(egg,bacon,ham):\n",
    "    kal=[80,100,200]\n",
    "\n",
    "def spam(egg , bacon , ham):\n",
    "    kal = [80 , 100 , 200]"
   ]
  },
  {
   "cell_type": "code",
   "execution_count": null,
   "id": "1bc9cf11",
   "metadata": {},
   "outputs": [],
   "source": [
    "# 좋은 예 \n",
    "\n",
    "def spam(egg, bacon, ham):\n",
    "    kal = [80, 100, 200]"
   ]
  },
  {
   "cell_type": "markdown",
   "id": "f5f89bd3",
   "metadata": {},
   "source": [
    "## 5. 마침표 앞뒤에는 공백을 넣지 않습니다"
   ]
  },
  {
   "cell_type": "code",
   "execution_count": null,
   "id": "0e821bd7",
   "metadata": {},
   "outputs": [],
   "source": [
    "import random\n",
    "\n",
    "#좋은 예\n",
    "random.randint(0,4)\n",
    "\n",
    "#나쁜 예\n",
    "random . randint(0,4)"
   ]
  },
  {
   "cell_type": "markdown",
   "id": "0937ecff",
   "metadata": {},
   "source": [
    "## 6. 함수, 메서드, 컨테이너 이름 뒤에는 공백을 넣지 않습니다"
   ]
  },
  {
   "cell_type": "code",
   "execution_count": 7,
   "id": "9057a74f",
   "metadata": {},
   "outputs": [
    {
     "name": "stdout",
     "output_type": "stream",
     "text": [
      "Hello, World\n",
      "Hello, World\n"
     ]
    }
   ],
   "source": [
    "# 나쁜 예\n",
    "print ('Hello, World')\n",
    "\n",
    "# 좋은 예\n",
    "print('Hello, World')"
   ]
  },
  {
   "cell_type": "code",
   "execution_count": null,
   "id": "6273db65",
   "metadata": {},
   "outputs": [],
   "source": [
    "# 좋은 예\n",
    "data = [1, 2, 3, 4]\n",
    "data[2], data[0:3]\n",
    "\n",
    "#\n",
    "data [2], data       [0:3]"
   ]
  },
  {
   "cell_type": "markdown",
   "id": "db677415",
   "metadata": {},
   "source": [
    "## 7. 괄호 앞뒤에는 공백을 넣지 않습니다"
   ]
  },
  {
   "cell_type": "code",
   "execution_count": null,
   "id": "e4c8608f",
   "metadata": {},
   "outputs": [],
   "source": [
    "# 좋은 예\n",
    "def model_fit(value, value2, value3):\n",
    "    feature = [180, 75, 19]\n",
    "\n",
    "# 나쁜 예\n",
    "def model_fit( value, value2, value3 ):\n",
    "    feature = [ 180, 75, 19 ]\n",
    "    "
   ]
  },
  {
   "cell_type": "markdown",
   "id": "36d35ef2",
   "metadata": {},
   "source": [
    "## 8. 코드행 끝의 주석 앞에는 공백 2칸\n",
    "- 공백이 하나 또는 아예 없는 경우 주석과 코드 구분하기 어려움"
   ]
  },
  {
   "cell_type": "code",
   "execution_count": null,
   "id": "8bf830d7",
   "metadata": {},
   "outputs": [],
   "source": [
    "# 좋은 예\n",
    "import random\n",
    "\n",
    "random.randint(1,10)  #random 숫자를 뽑습니다\n",
    "\n",
    "# 나쁜 예\n",
    "import random\n",
    "\n",
    "random.randint(1,10)#random 숫자를 뽑습니다\n",
    "random.randint(1,10) # random 숫자를 뽑습니다"
   ]
  },
  {
   "cell_type": "markdown",
   "id": "5cbfc267",
   "metadata": {},
   "source": [
    "## 9. 모듈 불러오기 컨벤션"
   ]
  },
  {
   "cell_type": "code",
   "execution_count": null,
   "id": "c068e38c",
   "metadata": {},
   "outputs": [],
   "source": [
    "# 좋은 예 \n",
    "import math\n",
    "import os\n",
    "import sys\n",
    "\n",
    "# 나쁜 예 \n",
    "import math, os, sys"
   ]
  },
  {
   "cell_type": "code",
   "execution_count": null,
   "id": "23d1580c",
   "metadata": {},
   "outputs": [],
   "source": [
    "# 나쁜 예 \n",
    "from bs4 import BeautifulSoup\n",
    "import math\n",
    "\n",
    "# 좋은 예 \n",
    "import math\n",
    "from bs4 import BeautifulSoup"
   ]
  },
  {
   "cell_type": "code",
   "execution_count": null,
   "id": "36b92ccf",
   "metadata": {},
   "outputs": [],
   "source": [
    "import pandas as pd\n",
    "import numpy as np\n",
    "from sklearn.linear_model import LinearRegression\n",
    "from urllib.request import Request"
   ]
  },
  {
   "cell_type": "markdown",
   "id": "ce520e89",
   "metadata": {},
   "source": [
    "## 10. 작명 규칙\n",
    "- snake_case\n",
    "    - 함수, 메서드, 변수 이름은 소문자 스네이크 케이스\n",
    "- CamelCase\n",
    "    - 클래스"
   ]
  },
  {
   "cell_type": "code",
   "execution_count": null,
   "id": "bc2099dc",
   "metadata": {},
   "outputs": [],
   "source": [
    "# 좋은 예\n",
    "my_list = [1, 2, 3]\n",
    "\n",
    "# 나쁜 예\n",
    "MyData = [1, 2, 3]"
   ]
  },
  {
   "cell_type": "code",
   "execution_count": null,
   "id": "c829838d",
   "metadata": {},
   "outputs": [],
   "source": [
    "#나쁜 예\n",
    "def FuncCalc():\n",
    "    pass\n",
    "\n",
    "#좋은 예\n",
    "def func_calc():\n",
    "    pass"
   ]
  },
  {
   "cell_type": "code",
   "execution_count": null,
   "id": "d99c0e89",
   "metadata": {},
   "outputs": [],
   "source": [
    "#나쁜 예\n",
    "class my_calc():\n",
    "    pass\n",
    "\n",
    "#좋은 예\n",
    "class MyCalc():\n",
    "    pass"
   ]
  },
  {
   "cell_type": "markdown",
   "id": "1a1caf56",
   "metadata": {},
   "source": [
    "## 소소한 내용"
   ]
  },
  {
   "cell_type": "code",
   "execution_count": 8,
   "id": "44a594c5",
   "metadata": {},
   "outputs": [
    {
     "name": "stdout",
     "output_type": "stream",
     "text": [
      "python\n",
      "python\n"
     ]
    }
   ],
   "source": [
    "print('python')\n",
    "print(\"python\")"
   ]
  },
  {
   "cell_type": "code",
   "execution_count": null,
   "id": "8ddac132",
   "metadata": {},
   "outputs": [],
   "source": []
  }
 ],
 "metadata": {
  "kernelspec": {
   "display_name": "Python 3 (ipykernel)",
   "language": "python",
   "name": "python3"
  },
  "language_info": {
   "codemirror_mode": {
    "name": "ipython",
    "version": 3
   },
   "file_extension": ".py",
   "mimetype": "text/x-python",
   "name": "python",
   "nbconvert_exporter": "python",
   "pygments_lexer": "ipython3",
   "version": "3.11.4"
  }
 },
 "nbformat": 4,
 "nbformat_minor": 5
}
