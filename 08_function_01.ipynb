{
 "cells": [
  {
   "cell_type": "markdown",
   "id": "1d9c306c",
   "metadata": {},
   "source": [
    "# 함수 (function)"
   ]
  },
  {
   "cell_type": "markdown",
   "id": "06809c70",
   "metadata": {},
   "source": [
    "## 함수(function) 목차\n",
    "- 필수 함수 개념 \n",
    "    - 함수의 선언과 호출\n",
    "    - parameter, argument\n",
    "    - return\n",
    "    - `*args, **kwargs`\n",
    "    - docstring\n",
    "    - scope\n",
    "    - lambda function"
   ]
  },
  {
   "cell_type": "markdown",
   "id": "e902dd5b",
   "metadata": {},
   "source": [
    "## 1. 함수(function)의 개념\n",
    "- 반복적으로 사용하는 코드를 하나의 묶음(code block)으로 처리해서 사용하는 문법\n",
    "- 코드의 유지 보수 관리가 용이해짐\n",
    "- 함수는 snake_case \n",
    "- 함수 이름은 동사 형식인 경우가 많습니다\n",
    "    - 이 함수가 어떤 기능을 하는지 알아보기 쉽게 작성"
   ]
  },
  {
   "cell_type": "code",
   "execution_count": 2,
   "id": "974c9628",
   "metadata": {},
   "outputs": [],
   "source": [
    "# 함수(function) 예약어 \n",
    "# definition \n",
    "def func():\n",
    "    pass"
   ]
  },
  {
   "cell_type": "markdown",
   "id": "65b35b19",
   "metadata": {},
   "source": [
    "## 2. 함수의 선언과 호출"
   ]
  },
  {
   "cell_type": "code",
   "execution_count": 3,
   "id": "46668be6",
   "metadata": {},
   "outputs": [],
   "source": [
    "# 함수 선언\n",
    "def my_func():\n",
    "    print('this is func')"
   ]
  },
  {
   "cell_type": "code",
   "execution_count": 5,
   "id": "042a9cc8",
   "metadata": {},
   "outputs": [
    {
     "name": "stdout",
     "output_type": "stream",
     "text": [
      "this is func\n"
     ]
    }
   ],
   "source": [
    "# 함수 호출 \n",
    "my_func()"
   ]
  },
  {
   "cell_type": "code",
   "execution_count": 6,
   "id": "28481062",
   "metadata": {},
   "outputs": [
    {
     "data": {
      "text/plain": [
       "10"
      ]
     },
     "execution_count": 6,
     "metadata": {},
     "output_type": "execute_result"
    }
   ],
   "source": [
    "my_function = 10\n",
    "my_function  # 변수"
   ]
  },
  {
   "cell_type": "code",
   "execution_count": 7,
   "id": "811cd0ac",
   "metadata": {},
   "outputs": [
    {
     "name": "stdout",
     "output_type": "stream",
     "text": [
      "this is func\n"
     ]
    }
   ],
   "source": [
    "my_func()  # 함수를 호출한거구나 "
   ]
  },
  {
   "cell_type": "code",
   "execution_count": 8,
   "id": "df278006",
   "metadata": {},
   "outputs": [
    {
     "name": "stdout",
     "output_type": "stream",
     "text": [
      "B\n"
     ]
    }
   ],
   "source": [
    "# 함수가 필요한 경우 예시\n",
    "\n",
    "point = 88\n",
    "\n",
    "if point >= 90:\n",
    "    print('A')\n",
    "elif point >= 80:\n",
    "    print('B')\n",
    "else:\n",
    "    print('C')"
   ]
  },
  {
   "cell_type": "code",
   "execution_count": 9,
   "id": "24ed8bf7",
   "metadata": {},
   "outputs": [
    {
     "name": "stdout",
     "output_type": "stream",
     "text": [
      "A\n"
     ]
    }
   ],
   "source": [
    "# 위에서 쓴 코드가 한 번 더 필요하면?\n",
    "\n",
    "point = 90\n",
    "\n",
    "if point >= 90:\n",
    "    print('A')\n",
    "elif point >= 80:\n",
    "    print('B')\n",
    "else:\n",
    "    print('C')"
   ]
  },
  {
   "cell_type": "code",
   "execution_count": 12,
   "id": "b0f7f0e5",
   "metadata": {},
   "outputs": [],
   "source": [
    "# 함수 선언\n",
    "def grade(point):\n",
    "    if point >= 90:\n",
    "        print('A')\n",
    "    elif point >= 80:\n",
    "        print('B')\n",
    "    else:\n",
    "        print('C')"
   ]
  },
  {
   "cell_type": "code",
   "execution_count": 14,
   "id": "989efb2a",
   "metadata": {},
   "outputs": [
    {
     "name": "stdout",
     "output_type": "stream",
     "text": [
      "C\n"
     ]
    }
   ],
   "source": [
    "# 함수 호출\n",
    "point = 30\n",
    "grade(point)"
   ]
  },
  {
   "cell_type": "code",
   "execution_count": 15,
   "id": "8bdf1304",
   "metadata": {},
   "outputs": [
    {
     "name": "stdout",
     "output_type": "stream",
     "text": [
      "hello\n"
     ]
    }
   ],
   "source": [
    "print('hello')"
   ]
  },
  {
   "cell_type": "markdown",
   "id": "a3157181",
   "metadata": {},
   "source": [
    "## 3. 파라미터와 아규먼트(parameter, argument)\n",
    "- 매개변수\n",
    "- parameter\n",
    "    - 함수를 정의(선언)할 때 함수에 입력 받는 값을 지정한 변수\n",
    "- argument\n",
    "    - 함수를 호출 할 때 함수에 전달되는 변수"
   ]
  },
  {
   "cell_type": "code",
   "execution_count": 16,
   "id": "3f094401",
   "metadata": {},
   "outputs": [],
   "source": [
    "# 함수 선언\n",
    "def my_add(num1, num2):  # 파라미터(parameter)\n",
    "    print(num1 + num2)"
   ]
  },
  {
   "cell_type": "code",
   "execution_count": 17,
   "id": "d27df549",
   "metadata": {},
   "outputs": [
    {
     "name": "stdout",
     "output_type": "stream",
     "text": [
      "3\n"
     ]
    }
   ],
   "source": [
    "# 함수 호출\n",
    "my_add(1, 2)  # 아규먼트(argument)"
   ]
  },
  {
   "cell_type": "code",
   "execution_count": 19,
   "id": "0d4feff2",
   "metadata": {},
   "outputs": [
    {
     "ename": "TypeError",
     "evalue": "my_add() takes 2 positional arguments but 3 were given",
     "output_type": "error",
     "traceback": [
      "\u001b[0;31m---------------------------------------------------------------------------\u001b[0m",
      "\u001b[0;31mTypeError\u001b[0m                                 Traceback (most recent call last)",
      "\u001b[1;32m/Users/yh/Documents/my_ws/edu/python/08_function.ipynb Cell 18\u001b[0m line \u001b[0;36m2\n\u001b[1;32m      <a href='vscode-notebook-cell:/Users/yh/Documents/my_ws/edu/python/08_function.ipynb#X42sZmlsZQ%3D%3D?line=0'>1</a>\u001b[0m \u001b[39m# 함수 호출 할 때, 아규먼트의 갯수나 순서가 맞지 않으면 에러가 발생\u001b[39;00m\n\u001b[0;32m----> <a href='vscode-notebook-cell:/Users/yh/Documents/my_ws/edu/python/08_function.ipynb#X42sZmlsZQ%3D%3D?line=1'>2</a>\u001b[0m my_add(\u001b[39m1\u001b[39;49m, \u001b[39m2\u001b[39;49m, \u001b[39m3\u001b[39;49m)\n",
      "\u001b[0;31mTypeError\u001b[0m: my_add() takes 2 positional arguments but 3 were given"
     ]
    }
   ],
   "source": [
    "# 함수 호출 할 때, 아규먼트의 갯수나 순서가 맞지 않으면 에러가 발생\n",
    "my_add(1, 2, 3)"
   ]
  },
  {
   "cell_type": "markdown",
   "id": "e8cfcede",
   "metadata": {},
   "source": [
    "### 3-1. 갯수, 순서에 대한 설정\n",
    "- default parameter"
   ]
  },
  {
   "cell_type": "code",
   "execution_count": 1,
   "id": "fcee3454",
   "metadata": {},
   "outputs": [],
   "source": [
    "# 함수 선언\n",
    "def my_add(num1, num2=10):  # default parameter\n",
    "    print(num1 + num2)"
   ]
  },
  {
   "cell_type": "code",
   "execution_count": 2,
   "id": "da223ba5",
   "metadata": {},
   "outputs": [
    {
     "name": "stdout",
     "output_type": "stream",
     "text": [
      "31\n"
     ]
    }
   ],
   "source": [
    "# 함수 호출\n",
    "my_add(1, 30)"
   ]
  },
  {
   "cell_type": "markdown",
   "id": "e0c2a99d",
   "metadata": {},
   "source": [
    "### 3-2. 특정 값만 지정해서 변경\n",
    "- keyword argument"
   ]
  },
  {
   "cell_type": "code",
   "execution_count": 39,
   "id": "97d27b1a",
   "metadata": {},
   "outputs": [],
   "source": [
    "# 함수 선언\n",
    "def my_calc(num1, num2=10, num3=20):  # default parameter\n",
    "    print(num1 + num2 - num3)"
   ]
  },
  {
   "cell_type": "code",
   "execution_count": 29,
   "id": "e8f2e337",
   "metadata": {},
   "outputs": [
    {
     "name": "stdout",
     "output_type": "stream",
     "text": [
      "0\n"
     ]
    }
   ],
   "source": [
    "# 함수 호출\n",
    "my_calc(1, 2, 3)"
   ]
  },
  {
   "cell_type": "code",
   "execution_count": 33,
   "id": "dc655d44",
   "metadata": {},
   "outputs": [
    {
     "name": "stdout",
     "output_type": "stream",
     "text": [
      "-2\n"
     ]
    }
   ],
   "source": [
    "my_calc(1, 2, 5)"
   ]
  },
  {
   "cell_type": "code",
   "execution_count": 35,
   "id": "bb923dfd",
   "metadata": {},
   "outputs": [
    {
     "name": "stdout",
     "output_type": "stream",
     "text": [
      "9\n"
     ]
    }
   ],
   "source": [
    "my_calc(1, num3=2)  # keyword argument"
   ]
  },
  {
   "cell_type": "code",
   "execution_count": 38,
   "id": "a6160eda",
   "metadata": {},
   "outputs": [
    {
     "name": "stdout",
     "output_type": "stream",
     "text": [
      "19\n"
     ]
    }
   ],
   "source": [
    "my_calc(num3=1, num1=10)"
   ]
  },
  {
   "cell_type": "markdown",
   "id": "c03a25dc",
   "metadata": {},
   "source": [
    "## 4. <mark>리턴 (return)</mark>"
   ]
  },
  {
   "cell_type": "markdown",
   "id": "9fb17297",
   "metadata": {},
   "source": [
    "### 4-1. 리턴 기본"
   ]
  },
  {
   "cell_type": "code",
   "execution_count": 41,
   "id": "04a21c78",
   "metadata": {},
   "outputs": [],
   "source": [
    "# 함수 선언: 리턴이 없는 함수\n",
    "def my_add_no_return(num1, num2):\n",
    "    print(num1 + num2)"
   ]
  },
  {
   "cell_type": "code",
   "execution_count": 43,
   "id": "06d95dd2",
   "metadata": {},
   "outputs": [
    {
     "name": "stdout",
     "output_type": "stream",
     "text": [
      "3\n"
     ]
    }
   ],
   "source": [
    "# 함수 호출 \n",
    "result = my_add_no_return(1, 2)"
   ]
  },
  {
   "cell_type": "code",
   "execution_count": 45,
   "id": "404d73dc",
   "metadata": {},
   "outputs": [
    {
     "ename": "TypeError",
     "evalue": "unsupported operand type(s) for +: 'int' and 'NoneType'",
     "output_type": "error",
     "traceback": [
      "\u001b[0;31m---------------------------------------------------------------------------\u001b[0m",
      "\u001b[0;31mTypeError\u001b[0m                                 Traceback (most recent call last)",
      "\u001b[1;32m/Users/yh/Documents/my_ws/edu/python/08_function.ipynb Cell 31\u001b[0m line \u001b[0;36m1\n\u001b[0;32m----> <a href='vscode-notebook-cell:/Users/yh/Documents/my_ws/edu/python/08_function.ipynb#Y104sZmlsZQ%3D%3D?line=0'>1</a>\u001b[0m \u001b[39m5\u001b[39;49m \u001b[39m+\u001b[39;49m result\n",
      "\u001b[0;31mTypeError\u001b[0m: unsupported operand type(s) for +: 'int' and 'NoneType'"
     ]
    }
   ],
   "source": [
    "5 + result"
   ]
  },
  {
   "cell_type": "code",
   "execution_count": 46,
   "id": "ff77b680",
   "metadata": {},
   "outputs": [
    {
     "name": "stdout",
     "output_type": "stream",
     "text": [
      "None\n"
     ]
    }
   ],
   "source": [
    "print(result)  # None 안에 데이터가 없다는 뜻"
   ]
  },
  {
   "cell_type": "code",
   "execution_count": 47,
   "id": "b3c60ae8",
   "metadata": {},
   "outputs": [],
   "source": [
    "# 함수 선언: 리턴이 있는 함수\n",
    "def my_add_yes_return(num1, num2):\n",
    "    return num1 + num2"
   ]
  },
  {
   "cell_type": "code",
   "execution_count": 49,
   "id": "28401cf1",
   "metadata": {},
   "outputs": [],
   "source": [
    "# 함수 호출\n",
    "result = my_add_yes_return(1, 2)"
   ]
  },
  {
   "cell_type": "code",
   "execution_count": 50,
   "id": "5ed855e2",
   "metadata": {},
   "outputs": [
    {
     "data": {
      "text/plain": [
       "8"
      ]
     },
     "execution_count": 50,
     "metadata": {},
     "output_type": "execute_result"
    }
   ],
   "source": [
    "5 + result"
   ]
  },
  {
   "cell_type": "code",
   "execution_count": 52,
   "id": "1aac4b07",
   "metadata": {},
   "outputs": [],
   "source": [
    "# 함수 선언: 리턴이 있는 함수\n",
    "# 숫자 2개를 넣으면 곱한 결과를 저장하는 함수\n",
    "def add_yes_return(num1=10, num2=20):\n",
    "    return num1 * num2"
   ]
  },
  {
   "cell_type": "code",
   "execution_count": 55,
   "id": "5b4de0c9",
   "metadata": {},
   "outputs": [],
   "source": [
    "def add_no_return(num1=10, num2=20):\n",
    "    print(num1 * num2)"
   ]
  },
  {
   "cell_type": "code",
   "execution_count": 56,
   "id": "055f28ad",
   "metadata": {},
   "outputs": [
    {
     "name": "stdout",
     "output_type": "stream",
     "text": [
      "200\n"
     ]
    },
    {
     "ename": "TypeError",
     "evalue": "unsupported operand type(s) for +: 'int' and 'NoneType'",
     "output_type": "error",
     "traceback": [
      "\u001b[0;31m---------------------------------------------------------------------------\u001b[0m",
      "\u001b[0;31mTypeError\u001b[0m                                 Traceback (most recent call last)",
      "\u001b[1;32m/Users/yh/Documents/my_ws/edu/python/08_function.ipynb Cell 38\u001b[0m line \u001b[0;36m1\n\u001b[0;32m----> <a href='vscode-notebook-cell:/Users/yh/Documents/my_ws/edu/python/08_function.ipynb#Y110sZmlsZQ%3D%3D?line=0'>1</a>\u001b[0m \u001b[39m10\u001b[39;49m \u001b[39m+\u001b[39;49m add_no_return()\n",
      "\u001b[0;31mTypeError\u001b[0m: unsupported operand type(s) for +: 'int' and 'NoneType'"
     ]
    }
   ],
   "source": [
    "10 + add_no_return()"
   ]
  },
  {
   "cell_type": "markdown",
   "id": "280defb1",
   "metadata": {},
   "source": [
    "### 4-2. 다중 리턴"
   ]
  },
  {
   "cell_type": "code",
   "execution_count": 65,
   "id": "e6791755",
   "metadata": {},
   "outputs": [],
   "source": [
    "# 함수 선언\n",
    "def get_name_and_age():\n",
    "    name = \"codelion\"\n",
    "    age = 5\n",
    "    return name, age  # 다중 리턴"
   ]
  },
  {
   "cell_type": "code",
   "execution_count": 67,
   "id": "16f6461e",
   "metadata": {},
   "outputs": [
    {
     "name": "stdout",
     "output_type": "stream",
     "text": [
      "codelion 5\n"
     ]
    }
   ],
   "source": [
    "# 함수 호출 \n",
    "result = get_name_and_age()\n",
    "name, age = result\n",
    "print(name, age)"
   ]
  },
  {
   "cell_type": "markdown",
   "id": "2bf9da68",
   "metadata": {},
   "source": [
    "### 4-3. 리턴의 다른 용도\n",
    "- 함수 내부에서 return 을 만나는 순간 코드 종료\n",
    "- break"
   ]
  },
  {
   "cell_type": "code",
   "execution_count": 68,
   "id": "d887dd16",
   "metadata": {},
   "outputs": [],
   "source": [
    "# 함수 선언 \n",
    "def save_checkpoint(message):\n",
    "    if message == \"save\":\n",
    "        return\n",
    "        print(\"save!! (return)\")\n",
    "    print(\"continue!!\")"
   ]
  },
  {
   "cell_type": "code",
   "execution_count": 71,
   "id": "53a64424",
   "metadata": {},
   "outputs": [
    {
     "name": "stdout",
     "output_type": "stream",
     "text": [
      "continue!!\n"
     ]
    }
   ],
   "source": [
    "# 함수 호출\n",
    "save_checkpoint(\"no_save\")"
   ]
  },
  {
   "cell_type": "code",
   "execution_count": 72,
   "id": "43875a84",
   "metadata": {},
   "outputs": [],
   "source": [
    "save_checkpoint(\"save\")"
   ]
  },
  {
   "cell_type": "markdown",
   "id": "bdbe053a",
   "metadata": {},
   "source": [
    "## [중간 체크 타임]\n",
    "- 파이썬이 원래 가지고 있는 함수\n",
    "- 내장함수(built-in function)\n",
    "- 사용자 정의 함수"
   ]
  },
  {
   "cell_type": "code",
   "execution_count": 80,
   "id": "6a981c58",
   "metadata": {},
   "outputs": [
    {
     "name": "stdout",
     "output_type": "stream",
     "text": [
      "Help on built-in function sum in module builtins:\n",
      "\n",
      "sum(iterable, /, start=0)\n",
      "    Return the sum of a 'start' value (default: 0) plus an iterable of numbers\n",
      "    \n",
      "    When the iterable is empty, return the start value.\n",
      "    This function is intended specifically for use with numeric values and may\n",
      "    reject non-numeric types.\n",
      "\n"
     ]
    },
    {
     "data": {
      "text/plain": [
       "25"
      ]
     },
     "execution_count": 80,
     "metadata": {},
     "output_type": "execute_result"
    }
   ],
   "source": [
    "help(sum)\n",
    "sum([1, 2, 3, 4, 5], start=10)"
   ]
  },
  {
   "cell_type": "code",
   "execution_count": 82,
   "id": "eedc4b0e",
   "metadata": {},
   "outputs": [
    {
     "name": "stdout",
     "output_type": "stream",
     "text": [
      "Help on built-in function len in module builtins:\n",
      "\n",
      "len(obj, /)\n",
      "    Return the number of items in a container.\n",
      "\n"
     ]
    },
    {
     "data": {
      "text/plain": [
       "3"
      ]
     },
     "execution_count": 82,
     "metadata": {},
     "output_type": "execute_result"
    }
   ],
   "source": [
    "help(len)\n",
    "len([1, 2, 3])"
   ]
  },
  {
   "cell_type": "code",
   "execution_count": 83,
   "id": "f2fc2ecf",
   "metadata": {},
   "outputs": [
    {
     "data": {
      "text/plain": [
       "6"
      ]
     },
     "execution_count": 83,
     "metadata": {},
     "output_type": "execute_result"
    }
   ],
   "source": [
    "result = len([1, 2, 3])\n",
    "3 + result"
   ]
  },
  {
   "cell_type": "code",
   "execution_count": 85,
   "id": "c7c76ab3",
   "metadata": {},
   "outputs": [
    {
     "name": "stdout",
     "output_type": "stream",
     "text": [
      "1\n"
     ]
    },
    {
     "ename": "TypeError",
     "evalue": "unsupported operand type(s) for +: 'int' and 'NoneType'",
     "output_type": "error",
     "traceback": [
      "\u001b[0;31m---------------------------------------------------------------------------\u001b[0m",
      "\u001b[0;31mTypeError\u001b[0m                                 Traceback (most recent call last)",
      "\u001b[1;32m/Users/yh/Documents/my_ws/edu/python/08_function.ipynb Cell 51\u001b[0m line \u001b[0;36m2\n\u001b[1;32m      <a href='vscode-notebook-cell:/Users/yh/Documents/my_ws/edu/python/08_function.ipynb#Y133sZmlsZQ%3D%3D?line=0'>1</a>\u001b[0m result \u001b[39m=\u001b[39m \u001b[39mprint\u001b[39m(\u001b[39m1\u001b[39m)\n\u001b[0;32m----> <a href='vscode-notebook-cell:/Users/yh/Documents/my_ws/edu/python/08_function.ipynb#Y133sZmlsZQ%3D%3D?line=1'>2</a>\u001b[0m \u001b[39m1\u001b[39;49m \u001b[39m+\u001b[39;49m result\n",
      "\u001b[0;31mTypeError\u001b[0m: unsupported operand type(s) for +: 'int' and 'NoneType'"
     ]
    }
   ],
   "source": [
    "result = print(1)\n",
    "1 + result"
   ]
  },
  {
   "cell_type": "markdown",
   "id": "4071dc02",
   "metadata": {},
   "source": [
    "## 5. 매개변수 타입 힌트와 docstring"
   ]
  },
  {
   "cell_type": "code",
   "execution_count": 96,
   "id": "93c51b5c",
   "metadata": {},
   "outputs": [],
   "source": [
    "def my_sum(num1 : int, num2 : int, num3 : int) -> int:\n",
    "    \"\"\"\n",
    "    이 함수는 숫자 3개를 입력 받습니다.\n",
    "    입력받은 정수 데이터 3개를 합산합니다.\n",
    "    \"\"\"\n",
    "    return num1 + num2 + num3"
   ]
  },
  {
   "cell_type": "code",
   "execution_count": 97,
   "id": "1d527a4e",
   "metadata": {},
   "outputs": [
    {
     "data": {
      "text/plain": [
       "6"
      ]
     },
     "execution_count": 97,
     "metadata": {},
     "output_type": "execute_result"
    }
   ],
   "source": [
    "my_sum(1, 2, 3)"
   ]
  },
  {
   "cell_type": "code",
   "execution_count": 98,
   "id": "d61b6d41",
   "metadata": {},
   "outputs": [
    {
     "name": "stdout",
     "output_type": "stream",
     "text": [
      "Help on function my_sum in module __main__:\n",
      "\n",
      "my_sum(num1: int, num2: int, num3: int) -> int\n",
      "    이 함수는 숫자 3개를 입력 받습니다.\n",
      "    입력받은 정수 데이터 3개를 합산합니다.\n",
      "\n"
     ]
    }
   ],
   "source": [
    "help(my_sum)"
   ]
  },
  {
   "cell_type": "markdown",
   "id": "50ec296b",
   "metadata": {},
   "source": [
    "## 6. `*args, **kwargs`"
   ]
  },
  {
   "cell_type": "markdown",
   "id": "2c4ce6d5",
   "metadata": {},
   "source": [
    "### 6-1. `*args`"
   ]
  },
  {
   "cell_type": "code",
   "execution_count": 101,
   "id": "2658a1d3",
   "metadata": {},
   "outputs": [
    {
     "name": "stdout",
     "output_type": "stream",
     "text": [
      "1 2 3 4 text [1, 2, 3]\n"
     ]
    }
   ],
   "source": [
    "print(1, 2, 3, 4, \"text\", [1, 2, 3])"
   ]
  },
  {
   "cell_type": "code",
   "execution_count": 99,
   "id": "61bc85a6",
   "metadata": {},
   "outputs": [],
   "source": [
    "def my_print_func(value):\n",
    "    print(value)"
   ]
  },
  {
   "cell_type": "code",
   "execution_count": 102,
   "id": "67691d06",
   "metadata": {},
   "outputs": [
    {
     "ename": "TypeError",
     "evalue": "my_print_func() takes 1 positional argument but 5 were given",
     "output_type": "error",
     "traceback": [
      "\u001b[0;31m---------------------------------------------------------------------------\u001b[0m",
      "\u001b[0;31mTypeError\u001b[0m                                 Traceback (most recent call last)",
      "\u001b[1;32m/Users/yh/Documents/my_ws/edu/python/08_function.ipynb Cell 60\u001b[0m line \u001b[0;36m1\n\u001b[0;32m----> <a href='vscode-notebook-cell:/Users/yh/Documents/my_ws/edu/python/08_function.ipynb#Y134sZmlsZQ%3D%3D?line=0'>1</a>\u001b[0m my_print_func(\u001b[39m\"\u001b[39;49m\u001b[39mtext\u001b[39;49m\u001b[39m\"\u001b[39;49m, \u001b[39m1\u001b[39;49m, \u001b[39m2\u001b[39;49m, \u001b[39m3\u001b[39;49m, \u001b[39m4\u001b[39;49m)\n",
      "\u001b[0;31mTypeError\u001b[0m: my_print_func() takes 1 positional argument but 5 were given"
     ]
    }
   ],
   "source": [
    "my_print_func(\"text\", 1, 2, 3, 4)"
   ]
  },
  {
   "cell_type": "code",
   "execution_count": 103,
   "id": "53d48325",
   "metadata": {},
   "outputs": [],
   "source": [
    "def my_print_func_args(*args):\n",
    "    print(args)"
   ]
  },
  {
   "cell_type": "code",
   "execution_count": 108,
   "id": "09cc7f51",
   "metadata": {},
   "outputs": [
    {
     "name": "stdout",
     "output_type": "stream",
     "text": [
      "('text',)\n",
      "(1,)\n",
      "(1, 2)\n",
      "(1, 2, 3, 4, 5, 6, 'text', 'python', [1, 2, 3])\n"
     ]
    }
   ],
   "source": [
    "my_print_func_args(\"text\")\n",
    "my_print_func_args(1)\n",
    "my_print_func_args(1, 2)\n",
    "my_print_func_args(1, 2, 3, 4, 5, 6, \"text\", \"python\", [1, 2, 3])"
   ]
  },
  {
   "cell_type": "code",
   "execution_count": 110,
   "id": "e0801873",
   "metadata": {},
   "outputs": [
    {
     "name": "stdout",
     "output_type": "stream",
     "text": [
      "[1, 2, 3]\n",
      "1 2 3\n"
     ]
    }
   ],
   "source": [
    "# unpacking\n",
    "ls = [1, 2, 3]  # iterable\n",
    "print(ls)\n",
    "print(*ls)  # *iterable"
   ]
  },
  {
   "cell_type": "code",
   "execution_count": 113,
   "id": "2ded0bc7",
   "metadata": {},
   "outputs": [],
   "source": [
    "def my_print_func_args(*args):\n",
    "    for arg in args:\n",
    "        print(arg)"
   ]
  },
  {
   "cell_type": "code",
   "execution_count": 114,
   "id": "f63f5de7",
   "metadata": {},
   "outputs": [
    {
     "name": "stdout",
     "output_type": "stream",
     "text": [
      "1\n",
      "2\n",
      "3\n",
      "4\n"
     ]
    }
   ],
   "source": [
    "my_print_func_args(1, 2, 3, 4)"
   ]
  },
  {
   "cell_type": "code",
   "execution_count": 115,
   "id": "da850e19",
   "metadata": {},
   "outputs": [],
   "source": [
    "def calc_avg(*args):\n",
    "    print(sum(args))\n",
    "    print(len(args))\n",
    "    print(sum(args) / len(args))"
   ]
  },
  {
   "cell_type": "code",
   "execution_count": 116,
   "id": "65b9c010",
   "metadata": {},
   "outputs": [
    {
     "name": "stdout",
     "output_type": "stream",
     "text": [
      "60\n",
      "3\n",
      "20.0\n"
     ]
    }
   ],
   "source": [
    "calc_avg(10, 20, 30)"
   ]
  },
  {
   "cell_type": "markdown",
   "id": "f5f5c880",
   "metadata": {},
   "source": [
    "## 6-2. `**kwargs`"
   ]
  },
  {
   "cell_type": "code",
   "execution_count": 121,
   "id": "a5825c80",
   "metadata": {},
   "outputs": [],
   "source": [
    "# keyword argument unpacking \n",
    "def func_kwargs(**kwargs):\n",
    "    print(kwargs)\n",
    "    print(kwargs['skill'])\n",
    "    print(kwargs['level'])"
   ]
  },
  {
   "cell_type": "code",
   "execution_count": 122,
   "id": "5f0219e7",
   "metadata": {},
   "outputs": [
    {
     "name": "stdout",
     "output_type": "stream",
     "text": [
      "{'skill': 'python', 'level': 3}\n",
      "python\n",
      "3\n"
     ]
    }
   ],
   "source": [
    "# func_kwargs(name=\"codelion\", age=5)\n",
    "func_kwargs(skill=\"python\", level=3)"
   ]
  },
  {
   "cell_type": "markdown",
   "id": "8a25fe2b",
   "metadata": {},
   "source": [
    "## 6-3. 함수 매개변수 혼합"
   ]
  },
  {
   "cell_type": "code",
   "execution_count": 129,
   "id": "0dc89b47",
   "metadata": {},
   "outputs": [],
   "source": [
    "%reset"
   ]
  },
  {
   "cell_type": "code",
   "execution_count": 130,
   "id": "2269dad9",
   "metadata": {},
   "outputs": [],
   "source": [
    "def calc_avg(unit, *args):\n",
    "    print(sum(args) / len(args), unit)"
   ]
  },
  {
   "cell_type": "code",
   "execution_count": 136,
   "id": "858771c4",
   "metadata": {},
   "outputs": [
    {
     "ename": "TypeError",
     "evalue": "unsupported operand type(s) for +: 'int' and 'str'",
     "output_type": "error",
     "traceback": [
      "\u001b[0;31m---------------------------------------------------------------------------\u001b[0m",
      "\u001b[0;31mTypeError\u001b[0m                                 Traceback (most recent call last)",
      "\u001b[1;32m/Users/yh/Documents/my_ws/edu/python/08_function.ipynb Cell 74\u001b[0m line \u001b[0;36m1\n\u001b[0;32m----> <a href='vscode-notebook-cell:/Users/yh/Documents/my_ws/edu/python/08_function.ipynb#Y211sZmlsZQ%3D%3D?line=0'>1</a>\u001b[0m calc_avg(\u001b[39m1\u001b[39;49m, \u001b[39m2\u001b[39;49m, \u001b[39m3\u001b[39;49m, \u001b[39m\"\u001b[39;49m\u001b[39mtext\u001b[39;49m\u001b[39m\"\u001b[39;49m)\n",
      "\u001b[1;32m/Users/yh/Documents/my_ws/edu/python/08_function.ipynb Cell 74\u001b[0m line \u001b[0;36m2\n\u001b[1;32m      <a href='vscode-notebook-cell:/Users/yh/Documents/my_ws/edu/python/08_function.ipynb#Y211sZmlsZQ%3D%3D?line=0'>1</a>\u001b[0m \u001b[39mdef\u001b[39;00m \u001b[39mcalc_avg\u001b[39m(unit, \u001b[39m*\u001b[39margs):\n\u001b[0;32m----> <a href='vscode-notebook-cell:/Users/yh/Documents/my_ws/edu/python/08_function.ipynb#Y211sZmlsZQ%3D%3D?line=1'>2</a>\u001b[0m     \u001b[39mprint\u001b[39m(\u001b[39msum\u001b[39;49m(args) \u001b[39m/\u001b[39m \u001b[39mlen\u001b[39m(args), unit)\n",
      "\u001b[0;31mTypeError\u001b[0m: unsupported operand type(s) for +: 'int' and 'str'"
     ]
    }
   ],
   "source": [
    "calc_avg(1, 2, 3, \"text\")"
   ]
  },
  {
   "cell_type": "code",
   "execution_count": 142,
   "id": "92f5d414",
   "metadata": {},
   "outputs": [
    {
     "name": "stdout",
     "output_type": "stream",
     "text": [
      "30.0 inch\n"
     ]
    }
   ],
   "source": [
    "def calc_avg(*args, unit=\"cm\"):\n",
    "    print(sum(args) / len(args), unit)\n",
    "\n",
    "calc_avg(10, 20, 30, 40, 50, unit=\"inch\")"
   ]
  },
  {
   "cell_type": "code",
   "execution_count": 154,
   "id": "b9b8b525",
   "metadata": {},
   "outputs": [],
   "source": [
    "# 모든 매개변수 조합\n",
    "def combination_func(x, y, z, *args, batch_size=16, epochs=1000, **kwargs):\n",
    "    print(x, y, z, args, batch_size, epochs, kwargs)"
   ]
  },
  {
   "cell_type": "code",
   "execution_count": 157,
   "id": "e359f663",
   "metadata": {},
   "outputs": [
    {
     "name": "stdout",
     "output_type": "stream",
     "text": [
      "1 2 3 (4, 5, 6, 7, 8, 9, 10) 8 300 {'skill': 'deeplearning'}\n"
     ]
    }
   ],
   "source": [
    "combination_func(1, 2, 3, 4, 5, 6, 7, 8, 9, 10, batch_size=8, epochs=300, skill=\"deeplearning\")"
   ]
  },
  {
   "cell_type": "code",
   "execution_count": 161,
   "id": "6f826f93",
   "metadata": {},
   "outputs": [
    {
     "ename": "SyntaxError",
     "evalue": "positional argument follows keyword argument (2002628239.py, line 5)",
     "output_type": "error",
     "traceback": [
      "\u001b[0;36m  Cell \u001b[0;32mIn[161], line 5\u001b[0;36m\u001b[0m\n\u001b[0;31m    args_kwargs_func(1, 2, 3, batch_size=32, 4, 5, 6)\u001b[0m\n\u001b[0m                                             ^\u001b[0m\n\u001b[0;31mSyntaxError\u001b[0m\u001b[0;31m:\u001b[0m positional argument follows keyword argument\n"
     ]
    }
   ],
   "source": [
    "# positional argument 는 keyword argument 보다 앞에 있어야 한다\n",
    "def args_kwargs_func(*args, **kwargs):\n",
    "    print(args, kwargs)\n",
    "\n",
    "args_kwargs_func(1, 2, 3, batch_size=32, 4, 5, 6)"
   ]
  },
  {
   "cell_type": "markdown",
   "id": "813fbc5b",
   "metadata": {},
   "source": [
    "## [중간 타임]"
   ]
  },
  {
   "cell_type": "code",
   "execution_count": 169,
   "id": "98975b34",
   "metadata": {},
   "outputs": [
    {
     "name": "stdout",
     "output_type": "stream",
     "text": [
      "1and2and3and4andtextand[1, 2, 3]and(1, 2, 3)and{'key': 'value'}\n",
      "1 2 3\n"
     ]
    }
   ],
   "source": [
    "# help(print)\n",
    "print(1, 2, 3, 4, \"text\", [1, 2, 3], (1, 2, 3), {\"key\":\"value\"}, sep=\"and\", end=\"\\n\")\n",
    "print(1, 2, 3 )"
   ]
  },
  {
   "cell_type": "code",
   "execution_count": 172,
   "id": "6002375d",
   "metadata": {},
   "outputs": [
    {
     "ename": "SyntaxError",
     "evalue": "positional argument follows keyword argument (4284551881.py, line 2)",
     "output_type": "error",
     "traceback": [
      "\u001b[0;36m  Cell \u001b[0;32mIn[172], line 2\u001b[0;36m\u001b[0m\n\u001b[0;31m    print(\"hello\", sep=\"-\", \"\\t\")\u001b[0m\n\u001b[0m                            ^\u001b[0m\n\u001b[0;31mSyntaxError\u001b[0m\u001b[0;31m:\u001b[0m positional argument follows keyword argument\n"
     ]
    }
   ],
   "source": [
    "# print(sep=\"-\", \"hello\")\n",
    "print(\"hello\", sep=\"-\", \"\\t\")"
   ]
  },
  {
   "cell_type": "markdown",
   "id": "079a931c",
   "metadata": {},
   "source": [
    "## 7. 스코프 (scope)\n",
    "- 함수 안에서 선언되는 변수\n",
    "    - 지역변수\n",
    "    - local \n",
    "- 함수 밖에서 선언되는 변수\n",
    "    - 전역변수\n",
    "    - global "
   ]
  },
  {
   "cell_type": "code",
   "execution_count": 175,
   "id": "ad95186b",
   "metadata": {},
   "outputs": [
    {
     "name": "stdout",
     "output_type": "stream",
     "text": [
      "10\n"
     ]
    }
   ],
   "source": [
    "\n",
    "\n",
    "def my_function():\n",
    "    x = 10  # x는 지역 변수\n",
    "    print(x)\n",
    "\n",
    "my_function()  # x 지역 변수에 접근해서 코드를 사용\n",
    "\n"
   ]
  },
  {
   "cell_type": "code",
   "execution_count": 177,
   "id": "6d65dd2d",
   "metadata": {},
   "outputs": [
    {
     "name": "stdout",
     "output_type": "stream",
     "text": [
      "100\n"
     ]
    }
   ],
   "source": [
    "\n",
    "\n",
    "y = 100  # 전역변수\n",
    "\n",
    "def my_function():\n",
    "    print(y)\n",
    "\n",
    "my_function()\n",
    "\n"
   ]
  },
  {
   "cell_type": "code",
   "execution_count": 178,
   "id": "307f713d",
   "metadata": {},
   "outputs": [
    {
     "name": "stdout",
     "output_type": "stream",
     "text": [
      "지역변수 10\n",
      "전역변수 20\n"
     ]
    }
   ],
   "source": [
    "y = 20  # 전역변수 y\n",
    "\n",
    "def my_function():\n",
    "    y = 10  # 지역변수 y\n",
    "    print('지역변수', y)  \n",
    "\n",
    "my_function()  # y의 결과는?\n",
    "print('전역변수', y)"
   ]
  },
  {
   "cell_type": "code",
   "execution_count": 189,
   "id": "4e1529c6",
   "metadata": {},
   "outputs": [
    {
     "name": "stdout",
     "output_type": "stream",
     "text": [
      "지역변수 100\n",
      "전역변수 100\n"
     ]
    }
   ],
   "source": [
    "x = 10  # x는 전역 변수 \n",
    "\n",
    "# 함수 선언\n",
    "def modify_global_variable():\n",
    "    global x  # 전역 변수 x 를 함수 내부에서 사용\n",
    "    x = 100  # 전역 변수 x를 100으로 변경\n",
    "    print('지역변수', x)\n",
    "\n",
    "# 함수 호출\n",
    "modify_global_variable()  # x 값이 100으로 바뀌고, 전역변수 x의 값도 100으로 다시 할당\n",
    "print('전역변수', x)"
   ]
  },
  {
   "cell_type": "code",
   "execution_count": 187,
   "id": "8a768beb",
   "metadata": {},
   "outputs": [
    {
     "name": "stdout",
     "output_type": "stream",
     "text": [
      "10\n"
     ]
    }
   ],
   "source": [
    "x = 100 \n",
    "x = 10 \n",
    "\n",
    "print(x)"
   ]
  },
  {
   "cell_type": "markdown",
   "id": "7cc4f69e",
   "metadata": {},
   "source": [
    "## 8. 람다 (lambda)\n",
    "- 함수를 한 줄로 간단하게 표현\n",
    "- 간단한 연산을 수행하거나 하는 상황에 사용\n",
    "\n",
    "```python\n",
    "lambda argument: expression(표현식)\n",
    "```\n",
    "\n",
    "- lambda: 람다 함수를 정의하기 위한 파이썬 예약어\n",
    "- argument: 함수 호출시 전달하는 매개변수\n",
    "- expression: 함수가 실행될 때 반환할 식을 나타내는 부분"
   ]
  },
  {
   "cell_type": "code",
   "execution_count": 190,
   "id": "435b54f5",
   "metadata": {},
   "outputs": [
    {
     "data": {
      "text/plain": [
       "3"
      ]
     },
     "execution_count": 190,
     "metadata": {},
     "output_type": "execute_result"
    }
   ],
   "source": [
    "# original func \n",
    "def origin_func_plus(a, b):\n",
    "    return a + b\n",
    "\n",
    "origin_func_plus(1, 2)"
   ]
  },
  {
   "cell_type": "code",
   "execution_count": 192,
   "id": "12093335",
   "metadata": {},
   "outputs": [
    {
     "data": {
      "text/plain": [
       "<function __main__.<lambda>(a, b)>"
      ]
     },
     "execution_count": 192,
     "metadata": {},
     "output_type": "execute_result"
    }
   ],
   "source": [
    "# lambda \n",
    "lambda a, b: a + b(1, 2)"
   ]
  },
  {
   "cell_type": "code",
   "execution_count": 193,
   "id": "25af22eb",
   "metadata": {},
   "outputs": [
    {
     "data": {
      "text/plain": [
       "3"
      ]
     },
     "execution_count": 193,
     "metadata": {},
     "output_type": "execute_result"
    }
   ],
   "source": [
    "lambda_func_plus = lambda a, b: a + b\n",
    "lambda_func_plus(1, 2)"
   ]
  },
  {
   "cell_type": "code",
   "execution_count": 196,
   "id": "f83885b8",
   "metadata": {},
   "outputs": [],
   "source": [
    "def calc(func, num1, num2):\n",
    "    return func(num1, num2)\n",
    "\n",
    "def plus(num1, num2):\n",
    "    return num1 + num2"
   ]
  },
  {
   "cell_type": "code",
   "execution_count": 197,
   "id": "16695e1c",
   "metadata": {},
   "outputs": [
    {
     "data": {
      "text/plain": [
       "3"
      ]
     },
     "execution_count": 197,
     "metadata": {},
     "output_type": "execute_result"
    }
   ],
   "source": [
    "calc(plus, 1, 2)"
   ]
  },
  {
   "cell_type": "code",
   "execution_count": 198,
   "id": "36c9502d",
   "metadata": {},
   "outputs": [
    {
     "data": {
      "text/plain": [
       "-1"
      ]
     },
     "execution_count": 198,
     "metadata": {},
     "output_type": "execute_result"
    }
   ],
   "source": [
    "calc(lambda num1, num2: num1 - num2, 1, 2)"
   ]
  },
  {
   "cell_type": "markdown",
   "id": "66d64716",
   "metadata": {},
   "source": [
    "## 9. 함수 예제\n",
    "- 날씨 정보 가져오기 -> 함수\n",
    "- 리팩토링"
   ]
  },
  {
   "cell_type": "code",
   "execution_count": 210,
   "id": "913cafba",
   "metadata": {},
   "outputs": [
    {
     "name": "stdout",
     "output_type": "stream",
     "text": [
      "Clear\n",
      "25.02\n"
     ]
    }
   ],
   "source": [
    "# 함수 사용 전\n",
    "import requests\n",
    "import json\n",
    "\n",
    "city = 'Seoul'\n",
    "apikey = '720d7f9e604a5f0785728eca2145f223'\n",
    "lang = 'kr'\n",
    "api = f'https://api.openweathermap.org/data/2.5/weather?q={city}&appid={apikey}&lang={lang}&units=metric'\n",
    "\n",
    "response = requests.get(api)\n",
    "data = json.loads(response.text)\n",
    "\n",
    "print(data['weather'][0]['main'])\n",
    "print(data['main']['temp'])"
   ]
  },
  {
   "cell_type": "code",
   "execution_count": 221,
   "id": "e89f0a5b",
   "metadata": {},
   "outputs": [],
   "source": [
    "# 함수 사용\n",
    "import requests\n",
    "import json \n",
    "\n",
    "# 함수 선언\n",
    "def get_weather_info(city, apikey='720d7f9e604a5f0785728eca2145f223', lang='kr'):\n",
    "    api = f'https://api.openweathermap.org/data/2.5/weather?q={city}&appid={apikey}&lang={lang}&units=metric'\n",
    "    response = requests.get(api)\n",
    "\n",
    "    if response.status_code == 200:\n",
    "        data = json.loads(response.text)\n",
    "        weather = data['weather'][0]['main']\n",
    "        temp = data['main']['temp']\n",
    "        return weather, temp\n",
    "    else:\n",
    "        print('요청 실패! 무언가 잘못된 것 같습니다..')"
   ]
  },
  {
   "cell_type": "code",
   "execution_count": 228,
   "id": "e0ce3447",
   "metadata": {},
   "outputs": [
    {
     "name": "stdout",
     "output_type": "stream",
     "text": [
      "Clear\n",
      "25.19\n"
     ]
    }
   ],
   "source": [
    "# 함수 호출\n",
    "weather, temp = get_weather_info('Seoul')\n",
    "print(weather)\n",
    "print(temp)"
   ]
  },
  {
   "cell_type": "code",
   "execution_count": null,
   "id": "3c089fa4",
   "metadata": {},
   "outputs": [],
   "source": []
  }
 ],
 "metadata": {
  "kernelspec": {
   "display_name": "test_venv",
   "language": "python",
   "name": "python3"
  },
  "language_info": {
   "codemirror_mode": {
    "name": "ipython",
    "version": 3
   },
   "file_extension": ".py",
   "mimetype": "text/x-python",
   "name": "python",
   "nbconvert_exporter": "python",
   "pygments_lexer": "ipython3",
   "version": "3.8.18"
  }
 },
 "nbformat": 4,
 "nbformat_minor": 5
}
