{
 "cells": [
  {
   "cell_type": "markdown",
   "id": "032e968c",
   "metadata": {},
   "source": [
    "# 파이썬 문법"
   ]
  },
  {
   "cell_type": "markdown",
   "id": "2aec536d",
   "metadata": {},
   "source": [
    "# 1. print() 출력 함수"
   ]
  },
  {
   "cell_type": "code",
   "execution_count": 2,
   "id": "385f52b8",
   "metadata": {},
   "outputs": [
    {
     "name": "stdout",
     "output_type": "stream",
     "text": [
      "1\n"
     ]
    }
   ],
   "source": [
    "print(1)"
   ]
  },
  {
   "cell_type": "code",
   "execution_count": 3,
   "id": "b2bd3406",
   "metadata": {},
   "outputs": [
    {
     "name": "stdout",
     "output_type": "stream",
     "text": [
      "2\n"
     ]
    }
   ],
   "source": [
    "print(2)"
   ]
  },
  {
   "cell_type": "code",
   "execution_count": 4,
   "id": "02335cfc",
   "metadata": {},
   "outputs": [
    {
     "name": "stdout",
     "output_type": "stream",
     "text": [
      "1\n",
      "2\n"
     ]
    }
   ],
   "source": [
    "a = 1\n",
    "b = 2\n",
    "print(a)\n",
    "print(b)"
   ]
  },
  {
   "cell_type": "code",
   "execution_count": 7,
   "id": "4d29176e",
   "metadata": {},
   "outputs": [
    {
     "name": "stdout",
     "output_type": "stream",
     "text": [
      "1\t2\n"
     ]
    }
   ],
   "source": [
    "#print() 함수의 옵션\n",
    "#docstring(shift + tab)\n",
    "#함수에 대한 설명\n",
    "print(1, 2, sep='\\t')"
   ]
  },
  {
   "cell_type": "code",
   "execution_count": 8,
   "id": "00932e83",
   "metadata": {},
   "outputs": [
    {
     "name": "stdout",
     "output_type": "stream",
     "text": [
      "3\n"
     ]
    }
   ],
   "source": [
    "#자동완성\n",
    "print(3)"
   ]
  },
  {
   "cell_type": "code",
   "execution_count": 9,
   "id": "c484c4df",
   "metadata": {},
   "outputs": [
    {
     "name": "stdout",
     "output_type": "stream",
     "text": [
      "자동완성\n",
      "오타를 방지할 수 있습니다\n"
     ]
    }
   ],
   "source": [
    "print('자동완성')\n",
    "print('오타를 방지할 수 있습니다')"
   ]
  },
  {
   "cell_type": "markdown",
   "id": "723d086c",
   "metadata": {},
   "source": [
    "# 2. 주석(comment)"
   ]
  },
  {
   "cell_type": "code",
   "execution_count": 10,
   "id": "f6b09546",
   "metadata": {},
   "outputs": [],
   "source": [
    "#주석 : 앞에 #를 붙이면 파이썬 코드로 실행하지 않습니다.\n",
    "#코드에 대한 설명이나 특정 코드를 실행시키고 싶지 않을 때 사용\n",
    "#ctrl(cmd) + /"
   ]
  },
  {
   "cell_type": "code",
   "execution_count": 11,
   "id": "a8e58101",
   "metadata": {},
   "outputs": [
    {
     "name": "stdout",
     "output_type": "stream",
     "text": [
      "1\n",
      "3\n"
     ]
    }
   ],
   "source": [
    "print(1)\n",
    "# print(2)\n",
    "print(3) # 이 코드는 3을 출력하는 print 함수 입니다."
   ]
  },
  {
   "cell_type": "markdown",
   "id": "fc6584b2",
   "metadata": {},
   "source": [
    "## 3. 변수 선언\n",
    "- RAM이라는 자장공간에 값을 할당"
   ]
  },
  {
   "cell_type": "code",
   "execution_count": 13,
   "id": "242d92a4",
   "metadata": {},
   "outputs": [
    {
     "name": "stdout",
     "output_type": "stream",
     "text": [
      "1\n"
     ]
    }
   ],
   "source": [
    "#a 는 1 이다 (X)\n",
    "#1 이라는 정수값을 a에 할당했다(O)\n",
    "a = 1\n",
    "print(a)"
   ]
  },
  {
   "cell_type": "code",
   "execution_count": 14,
   "id": "00b91fbb",
   "metadata": {},
   "outputs": [
    {
     "name": "stdout",
     "output_type": "stream",
     "text": [
      "3\n",
      "4\n"
     ]
    }
   ],
   "source": [
    "#3,4 값을 각각 'd, e' 변수에 할당\n",
    "d = 3\n",
    "e = 4\n",
    "print(d)\n",
    "print(e)"
   ]
  },
  {
   "cell_type": "code",
   "execution_count": 15,
   "id": "ca3f627f",
   "metadata": {},
   "outputs": [
    {
     "name": "stdout",
     "output_type": "stream",
     "text": [
      "5\n",
      "5\n"
     ]
    }
   ],
   "source": [
    "f = 5\n",
    "g = 5\n",
    "print(f)\n",
    "print(g)"
   ]
  },
  {
   "cell_type": "code",
   "execution_count": 16,
   "id": "63ce87c1",
   "metadata": {},
   "outputs": [
    {
     "ename": "NameError",
     "evalue": "name 'z' is not defined",
     "output_type": "error",
     "traceback": [
      "\u001b[1;31m---------------------------------------------------------------------------\u001b[0m",
      "\u001b[1;31mNameError\u001b[0m                                 Traceback (most recent call last)",
      "Cell \u001b[1;32mIn[16], line 2\u001b[0m\n\u001b[0;32m      1\u001b[0m \u001b[38;5;66;03m#코드 에러 발생 시, 맨 밑부터 확인\u001b[39;00m\n\u001b[1;32m----> 2\u001b[0m \u001b[38;5;28mprint\u001b[39m(z)\n",
      "\u001b[1;31mNameError\u001b[0m: name 'z' is not defined"
     ]
    }
   ],
   "source": [
    "#코드 에러 발생 시, 맨 밑부터 확인\n",
    "#할당되지 않은 변수 출력한 상황\n",
    "print(z)"
   ]
  },
  {
   "cell_type": "markdown",
   "id": "a3f05375",
   "metadata": {},
   "source": [
    "# 4. 식별자\n",
    "- 변수, 함수, 클래스, 모듈 등의 이름을 식별자라고 합니다.\n",
    "- 식별자 규칙\n",
    "    - 소문자, 대문자, 숫자, 언더스코어(_) 사용\n",
    "    - 가장 앞에 숫자 사용 불가\n",
    "    - 예약어 사용 불가\n",
    "        - def, class, list, str, int, float....\n",
    "    - 컨벤션\n",
    "        - snake case : python_basic\n",
    "        - camel case : Pythonbasic\n",
    "            "
   ]
  },
  {
   "cell_type": "code",
   "execution_count": 17,
   "id": "36bab421",
   "metadata": {},
   "outputs": [],
   "source": [
    "# 가능한 형태\n",
    "name = 'seongjin'\n",
    "age = 24\n",
    "my_var = 3.14\n",
    "hello_word = 'Hello, World'\n",
    "IsValid = True"
   ]
  },
  {
   "cell_type": "code",
   "execution_count": 21,
   "id": "bc624c57",
   "metadata": {},
   "outputs": [
    {
     "ename": "SyntaxError",
     "evalue": "invalid syntax (4228384057.py, line 5)",
     "output_type": "error",
     "traceback": [
      "\u001b[1;36m  Cell \u001b[1;32mIn[21], line 5\u001b[1;36m\u001b[0m\n\u001b[1;33m    hello word = 'Hello world'\u001b[0m\n\u001b[1;37m          ^\u001b[0m\n\u001b[1;31mSyntaxError\u001b[0m\u001b[1;31m:\u001b[0m invalid syntax\n"
     ]
    }
   ],
   "source": [
    "# 불가능한 형태\n",
    "def = 'func'  # 예약어를 식별자로 사용\n",
    "first-name = 'John'  # 특수문자를 식별자로 사용\n",
    "2nd_number = 42    # 숫자로 시작하는 식별자\n",
    "hello word = 'Hello world' # 공백을 포함한 식별자"
   ]
  },
  {
   "cell_type": "markdown",
   "id": "e31895b9",
   "metadata": {},
   "source": [
    "## 5. 데이터 타입\n",
    "- RAM 저장공간을 효율적으로 사용하기 위해서 저장공간의 타입을 설정"
   ]
  },
  {
   "cell_type": "markdown",
   "id": "943e7130",
   "metadata": {},
   "source": [
    "- 동적타이핑\n",
    "    - 변수 선언시 저장되는 값에 따라 자동으로 데이터 타입 결정\n",
    "- 정적타이핑\n",
    "    - 변수 선언 시 데이터 타입을 직접 설정 후 할당\n",
    "    "
   ]
  },
  {
   "cell_type": "markdown",
   "id": "b768482e",
   "metadata": {},
   "source": [
    "- 데이터 타입\n",
    "    - int,float,str,bool\n",
    "    - list,tuple,dict"
   ]
  },
  {
   "cell_type": "code",
   "execution_count": 22,
   "id": "30550e69",
   "metadata": {},
   "outputs": [
    {
     "data": {
      "text/plain": [
       "(int, str)"
      ]
     },
     "execution_count": 22,
     "metadata": {},
     "output_type": "execute_result"
    }
   ],
   "source": [
    "a = 1 #integer 정수\n",
    "b = 'python' # string 문자(글자)\n",
    "type(a), type(b)"
   ]
  },
  {
   "cell_type": "markdown",
   "id": "9f4473e3",
   "metadata": {},
   "source": [
    "### 5-1. 기본 데이터 타입\n",
    "- int: 정수\n",
    "    - 1, 2, 3\n",
    "- float: 소수점\n",
    "    - 1.0, 3.14, -5.0\n",
    "- str: 문자(글자)\n",
    "    -'python', 'string', '''three''','''four'''\n",
    "- bool: 논리값\n",
    "    - True False"
   ]
  },
  {
   "cell_type": "code",
   "execution_count": 23,
   "id": "f67b3524",
   "metadata": {},
   "outputs": [
    {
     "data": {
      "text/plain": [
       "(int, float, str, bool, str)"
      ]
     },
     "execution_count": 23,
     "metadata": {},
     "output_type": "execute_result"
    }
   ],
   "source": [
    "a = 1\n",
    "b = 1.2\n",
    "c = 'True'\n",
    "d = True\n",
    "f = '1.2'\n",
    "type(a), type(b), type(c), type(d), type(f)"
   ]
  },
  {
   "cell_type": "code",
   "execution_count": 24,
   "id": "e8ac50bf",
   "metadata": {},
   "outputs": [
    {
     "name": "stdout",
     "output_type": "stream",
     "text": [
      "False\n",
      "True\n"
     ]
    }
   ],
   "source": [
    "print(a == b)\n",
    "print(a == a)"
   ]
  },
  {
   "cell_type": "code",
   "execution_count": 25,
   "id": "b2086f59",
   "metadata": {},
   "outputs": [
    {
     "name": "stdout",
     "output_type": "stream",
     "text": [
      "2\n"
     ]
    }
   ],
   "source": [
    "print(a + 1)"
   ]
  },
  {
   "cell_type": "code",
   "execution_count": 26,
   "id": "6e96bc8f",
   "metadata": {},
   "outputs": [
    {
     "name": "stdout",
     "output_type": "stream",
     "text": [
      "2.2\n"
     ]
    }
   ],
   "source": [
    "print(b + 1)"
   ]
  },
  {
   "cell_type": "code",
   "execution_count": 27,
   "id": "9b284ec7",
   "metadata": {},
   "outputs": [
    {
     "ename": "TypeError",
     "evalue": "can only concatenate str (not \"int\") to str",
     "output_type": "error",
     "traceback": [
      "\u001b[1;31m---------------------------------------------------------------------------\u001b[0m",
      "\u001b[1;31mTypeError\u001b[0m                                 Traceback (most recent call last)",
      "Cell \u001b[1;32mIn[27], line 1\u001b[0m\n\u001b[1;32m----> 1\u001b[0m \u001b[38;5;28mprint\u001b[39m(c \u001b[38;5;241m+\u001b[39m \u001b[38;5;241m1\u001b[39m)\n",
      "\u001b[1;31mTypeError\u001b[0m: can only concatenate str (not \"int\") to str"
     ]
    }
   ],
   "source": [
    "print(c + 1)"
   ]
  },
  {
   "cell_type": "code",
   "execution_count": 28,
   "id": "4006c5f6",
   "metadata": {},
   "outputs": [
    {
     "name": "stdout",
     "output_type": "stream",
     "text": [
      "2\n"
     ]
    }
   ],
   "source": [
    "#논리형 데이터는 연산 가능\n",
    "#True = 1\n",
    "print(d + 1)"
   ]
  },
  {
   "cell_type": "code",
   "execution_count": 29,
   "id": "68aafdad",
   "metadata": {},
   "outputs": [
    {
     "name": "stdout",
     "output_type": "stream",
     "text": [
      "2\n"
     ]
    }
   ],
   "source": [
    "#False = 0\n",
    "print(False + 2)"
   ]
  },
  {
   "cell_type": "markdown",
   "id": "8c3859f0",
   "metadata": {},
   "source": [
    "### 5-2 컨테이너 타입\n",
    "- list : 여러 개의 값을 순서대로 담을 수 있고, 수정이 가능한 데이터 타입\n",
    "- tuple: 리스트와 동일한 성격 가지는데, 수정이 불가능한 데이터 타입\n",
    "- dict: 순서가 없고 키(key)와 값(value)의 쌍으로 이루어진 데이터 타입"
   ]
  },
  {
   "cell_type": "code",
   "execution_count": 36,
   "id": "9cfd59a1",
   "metadata": {},
   "outputs": [
    {
     "name": "stdout",
     "output_type": "stream",
     "text": [
      "[1, 2, 3]\n"
     ]
    },
    {
     "data": {
      "text/plain": [
       "(None, list)"
      ]
     },
     "execution_count": 36,
     "metadata": {},
     "output_type": "execute_result"
    }
   ],
   "source": [
    "#list\n",
    "li = [1,2,3]\n",
    "print(li), type(li)"
   ]
  },
  {
   "cell_type": "code",
   "execution_count": 32,
   "id": "eeb92af1",
   "metadata": {},
   "outputs": [
    {
     "name": "stdout",
     "output_type": "stream",
     "text": [
      "(1, 2, 3)\n"
     ]
    },
    {
     "data": {
      "text/plain": [
       "(None, tuple)"
      ]
     },
     "execution_count": 32,
     "metadata": {},
     "output_type": "execute_result"
    }
   ],
   "source": [
    "#tuple\n",
    "tp = (1,2,3)\n",
    "print(tp), type(tp)"
   ]
  },
  {
   "cell_type": "code",
   "execution_count": null,
   "id": "4e650da1",
   "metadata": {},
   "outputs": [],
   "source": [
    "#dic\n",
    "dic ={'key':'value'}\n",
    "print(dic)"
   ]
  },
  {
   "cell_type": "markdown",
   "id": "fded4ffc",
   "metadata": {},
   "source": [
    "---"
   ]
  },
  {
   "cell_type": "code",
   "execution_count": 37,
   "id": "764a0eff",
   "metadata": {},
   "outputs": [],
   "source": [
    "# 1. 리스트 데이터 생성\n",
    "my_li = [1, 5, 4, 6, 111, 111, 10, 45, 3, 2]\n"
   ]
  },
  {
   "cell_type": "code",
   "execution_count": 38,
   "id": "9632a83d",
   "metadata": {},
   "outputs": [
    {
     "data": {
      "text/plain": [
       "10"
      ]
     },
     "execution_count": 38,
     "metadata": {},
     "output_type": "execute_result"
    }
   ],
   "source": [
    "# 2. 리스트 길이 확인\n",
    "len(my_li)"
   ]
  },
  {
   "cell_type": "code",
   "execution_count": 39,
   "id": "3b64f92b",
   "metadata": {},
   "outputs": [],
   "source": [
    "# 3. 리스트에 값 추가\n",
    "# append()\n",
    "\n",
    "my_li.append(111)"
   ]
  },
  {
   "cell_type": "code",
   "execution_count": 40,
   "id": "8d2e1a93",
   "metadata": {},
   "outputs": [
    {
     "name": "stdout",
     "output_type": "stream",
     "text": [
      "[1, 5, 4, 6, 111, 111, 10, 45, 3, 2, 111]\n"
     ]
    }
   ],
   "source": [
    "print(my_li)"
   ]
  },
  {
   "cell_type": "code",
   "execution_count": 41,
   "id": "be425ab3",
   "metadata": {},
   "outputs": [
    {
     "data": {
      "text/plain": [
       "11"
      ]
     },
     "execution_count": 41,
     "metadata": {},
     "output_type": "execute_result"
    }
   ],
   "source": [
    "len(my_li)"
   ]
  },
  {
   "cell_type": "code",
   "execution_count": 43,
   "id": "1983528d",
   "metadata": {},
   "outputs": [],
   "source": [
    "# 4. 데이터 2개 이상 추가\n",
    "my_li.append([112, 113])"
   ]
  },
  {
   "cell_type": "code",
   "execution_count": 44,
   "id": "09d9371f",
   "metadata": {},
   "outputs": [
    {
     "name": "stdout",
     "output_type": "stream",
     "text": [
      "[1, 5, 4, 6, 111, 111, 10, 45, 3, 2, 111, [112, 113]]\n"
     ]
    }
   ],
   "source": [
    "print(my_li)"
   ]
  },
  {
   "cell_type": "code",
   "execution_count": 45,
   "id": "67149dd2",
   "metadata": {},
   "outputs": [
    {
     "name": "stdout",
     "output_type": "stream",
     "text": [
      "[1, 5, 4, 6, 111, 111, 10, 45, 3, 2, 111, [112, 113], 14, 15]\n"
     ]
    }
   ],
   "source": [
    "# extend()\n",
    "my_li.extend([14,15])\n",
    "print(my_li)"
   ]
  },
  {
   "cell_type": "code",
   "execution_count": 46,
   "id": "b70ac642",
   "metadata": {},
   "outputs": [
    {
     "name": "stdout",
     "output_type": "stream",
     "text": [
      "[1, 10, 5, 4, 6, 111, 111, 10, 45, 3, 2, 111, [112, 113], 14, 15]\n"
     ]
    }
   ],
   "source": [
    "#insert()\n",
    "my_li.insert(1,10)\n",
    "print(my_li)"
   ]
  },
  {
   "cell_type": "code",
   "execution_count": 47,
   "id": "e115551a",
   "metadata": {},
   "outputs": [
    {
     "name": "stdout",
     "output_type": "stream",
     "text": [
      "True\n",
      "False\n"
     ]
    }
   ],
   "source": [
    "# 5. 리스트에 특정 값이 있는지 확인!\n",
    "# 'value' in list\n",
    "print(10 in my_li)\n",
    "print(999 in my_li)"
   ]
  },
  {
   "cell_type": "code",
   "execution_count": 48,
   "id": "5274c6e0",
   "metadata": {},
   "outputs": [],
   "source": [
    "# 6. 리스트에서 특정 값 제거\n",
    "# remove()\n",
    "my_li.remove(45)"
   ]
  },
  {
   "cell_type": "code",
   "execution_count": 49,
   "id": "6c581d19",
   "metadata": {},
   "outputs": [
    {
     "name": "stdout",
     "output_type": "stream",
     "text": [
      "[1, 10, 5, 4, 6, 111, 111, 10, 3, 2, 111, [112, 113], 14, 15]\n"
     ]
    }
   ],
   "source": [
    "print(my_li)"
   ]
  },
  {
   "cell_type": "code",
   "execution_count": 60,
   "id": "ee1495d7",
   "metadata": {},
   "outputs": [
    {
     "ename": "ValueError",
     "evalue": "list.remove(x): x not in list",
     "output_type": "error",
     "traceback": [
      "\u001b[1;31m---------------------------------------------------------------------------\u001b[0m",
      "\u001b[1;31mValueError\u001b[0m                                Traceback (most recent call last)",
      "Cell \u001b[1;32mIn[60], line 1\u001b[0m\n\u001b[1;32m----> 1\u001b[0m my_li\u001b[38;5;241m.\u001b[39mremove([\u001b[38;5;241m112\u001b[39m])\n",
      "\u001b[1;31mValueError\u001b[0m: list.remove(x): x not in list"
     ]
    }
   ],
   "source": [
    "my_li.remove([112])"
   ]
  },
  {
   "cell_type": "code",
   "execution_count": 51,
   "id": "fb7ec015",
   "metadata": {},
   "outputs": [
    {
     "data": {
      "text/plain": [
       "[1, 10, 5, 4, 6, 111, 111, 10, 3, 2, 111, [112, 113], 14, 15]"
      ]
     },
     "execution_count": 51,
     "metadata": {},
     "output_type": "execute_result"
    }
   ],
   "source": [
    "# 인덱싱 작업을 통해 112 데이터 삭제\n",
    "my_li"
   ]
  },
  {
   "cell_type": "code",
   "execution_count": 52,
   "id": "aa89c59d",
   "metadata": {},
   "outputs": [
    {
     "ename": "ValueError",
     "evalue": "list.remove(x): x not in list",
     "output_type": "error",
     "traceback": [
      "\u001b[1;31m---------------------------------------------------------------------------\u001b[0m",
      "\u001b[1;31mValueError\u001b[0m                                Traceback (most recent call last)",
      "Cell \u001b[1;32mIn[52], line 1\u001b[0m\n\u001b[1;32m----> 1\u001b[0m my_li\u001b[38;5;241m.\u001b[39mremove([\u001b[38;5;241m113\u001b[39m])\n",
      "\u001b[1;31mValueError\u001b[0m: list.remove(x): x not in list"
     ]
    }
   ],
   "source": [
    "my_li.remove([113])"
   ]
  },
  {
   "cell_type": "code",
   "execution_count": null,
   "id": "e1c1826f",
   "metadata": {},
   "outputs": [],
   "source": [
    "# 7. 리스트에서 특정 값 개수 세기\n",
    "#count()"
   ]
  },
  {
   "cell_type": "code",
   "execution_count": 56,
   "id": "9e3b9509",
   "metadata": {},
   "outputs": [
    {
     "data": {
      "text/plain": [
       "0"
      ]
     },
     "execution_count": 56,
     "metadata": {},
     "output_type": "execute_result"
    }
   ],
   "source": [
    "my_li.count(999)"
   ]
  },
  {
   "cell_type": "code",
   "execution_count": null,
   "id": "56c8a9a2",
   "metadata": {},
   "outputs": [],
   "source": [
    "# 8. 리스트 오름차순 정렬\n",
    "#sort()"
   ]
  },
  {
   "cell_type": "code",
   "execution_count": 59,
   "id": "932df319",
   "metadata": {},
   "outputs": [
    {
     "ename": "TypeError",
     "evalue": "'<' not supported between instances of 'list' and 'int'",
     "output_type": "error",
     "traceback": [
      "\u001b[1;31m---------------------------------------------------------------------------\u001b[0m",
      "\u001b[1;31mTypeError\u001b[0m                                 Traceback (most recent call last)",
      "Cell \u001b[1;32mIn[59], line 1\u001b[0m\n\u001b[1;32m----> 1\u001b[0m my_li\u001b[38;5;241m.\u001b[39msort()\n\u001b[0;32m      2\u001b[0m \u001b[38;5;28mprint\u001b[39m(my_li)\n",
      "\u001b[1;31mTypeError\u001b[0m: '<' not supported between instances of 'list' and 'int'"
     ]
    }
   ],
   "source": [
    "my_li.sort()\n",
    "print(my_li)"
   ]
  },
  {
   "cell_type": "code",
   "execution_count": null,
   "id": "1e0806be",
   "metadata": {},
   "outputs": [],
   "source": [
    "# 9. 리스트 데이터 복사\n",
    "# 얕은 복사와 깊은 복사"
   ]
  },
  {
   "cell_type": "code",
   "execution_count": null,
   "id": "27de742e",
   "metadata": {},
   "outputs": [],
   "source": [
    "- 얕은 복사 : 원본 데이터에 영향을 줍니다\n",
    "- 깊은 복사 : 원본 데이터에 영향을 주지 않습니다`"
   ]
  },
  {
   "cell_type": "code",
   "execution_count": 63,
   "id": "ad5a74ff",
   "metadata": {},
   "outputs": [],
   "source": [
    "li1 = [4,1,10]\n",
    "li2 = li1"
   ]
  },
  {
   "cell_type": "code",
   "execution_count": 64,
   "id": "d503e23c",
   "metadata": {},
   "outputs": [
    {
     "name": "stdout",
     "output_type": "stream",
     "text": [
      "[4, 1, 10]\n",
      "[4, 1, 10]\n"
     ]
    }
   ],
   "source": [
    "print(li1)\n",
    "print(li2)"
   ]
  },
  {
   "cell_type": "code",
   "execution_count": 65,
   "id": "89aad1db",
   "metadata": {},
   "outputs": [],
   "source": [
    "li2.sort()"
   ]
  },
  {
   "cell_type": "code",
   "execution_count": 66,
   "id": "6bb17443",
   "metadata": {},
   "outputs": [
    {
     "name": "stdout",
     "output_type": "stream",
     "text": [
      "[1, 4, 10]\n"
     ]
    }
   ],
   "source": [
    "print(li2)"
   ]
  },
  {
   "cell_type": "code",
   "execution_count": 67,
   "id": "71159f83",
   "metadata": {},
   "outputs": [
    {
     "name": "stdout",
     "output_type": "stream",
     "text": [
      "[1, 4, 10]\n"
     ]
    }
   ],
   "source": [
    "print(li1)"
   ]
  },
  {
   "cell_type": "code",
   "execution_count": 69,
   "id": "42ae03f4",
   "metadata": {},
   "outputs": [
    {
     "name": "stdout",
     "output_type": "stream",
     "text": [
      "[4, 1, 10]\n",
      "[4, 1, 10]\n"
     ]
    }
   ],
   "source": [
    "#깊은 복사\n",
    "import copy\n",
    "li1 = [4,1,10]\n",
    "li2 = copy.deepcopy(li1) # 깊은복사\n",
    "\n",
    "print(li1)\n",
    "print(li2)"
   ]
  },
  {
   "cell_type": "code",
   "execution_count": 70,
   "id": "20b035fe",
   "metadata": {},
   "outputs": [
    {
     "name": "stdout",
     "output_type": "stream",
     "text": [
      "[1, 4, 10]\n"
     ]
    }
   ],
   "source": [
    "li2.sort()\n",
    "print(li2)"
   ]
  },
  {
   "cell_type": "code",
   "execution_count": 71,
   "id": "0aa49a4c",
   "metadata": {},
   "outputs": [
    {
     "name": "stdout",
     "output_type": "stream",
     "text": [
      "[4, 1, 10]\n"
     ]
    }
   ],
   "source": [
    "print(li1)"
   ]
  },
  {
   "cell_type": "code",
   "execution_count": 72,
   "id": "c5174bc0",
   "metadata": {},
   "outputs": [],
   "source": [
    "# 10.pop()\n",
    "# 가장 마지막 데이터 출력\n",
    "# 출력한 데이터를 리스트에서 삭제"
   ]
  },
  {
   "cell_type": "code",
   "execution_count": 73,
   "id": "d9268bed",
   "metadata": {},
   "outputs": [
    {
     "data": {
      "text/plain": [
       "[1, 2, 3, 4, 5, 6, 10, 10, 111, 111, 111, [112, 113], 14, 15]"
      ]
     },
     "execution_count": 73,
     "metadata": {},
     "output_type": "execute_result"
    }
   ],
   "source": [
    "my_li"
   ]
  },
  {
   "cell_type": "code",
   "execution_count": 88,
   "id": "cb998949",
   "metadata": {},
   "outputs": [
    {
     "ename": "IndexError",
     "evalue": "pop from empty list",
     "output_type": "error",
     "traceback": [
      "\u001b[1;31m---------------------------------------------------------------------------\u001b[0m",
      "\u001b[1;31mIndexError\u001b[0m                                Traceback (most recent call last)",
      "Cell \u001b[1;32mIn[88], line 1\u001b[0m\n\u001b[1;32m----> 1\u001b[0m my_li\u001b[38;5;241m.\u001b[39mpop()\n",
      "\u001b[1;31mIndexError\u001b[0m: pop from empty list"
     ]
    }
   ],
   "source": [
    "my_li.pop()"
   ]
  },
  {
   "cell_type": "code",
   "execution_count": 89,
   "id": "8c48792d",
   "metadata": {},
   "outputs": [
    {
     "name": "stdout",
     "output_type": "stream",
     "text": [
      "[1, 2, 3, 7, 8, 9]\n"
     ]
    }
   ],
   "source": [
    "# 11. 리스트 끼리의 연산\n",
    "a_li = [1,2,3]\n",
    "b_li = [7,8,9]\n",
    "print(a_li + b_li)"
   ]
  },
  {
   "cell_type": "code",
   "execution_count": 90,
   "id": "112b4c4f",
   "metadata": {},
   "outputs": [],
   "source": [
    "# 12. 리스트에는 여러 데이터 타입 할당 가능 \n",
    "li = [1,2,'3',[5,6],(7,8),{'key':'value'}, True, False]"
   ]
  },
  {
   "cell_type": "code",
   "execution_count": 91,
   "id": "9ac3e6b1",
   "metadata": {},
   "outputs": [
    {
     "name": "stdout",
     "output_type": "stream",
     "text": [
      "[1, 2, '3', [5, 6], (7, 8), {'key': 'value'}, True, False]\n"
     ]
    }
   ],
   "source": [
    "print(li)"
   ]
  },
  {
   "cell_type": "code",
   "execution_count": 92,
   "id": "df9dd465",
   "metadata": {},
   "outputs": [],
   "source": [
    "# 13. 인덱싱 (별표 백만개 --> 개중요)"
   ]
  },
  {
   "cell_type": "code",
   "execution_count": 94,
   "id": "1724c029",
   "metadata": {},
   "outputs": [
    {
     "name": "stdout",
     "output_type": "stream",
     "text": [
      "<class 'str'>\n"
     ]
    }
   ],
   "source": [
    "print(type(li[2]))"
   ]
  },
  {
   "cell_type": "code",
   "execution_count": 96,
   "id": "054f234d",
   "metadata": {},
   "outputs": [
    {
     "data": {
      "text/plain": [
       "([5, 6], list)"
      ]
     },
     "execution_count": 96,
     "metadata": {},
     "output_type": "execute_result"
    }
   ],
   "source": [
    "li[3], type(li[3])"
   ]
  },
  {
   "cell_type": "code",
   "execution_count": 97,
   "id": "3d6083ba",
   "metadata": {},
   "outputs": [
    {
     "data": {
      "text/plain": [
       "[[5, 6], (7, 8)]"
      ]
     },
     "execution_count": 97,
     "metadata": {},
     "output_type": "execute_result"
    }
   ],
   "source": [
    "li[3:5]"
   ]
  },
  {
   "cell_type": "code",
   "execution_count": 98,
   "id": "2927a1c4",
   "metadata": {},
   "outputs": [
    {
     "data": {
      "text/plain": [
       "[2, '3', [5, 6], (7, 8), {'key': 'value'}]"
      ]
     },
     "execution_count": 98,
     "metadata": {},
     "output_type": "execute_result"
    }
   ],
   "source": [
    "li[1:6]"
   ]
  },
  {
   "cell_type": "code",
   "execution_count": 99,
   "id": "080b53f2",
   "metadata": {},
   "outputs": [
    {
     "data": {
      "text/plain": [
       "[2, [5, 6], {'key': 'value'}]"
      ]
     },
     "execution_count": 99,
     "metadata": {},
     "output_type": "execute_result"
    }
   ],
   "source": [
    "li[1:6:2]"
   ]
  },
  {
   "cell_type": "markdown",
   "id": "d053a21b",
   "metadata": {},
   "source": [
    "## 리스트 인덱싱과 슬라이싱 연습!\n",
    "- 인덱싱(indexing)\n",
    "    - 단일 요소 선택할 때 인덱싱\n",
    "    - 리스트에서 특정 위치에 있는 요소에 접근하는 것을 의미\n",
    "    - 인덱스는 0부터 시작하며, list[]를 사용해서 특정 위치 요소 가져옵니다\n",
    "    - 예 : my_li[2]는 my_li의 세번째 요소를 가져옵니다\n",
    "    - 요소(element) : 리스트가 가지고 있는 데이터 하나 하나 의미\n",
    "- 슬라이싱(slicing)\n",
    "    - 연속된 범위의 요소 선택하기 위해 사용\n",
    "    - list[start:end:strid]\n",
    "    - start 인덱스는 값이 포함되고, end 인덱스는 값이 포함되지 않습니다\n",
    "    - 예: my_li[1:4]는 my_li의 두번째 요소부터 네번째 요소까지를 가져옵니다"
   ]
  },
  {
   "cell_type": "code",
   "execution_count": 1,
   "id": "f91e2ad1",
   "metadata": {},
   "outputs": [],
   "source": [
    "my_list = [10,20,30,40,50,60,70,80,90,100]\n",
    "my_str = 'Hello, World!'"
   ]
  },
  {
   "cell_type": "code",
   "execution_count": 101,
   "id": "a484f76e",
   "metadata": {},
   "outputs": [
    {
     "data": {
      "text/plain": [
       "20"
      ]
     },
     "execution_count": 101,
     "metadata": {},
     "output_type": "execute_result"
    }
   ],
   "source": [
    "my_list[1]"
   ]
  },
  {
   "cell_type": "code",
   "execution_count": 102,
   "id": "f3f7b2e8",
   "metadata": {},
   "outputs": [
    {
     "data": {
      "text/plain": [
       "[10, 20]"
      ]
     },
     "execution_count": 102,
     "metadata": {},
     "output_type": "execute_result"
    }
   ],
   "source": [
    "my_list[0:2]"
   ]
  },
  {
   "cell_type": "code",
   "execution_count": 103,
   "id": "04d94b0d",
   "metadata": {},
   "outputs": [
    {
     "data": {
      "text/plain": [
       "[10, 20, 30]"
      ]
     },
     "execution_count": 103,
     "metadata": {},
     "output_type": "execute_result"
    }
   ],
   "source": [
    "my_list[0:3]"
   ]
  },
  {
   "cell_type": "code",
   "execution_count": 104,
   "id": "a6cb3e7c",
   "metadata": {},
   "outputs": [
    {
     "data": {
      "text/plain": [
       "[10, 30, 50, 70, 90]"
      ]
     },
     "execution_count": 104,
     "metadata": {},
     "output_type": "execute_result"
    }
   ],
   "source": [
    "my_list[::2]"
   ]
  },
  {
   "cell_type": "code",
   "execution_count": 106,
   "id": "1a7c0bd0",
   "metadata": {},
   "outputs": [
    {
     "data": {
      "text/plain": [
       "90"
      ]
     },
     "execution_count": 106,
     "metadata": {},
     "output_type": "execute_result"
    }
   ],
   "source": [
    "#mission 1\n",
    "# 90 값을 출력해주세요\n",
    "my_list[-2]"
   ]
  },
  {
   "cell_type": "code",
   "execution_count": 107,
   "id": "81ae81a4",
   "metadata": {},
   "outputs": [
    {
     "data": {
      "text/plain": [
       "'Hello World!'"
      ]
     },
     "execution_count": 107,
     "metadata": {},
     "output_type": "execute_result"
    }
   ],
   "source": [
    "#문자열에서 세번째 문자에 접근하기\n",
    "my_str"
   ]
  },
  {
   "cell_type": "code",
   "execution_count": 108,
   "id": "22070a78",
   "metadata": {},
   "outputs": [
    {
     "data": {
      "text/plain": [
       "'l'"
      ]
     },
     "execution_count": 108,
     "metadata": {},
     "output_type": "execute_result"
    }
   ],
   "source": [
    "my_str[2]"
   ]
  },
  {
   "cell_type": "code",
   "execution_count": 109,
   "id": "4c3f7cf3",
   "metadata": {},
   "outputs": [
    {
     "data": {
      "text/plain": [
       "'l'"
      ]
     },
     "execution_count": 109,
     "metadata": {},
     "output_type": "execute_result"
    }
   ],
   "source": [
    "my_str[2]"
   ]
  },
  {
   "cell_type": "code",
   "execution_count": 110,
   "id": "49fb917b",
   "metadata": {},
   "outputs": [
    {
     "data": {
      "text/plain": [
       "[20, 30, 40, 50]"
      ]
     },
     "execution_count": 110,
     "metadata": {},
     "output_type": "execute_result"
    }
   ],
   "source": [
    "# 1. 숫자 리스트에서 인덱스 2부터 6까지 출력하기\n",
    "my_list[1:5]"
   ]
  },
  {
   "cell_type": "code",
   "execution_count": 117,
   "id": "705cae47",
   "metadata": {},
   "outputs": [
    {
     "data": {
      "text/plain": [
       "'!'"
      ]
     },
     "execution_count": 117,
     "metadata": {},
     "output_type": "execute_result"
    }
   ],
   "source": [
    "#금일 과제(리스트 인덱스 활용하여 아래값 만들기)\n",
    "my_str[3:]\n",
    "my_list[1::2]\n",
    "my_str[::3]\n",
    "my_list[4:0:-1]\n",
    "my_str[7:1:-1]\n",
    "my_list[7:2:-1]\n",
    "my_str[12:3:-2]\n",
    "my_list[2::3]\n",
    "my_str[-1::]"
   ]
  },
  {
   "cell_type": "code",
   "execution_count": 134,
   "id": "e18ab24c",
   "metadata": {},
   "outputs": [
    {
     "data": {
      "text/plain": [
       "'dlroW'"
      ]
     },
     "execution_count": 134,
     "metadata": {},
     "output_type": "execute_result"
    }
   ],
   "source": [
    "my_str[-2:-7:-1]"
   ]
  },
  {
   "cell_type": "code",
   "execution_count": 2,
   "id": "ccd69c0a",
   "metadata": {},
   "outputs": [],
   "source": [
    "# 인덱싱을 이용한 리스트 데이터 값 수정"
   ]
  },
  {
   "cell_type": "code",
   "execution_count": 6,
   "id": "f5fe5dbf",
   "metadata": {},
   "outputs": [],
   "source": [
    "my_list[2] = 300"
   ]
  },
  {
   "cell_type": "code",
   "execution_count": 7,
   "id": "2167d5c6",
   "metadata": {},
   "outputs": [
    {
     "data": {
      "text/plain": [
       "[10, 20, 300, 40, 50, 60, 70, 80, 90, 100]"
      ]
     },
     "execution_count": 7,
     "metadata": {},
     "output_type": "execute_result"
    }
   ],
   "source": [
    "my_list"
   ]
  },
  {
   "cell_type": "markdown",
   "id": "f49ffe29",
   "metadata": {},
   "source": [
    "### 5-3. tuple()\n",
    "- 리스트와 동일한 성격 가진다\n",
    "- 왜 사용?\n",
    "- 튜플은 데이터 수정이 불가합니다\n",
    "- 튜플은 리스트보다 같은 데이터를 가졌을 때, 메모리 공간을 더 적게 사용 "
   ]
  },
  {
   "cell_type": "code",
   "execution_count": 9,
   "id": "7410db87",
   "metadata": {},
   "outputs": [],
   "source": [
    "# tuple()\n",
    "tp1 = (1, 2, 3)\n",
    "tp2 = (4, 5, 6)\n",
    "tp3 = 7, 8, 9"
   ]
  },
  {
   "cell_type": "code",
   "execution_count": 10,
   "id": "008ac2bd",
   "metadata": {},
   "outputs": [
    {
     "name": "stdout",
     "output_type": "stream",
     "text": [
      "(1, 2, 3)\n"
     ]
    },
    {
     "data": {
      "text/plain": [
       "(None, tuple)"
      ]
     },
     "execution_count": 10,
     "metadata": {},
     "output_type": "execute_result"
    }
   ],
   "source": [
    "print(tp1), type(tp2)"
   ]
  },
  {
   "cell_type": "code",
   "execution_count": 11,
   "id": "6a3686a2",
   "metadata": {},
   "outputs": [
    {
     "name": "stdout",
     "output_type": "stream",
     "text": [
      "(7, 8, 9)\n"
     ]
    },
    {
     "data": {
      "text/plain": [
       "(None, tuple)"
      ]
     },
     "execution_count": 11,
     "metadata": {},
     "output_type": "execute_result"
    }
   ],
   "source": [
    "print(tp3), type(tp3)"
   ]
  },
  {
   "cell_type": "code",
   "execution_count": 12,
   "id": "a8098343",
   "metadata": {},
   "outputs": [],
   "source": [
    "# 리스트와 튜플의 저장공간 차이 비교\n",
    "\n",
    "import sys\n",
    "\n",
    "li = [1, 2, 3]\n",
    "tp = (1, 2, 3)"
   ]
  },
  {
   "cell_type": "code",
   "execution_count": 13,
   "id": "8ae4cdc0",
   "metadata": {},
   "outputs": [
    {
     "name": "stdout",
     "output_type": "stream",
     "text": [
      "88\n",
      "64\n"
     ]
    }
   ],
   "source": [
    "print(sys.getsizeof(li))\n",
    "print(sys.getsizeof(tp))"
   ]
  },
  {
   "cell_type": "code",
   "execution_count": 14,
   "id": "e862cbe7",
   "metadata": {},
   "outputs": [
    {
     "name": "stdout",
     "output_type": "stream",
     "text": [
      "[1, 10, 3]\n"
     ]
    }
   ],
   "source": [
    "li[1] = 10\n",
    "print(li)"
   ]
  },
  {
   "cell_type": "code",
   "execution_count": 15,
   "id": "758dfe8a",
   "metadata": {},
   "outputs": [
    {
     "ename": "TypeError",
     "evalue": "'tuple' object does not support item assignment",
     "output_type": "error",
     "traceback": [
      "\u001b[1;31m---------------------------------------------------------------------------\u001b[0m",
      "\u001b[1;31mTypeError\u001b[0m                                 Traceback (most recent call last)",
      "Cell \u001b[1;32mIn[15], line 1\u001b[0m\n\u001b[1;32m----> 1\u001b[0m tp[\u001b[38;5;241m1\u001b[39m] \u001b[38;5;241m=\u001b[39m \u001b[38;5;241m10\u001b[39m\n",
      "\u001b[1;31mTypeError\u001b[0m: 'tuple' object does not support item assignment"
     ]
    }
   ],
   "source": [
    "tp[1] = 10"
   ]
  },
  {
   "cell_type": "markdown",
   "id": "8a452340",
   "metadata": {},
   "source": [
    "## 5-4. dictionary {}\n",
    "- 순서가 없고 {'key' : 'value'}로 구성되어 있는 데이터 타입"
   ]
  },
  {
   "cell_type": "code",
   "execution_count": 16,
   "id": "8f5269ec",
   "metadata": {},
   "outputs": [],
   "source": [
    "dic = {1 : 'one', 'two' : 2, 'three' : [1,2,3], 'four' : 'python'}"
   ]
  },
  {
   "cell_type": "code",
   "execution_count": 17,
   "id": "e003e77b",
   "metadata": {},
   "outputs": [
    {
     "name": "stdout",
     "output_type": "stream",
     "text": [
      "{1: 'one', 'two': 2, 'three': [1, 2, 3], 'four': 'python'}\n"
     ]
    }
   ],
   "source": [
    "print(dic)"
   ]
  },
  {
   "cell_type": "code",
   "execution_count": 20,
   "id": "e019d7bd",
   "metadata": {},
   "outputs": [
    {
     "data": {
      "text/plain": [
       "2"
      ]
     },
     "execution_count": 20,
     "metadata": {},
     "output_type": "execute_result"
    }
   ],
   "source": [
    "dic['two']"
   ]
  },
  {
   "cell_type": "code",
   "execution_count": 19,
   "id": "040d5823",
   "metadata": {},
   "outputs": [
    {
     "ename": "KeyError",
     "evalue": "0",
     "output_type": "error",
     "traceback": [
      "\u001b[1;31m---------------------------------------------------------------------------\u001b[0m",
      "\u001b[1;31mKeyError\u001b[0m                                  Traceback (most recent call last)",
      "Cell \u001b[1;32mIn[19], line 1\u001b[0m\n\u001b[1;32m----> 1\u001b[0m dic[\u001b[38;5;241m0\u001b[39m]\n",
      "\u001b[1;31mKeyError\u001b[0m: 0"
     ]
    }
   ],
   "source": [
    "dic[0]  #dictionary는 []안에는 키값만 적을 수 있음"
   ]
  },
  {
   "cell_type": "code",
   "execution_count": 21,
   "id": "199b24f0",
   "metadata": {},
   "outputs": [],
   "source": [
    "# key로 value에 접근해서 value를 변경할 수 있습니다.\n",
    "#key는 수정이 불가능합니다\n",
    "dic['two'] = 123"
   ]
  },
  {
   "cell_type": "code",
   "execution_count": 22,
   "id": "aa0e24ce",
   "metadata": {},
   "outputs": [
    {
     "name": "stdout",
     "output_type": "stream",
     "text": [
      "{1: 'one', 'two': 123, 'three': [1, 2, 3], 'four': 'python'}\n"
     ]
    }
   ],
   "source": [
    "print(dic)"
   ]
  },
  {
   "cell_type": "code",
   "execution_count": 23,
   "id": "bfb84a3d",
   "metadata": {},
   "outputs": [
    {
     "ename": "TypeError",
     "evalue": "unhashable type: 'list'",
     "output_type": "error",
     "traceback": [
      "\u001b[1;31m---------------------------------------------------------------------------\u001b[0m",
      "\u001b[1;31mTypeError\u001b[0m                                 Traceback (most recent call last)",
      "Cell \u001b[1;32mIn[23], line 1\u001b[0m\n\u001b[1;32m----> 1\u001b[0m {[\u001b[38;5;241m1\u001b[39m,\u001b[38;5;241m2\u001b[39m,\u001b[38;5;241m3\u001b[39m] : \u001b[38;5;124m'\u001b[39m\u001b[38;5;124mvalue\u001b[39m\u001b[38;5;124m'\u001b[39m}\n",
      "\u001b[1;31mTypeError\u001b[0m: unhashable type: 'list'"
     ]
    }
   ],
   "source": [
    "{[1,2,3] : 'value'}"
   ]
  },
  {
   "cell_type": "code",
   "execution_count": 24,
   "id": "ce22d8ca",
   "metadata": {},
   "outputs": [],
   "source": [
    "# 도시: seoul,daegu, busan\n",
    "# 인구: 500, 300, 200"
   ]
  },
  {
   "cell_type": "code",
   "execution_count": 25,
   "id": "29f0c3f8",
   "metadata": {},
   "outputs": [
    {
     "name": "stdout",
     "output_type": "stream",
     "text": [
      "{'seoul': 500, 'daegu': 300, 'busan': 200}\n"
     ]
    }
   ],
   "source": [
    "#dictionary\n",
    "data = {'seoul' : 500, 'daegu' : 300, 'busan' : 200}\n",
    "print(data)"
   ]
  },
  {
   "cell_type": "code",
   "execution_count": 26,
   "id": "7e7370e5",
   "metadata": {},
   "outputs": [],
   "source": [
    "#list\n",
    "city = ['seoul', 'daegu', 'busan']\n",
    "pop = [500,300,200]"
   ]
  },
  {
   "cell_type": "code",
   "execution_count": 29,
   "id": "9883795a",
   "metadata": {},
   "outputs": [
    {
     "name": "stdout",
     "output_type": "stream",
     "text": [
      "{'seoul': 500, 'daegu': 300, 'busan': 200}\n"
     ]
    }
   ],
   "source": [
    "data = dict(zip(city, pop))   #zip() --> 두 개의 리스트 모아주는 역할\n",
    "print(data)"
   ]
  },
  {
   "cell_type": "markdown",
   "id": "821ba9bc",
   "metadata": {},
   "source": [
    "## 6. 형변환\n",
    "- 데이터의 타입을 변환\n",
    "- int, float, str, bool, list, tuple, dict"
   ]
  },
  {
   "cell_type": "code",
   "execution_count": 30,
   "id": "2c3458bd",
   "metadata": {},
   "outputs": [],
   "source": [
    "a = 1\n",
    "b = '2'"
   ]
  },
  {
   "cell_type": "code",
   "execution_count": 31,
   "id": "53ab18ed",
   "metadata": {},
   "outputs": [
    {
     "ename": "TypeError",
     "evalue": "unsupported operand type(s) for +: 'int' and 'str'",
     "output_type": "error",
     "traceback": [
      "\u001b[1;31m---------------------------------------------------------------------------\u001b[0m",
      "\u001b[1;31mTypeError\u001b[0m                                 Traceback (most recent call last)",
      "Cell \u001b[1;32mIn[31], line 1\u001b[0m\n\u001b[1;32m----> 1\u001b[0m a\u001b[38;5;241m+\u001b[39mb\n",
      "\u001b[1;31mTypeError\u001b[0m: unsupported operand type(s) for +: 'int' and 'str'"
     ]
    }
   ],
   "source": [
    "a+b"
   ]
  },
  {
   "cell_type": "code",
   "execution_count": 32,
   "id": "8b6de2b9",
   "metadata": {},
   "outputs": [
    {
     "data": {
      "text/plain": [
       "3"
      ]
     },
     "execution_count": 32,
     "metadata": {},
     "output_type": "execute_result"
    }
   ],
   "source": [
    "a + int(b)"
   ]
  },
  {
   "cell_type": "code",
   "execution_count": 37,
   "id": "ce0b8822",
   "metadata": {},
   "outputs": [
    {
     "name": "stdout",
     "output_type": "stream",
     "text": [
      "3\n",
      "3.0\n",
      "3.0\n",
      "12\n",
      "<class 'str'>\n",
      "12\n",
      "<class 'int'>\n"
     ]
    }
   ],
   "source": [
    "print(int(a) + int(b))\n",
    "print(float(a) + float(b))\n",
    "print(int(a) + float(b))  # 정수와 소수점의 연산결과는 무조건 소수점으로 나옴\n",
    "print(str(a) + b)\n",
    "print(type(str(a) + b))\n",
    "print(int(str(a) + b))\n",
    "print(type(int(str(a) + b)))"
   ]
  },
  {
   "cell_type": "code",
   "execution_count": 38,
   "id": "2e48cf5d",
   "metadata": {},
   "outputs": [
    {
     "ename": "ValueError",
     "evalue": "invalid literal for int() with base 10: 'python'",
     "output_type": "error",
     "traceback": [
      "\u001b[1;31m---------------------------------------------------------------------------\u001b[0m",
      "\u001b[1;31mValueError\u001b[0m                                Traceback (most recent call last)",
      "Cell \u001b[1;32mIn[38], line 3\u001b[0m\n\u001b[0;32m      1\u001b[0m \u001b[38;5;66;03m# 형변환이 안되는 경우\u001b[39;00m\n\u001b[0;32m      2\u001b[0m text \u001b[38;5;241m=\u001b[39m \u001b[38;5;124m'\u001b[39m\u001b[38;5;124mpython\u001b[39m\u001b[38;5;124m'\u001b[39m\n\u001b[1;32m----> 3\u001b[0m \u001b[38;5;28mint\u001b[39m(text)\n",
      "\u001b[1;31mValueError\u001b[0m: invalid literal for int() with base 10: 'python'"
     ]
    }
   ],
   "source": [
    "# 형변환이 안되는 경우\n",
    "text = 'python'\n",
    "int(text)"
   ]
  },
  {
   "cell_type": "markdown",
   "id": "a06f94e1",
   "metadata": {},
   "source": [
    "## 7. 연산자의 종류와 우선순위\n",
    "- 괄호: () (괄호 안의 표현식이 가장 먼저 계산됨)\n",
    "- 지수 연산자: **\n",
    "- 단항 연산자: -(음수), +(양수), ~(반전)\n",
    "- 곱셈, 나눗셈, 나머지 연산자: *, /, //, %\n",
    "- 덧셈, 뺄셈 연산자: +,-\n",
    "- 비교 연산자: <, >, <=, >=, ==, !=\n",
    "- 논리 연산자: and, or, not\n",
    "- 멤버 연산자: in, not in\n",
    "- 항등 연산자: is, is not\n",
    "- 할당 연산자: +=, -=\n",
    "- 삼항 조건 연산자: if-else "
   ]
  },
  {
   "cell_type": "code",
   "execution_count": 39,
   "id": "16ba375d",
   "metadata": {},
   "outputs": [],
   "source": [
    "# 산술 연산자\n",
    "a = 10\n",
    "b = 2"
   ]
  },
  {
   "cell_type": "code",
   "execution_count": 40,
   "id": "cb654c1a",
   "metadata": {},
   "outputs": [
    {
     "name": "stdout",
     "output_type": "stream",
     "text": [
      "12\n",
      "8\n",
      "20\n",
      "5.0\n",
      "5\n",
      "0\n",
      "100\n"
     ]
    }
   ],
   "source": [
    "print(a + b)\n",
    "print(a - b)\n",
    "print(a * b)\n",
    "print(a / b) #나눗셈\n",
    "print(a // b) #몫(정수로 리턴)\n",
    "print(a % b)  #나머지\n",
    "print(a ** b)"
   ]
  },
  {
   "cell_type": "code",
   "execution_count": 41,
   "id": "13abd428",
   "metadata": {},
   "outputs": [
    {
     "name": "stdout",
     "output_type": "stream",
     "text": [
      "20\n"
     ]
    }
   ],
   "source": [
    "a += 10\n",
    "print(a)"
   ]
  },
  {
   "cell_type": "code",
   "execution_count": 42,
   "id": "e01a6e13",
   "metadata": {},
   "outputs": [
    {
     "name": "stdout",
     "output_type": "stream",
     "text": [
      "40\n"
     ]
    }
   ],
   "source": [
    "a *= 2\n",
    "print(a)"
   ]
  },
  {
   "cell_type": "code",
   "execution_count": 43,
   "id": "7cd069ae",
   "metadata": {},
   "outputs": [],
   "source": [
    "# 비교 연산자\n",
    "a = 5\n",
    "b = 3"
   ]
  },
  {
   "cell_type": "code",
   "execution_count": 45,
   "id": "40754d09",
   "metadata": {},
   "outputs": [
    {
     "name": "stdout",
     "output_type": "stream",
     "text": [
      "False\n",
      "True\n",
      "True\n",
      "False\n",
      "True\n",
      "False\n"
     ]
    }
   ],
   "source": [
    "print(a == b)\n",
    "print(a != b)\n",
    "print(a > b)\n",
    "print(a < b)\n",
    "print(a >= b)\n",
    "print(a <= b)"
   ]
  },
  {
   "cell_type": "code",
   "execution_count": 46,
   "id": "753d0c99",
   "metadata": {},
   "outputs": [],
   "source": [
    "# 논리 연산자\n",
    "x = True\n",
    "y = False"
   ]
  },
  {
   "cell_type": "code",
   "execution_count": 47,
   "id": "7d386889",
   "metadata": {},
   "outputs": [
    {
     "name": "stdout",
     "output_type": "stream",
     "text": [
      "False\n",
      "True\n",
      "False\n",
      "True\n"
     ]
    }
   ],
   "source": [
    "print(x and y) # and : 둘 다 True일 때 True, 아니면 False\n",
    "print(x or y)  # or : 둘 중 하나가 True일 때 True, 아니면 False\n",
    "print(not x)\n",
    "print(not y)"
   ]
  },
  {
   "cell_type": "code",
   "execution_count": 48,
   "id": "bbae60b4",
   "metadata": {},
   "outputs": [],
   "source": [
    "# 멤버 연산자\n",
    "li = ['jo', 'python', 'robot']"
   ]
  },
  {
   "cell_type": "code",
   "execution_count": 49,
   "id": "465698df",
   "metadata": {},
   "outputs": [
    {
     "name": "stdout",
     "output_type": "stream",
     "text": [
      "True\n",
      "False\n",
      "True\n"
     ]
    }
   ],
   "source": [
    "print('jo' in li)\n",
    "print('John' in li)\n",
    "print('John' not in li)"
   ]
  },
  {
   "cell_type": "code",
   "execution_count": 50,
   "id": "fd2548e9",
   "metadata": {},
   "outputs": [],
   "source": [
    "# 항등 연산자\n",
    "x = 10\n",
    "y = 10"
   ]
  },
  {
   "cell_type": "code",
   "execution_count": 52,
   "id": "a3c2686f",
   "metadata": {},
   "outputs": [
    {
     "data": {
      "text/plain": [
       "(True, False)"
      ]
     },
     "execution_count": 52,
     "metadata": {},
     "output_type": "execute_result"
    }
   ],
   "source": [
    "x is y, x == 2"
   ]
  },
  {
   "cell_type": "markdown",
   "id": "03b83602",
   "metadata": {},
   "source": [
    "## quiz. 조언 해주세요!"
   ]
  },
  {
   "cell_type": "markdown",
   "id": "1c24e85b",
   "metadata": {},
   "source": [
    "1. 솔루션을 리스트로 작성\n",
    "2. 질문을 입력\n",
    "3. 저.. 이거 공부하면 잘될 수 있을까요?\n",
    "4. 솔루션 중, 한가지 대답 랜덤하게 선택해서 보여줌\n",
    "    - indexing\n",
    "    - 해당 index에 해당하는 해답 보여줌"
   ]
  },
  {
   "cell_type": "code",
   "execution_count": 58,
   "id": "c5a875bc",
   "metadata": {},
   "outputs": [
    {
     "data": {
      "text/plain": [
       "6"
      ]
     },
     "execution_count": 58,
     "metadata": {},
     "output_type": "execute_result"
    }
   ],
   "source": [
    "#랜덤 함수\n",
    "import random\n",
    "random.randint(1,10)"
   ]
  },
  {
   "cell_type": "code",
   "execution_count": 60,
   "id": "8e8b76c9",
   "metadata": {},
   "outputs": [
    {
     "name": "stdout",
     "output_type": "stream",
     "text": [
      "1\n"
     ]
    },
    {
     "data": {
      "text/plain": [
       "1"
      ]
     },
     "execution_count": 60,
     "metadata": {},
     "output_type": "execute_result"
    }
   ],
   "source": [
    "#입력 함수\n",
    "#형 변환 하지 않으면 str형태로 출력\n",
    "data = input()\n",
    "data"
   ]
  },
  {
   "cell_type": "code",
   "execution_count": 65,
   "id": "b6b97c70",
   "metadata": {},
   "outputs": [],
   "source": [
    "solutions = [\n",
    "    '포기하지 말고 힘내주세요',\n",
    "    '오늘은 좀 쉬는게 어떠세요?',\n",
    "    '걱정마세요, 취업할 수 있습니다!',\n",
    "    'AI가 세상을 지배할 것 입니다.'\n",
    "]"
   ]
  },
  {
   "cell_type": "code",
   "execution_count": 66,
   "id": "3bdd14da",
   "metadata": {},
   "outputs": [
    {
     "data": {
      "text/plain": [
       "'포기하지 말고 힘내주세요'"
      ]
     },
     "execution_count": 66,
     "metadata": {},
     "output_type": "execute_result"
    }
   ],
   "source": [
    "solutions[0]"
   ]
  },
  {
   "cell_type": "code",
   "execution_count": 67,
   "id": "75ea1c26",
   "metadata": {},
   "outputs": [
    {
     "name": "stdout",
     "output_type": "stream",
     "text": [
      "저 이거 공부하면 잘될 수 있을까요?\n",
      "걱정마세요, 취업할 수 있습니다!\n"
     ]
    }
   ],
   "source": [
    "#quiz 풀기\n",
    "import random\n",
    "solutions = [\n",
    "    '포기하지 말고 힘내주세요',\n",
    "    '오늘은 좀 쉬는게 어떠세요?',\n",
    "    '걱정마세요, 취업할 수 있습니다!',\n",
    "    'AI가 세상을 지배할 것 입니다.'\n",
    "]\n",
    "question = input()\n",
    "num = random.randint(0,3)\n",
    "print(solutions[num])"
   ]
  },
  {
   "cell_type": "code",
   "execution_count": 71,
   "id": "614b5230",
   "metadata": {},
   "outputs": [
    {
     "name": "stdout",
     "output_type": "stream",
     "text": [
      "질문을 입력하세요: 저 오늘 공부가 좀 잘 되는거 같아요\n",
      "==============================\n",
      "답변:  오늘은 좀 쉬는게 어떠세요?\n"
     ]
    }
   ],
   "source": [
    "# 강사님 ver.\n",
    "\n",
    "import random\n",
    "#솔루션을 리스트로 작성\n",
    "solutions = [\n",
    "    '포기하지 말고 힘내주세요',\n",
    "    '오늘은 좀 쉬는게 어떠세요?',\n",
    "    '걱정마세요, 취업할 수 있습니다!',\n",
    "    'AI가 세상을 지배할 것 입니다.'\n",
    "]\n",
    "\n",
    "#질문 입력\n",
    "question = input('질문을 입력하세요: ')\n",
    "\n",
    "# 솔루션 중, 한 가지 대답을 랜덤하게 선택\n",
    "idx = random.randint(0,len(solutions)-1)\n",
    "\n",
    "#index에 해당하는 솔루션 대답을 보여줌\n",
    "print('='*30)\n",
    "print('답변: ',solutions[idx])"
   ]
  },
  {
   "cell_type": "code",
   "execution_count": null,
   "id": "c0c73943",
   "metadata": {},
   "outputs": [],
   "source": []
  }
 ],
 "metadata": {
  "kernelspec": {
   "display_name": "Python 3 (ipykernel)",
   "language": "python",
   "name": "python3"
  },
  "language_info": {
   "codemirror_mode": {
    "name": "ipython",
    "version": 3
   },
   "file_extension": ".py",
   "mimetype": "text/x-python",
   "name": "python",
   "nbconvert_exporter": "python",
   "pygments_lexer": "ipython3",
   "version": "3.11.4"
  }
 },
 "nbformat": 4,
 "nbformat_minor": 5
}
