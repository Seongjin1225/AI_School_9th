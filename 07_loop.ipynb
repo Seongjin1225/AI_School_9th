{
 "cells": [
  {
   "cell_type": "markdown",
   "metadata": {},
   "source": [
    "# 반복문(loop)"
   ]
  },
  {
   "cell_type": "markdown",
   "metadata": {},
   "source": [
    "- 반복되는 코드를 실행할 때 사용 \n",
    "- while, for, break, continue\n",
    "- list comprehension"
   ]
  },
  {
   "cell_type": "markdown",
   "metadata": {},
   "source": [
    "## 1.While\n",
    "- 조건에 의한 반복문"
   ]
  },
  {
   "cell_type": "code",
   "execution_count": 4,
   "metadata": {},
   "outputs": [
    {
     "name": "stdout",
     "output_type": "stream",
     "text": [
      "3\n",
      "2\n",
      "1\n"
     ]
    }
   ],
   "source": [
    "# 조건에 의한 반복문\n",
    "\n",
    "data = 3\n",
    "\n",
    "while data:\n",
    "    print(data)\n",
    "    # data = data - 1\n",
    "    data -= 1"
   ]
  },
  {
   "cell_type": "code",
   "execution_count": 5,
   "metadata": {},
   "outputs": [
    {
     "name": "stdout",
     "output_type": "stream",
     "text": [
      "0\n",
      "1\n",
      "2\n",
      "3\n",
      "4\n",
      "break를 만나서 조건에 의한 반복문을 종료합니다.\n"
     ]
    }
   ],
   "source": [
    "# break\n",
    "# 반복을 중단할 때, 사용\n",
    "\n",
    "count = 0\n",
    "\n",
    "while True:\n",
    "    print(count)\n",
    "    count += 1\n",
    "\n",
    "    if count >= 5:\n",
    "        print('break를 만나서 조건에 의한 반복문을 종료합니다.')\n",
    "        break"
   ]
  },
  {
   "cell_type": "code",
   "execution_count": null,
   "metadata": {},
   "outputs": [],
   "source": [
    "# 무한 루프\n",
    "\n",
    "'''result = 0\n",
    "\n",
    "while result:\n",
    "    result += 1\n",
    "print(result)'''"
   ]
  },
  {
   "cell_type": "code",
   "execution_count": 7,
   "metadata": {},
   "outputs": [
    {
     "name": "stdout",
     "output_type": "stream",
     "text": [
      "1\n",
      "2\n",
      "3\n",
      "4\n",
      "5\n",
      "6\n",
      "7\n",
      "8\n",
      "9\n"
     ]
    }
   ],
   "source": [
    "# 무한 루프\n",
    "\n",
    "result = 1\n",
    "\n",
    "while result:\n",
    "    print(result)\n",
    "    result += 1\n",
    "\n",
    "    if result >= 10:\n",
    "        break"
   ]
  },
  {
   "cell_type": "code",
   "execution_count": 8,
   "metadata": {},
   "outputs": [
    {
     "name": "stdout",
     "output_type": "stream",
     "text": [
      "2\n",
      "4\n",
      "6\n",
      "8\n"
     ]
    }
   ],
   "source": [
    "# continue\n",
    "# continue가 실행되면 현재 반복중인 루프 내에서 continue 문 아래의 코드는 실행되지 않고,\n",
    "# 반복문의 다음 반복으로 이동합니다\n",
    "\n",
    "count = 0\n",
    "\n",
    "while True:\n",
    "    count += 1\n",
    "\n",
    "    if count >= 10:\n",
    "        break\n",
    "\n",
    "    # 짝수\n",
    "    if count % 2:\n",
    "        continue\n",
    "\n",
    "    print(count)\n"
   ]
  },
  {
   "cell_type": "code",
   "execution_count": 10,
   "metadata": {},
   "outputs": [
    {
     "name": "stdout",
     "output_type": "stream",
     "text": [
      "['w', 'e', 'r', 'q']\n"
     ]
    }
   ],
   "source": [
    "# mini quiz\n",
    "# while 문을 이용\n",
    "# 'q' 문자열이 입력될 때 까지 단어를 words(list) 변수에 추가(append) 받는 코드를 작성해주세요\n",
    "\n",
    "words = []\n",
    "\n",
    "while True:\n",
    "    word = input('단어를 입력하세요')\n",
    "    words.append(word)\n",
    "\n",
    "    if word == 'q':\n",
    "        break\n",
    "print(words)"
   ]
  },
  {
   "cell_type": "code",
   "execution_count": 13,
   "metadata": {},
   "outputs": [
    {
     "name": "stdout",
     "output_type": "stream",
     "text": [
      "3는 3의 배수 입니다\n",
      "6는 3의 배수 입니다\n",
      "9는 3의 배수 입니다\n",
      "12는 3의 배수 입니다\n",
      "15는 3의 배수 입니다\n",
      "18는 3의 배수 입니다\n",
      "21는 3의 배수 입니다\n",
      "24는 3의 배수 입니다\n",
      "27는 3의 배수 입니다\n",
      "30는 3의 배수 입니다\n",
      "33는 3의 배수 입니다\n",
      "36는 3의 배수 입니다\n",
      "39는 3의 배수 입니다\n",
      "42는 3의 배수 입니다\n",
      "45는 3의 배수 입니다\n",
      "48는 3의 배수 입니다\n",
      "51는 3의 배수 입니다\n",
      "54는 3의 배수 입니다\n",
      "57는 3의 배수 입니다\n",
      "60는 3의 배수 입니다\n",
      "63는 3의 배수 입니다\n",
      "66는 3의 배수 입니다\n",
      "69는 3의 배수 입니다\n",
      "72는 3의 배수 입니다\n",
      "75는 3의 배수 입니다\n",
      "78는 3의 배수 입니다\n",
      "81는 3의 배수 입니다\n",
      "84는 3의 배수 입니다\n",
      "87는 3의 배수 입니다\n",
      "90는 3의 배수 입니다\n",
      "93는 3의 배수 입니다\n",
      "96는 3의 배수 입니다\n",
      "99는 3의 배수 입니다\n"
     ]
    }
   ],
   "source": [
    "#mini quiz_2\n",
    "# 1~ 100까지 정수 출력\n",
    "# but, 3의 배수인 수만 출력\n",
    "# i 는 3의 배수입니다 형식으로 출력\n",
    "i = 1\n",
    "\n",
    "while i <= 100:\n",
    "    if i%3 == 0:\n",
    "        print(f'{i}는 3의 배수 입니다')\n",
    "    i += 1"
   ]
  },
  {
   "cell_type": "code",
   "execution_count": 20,
   "metadata": {},
   "outputs": [
    {
     "name": "stdout",
     "output_type": "stream",
     "text": [
      "[1, 17, 31, 38, 38, 43]\n"
     ]
    }
   ],
   "source": [
    "# mini_quiz_3\n",
    "# 로또 번호 출력\n",
    "# (1) 랜덤한 숫자 6개 출력할 예전\n",
    "# (2) 중복되는 숫자 없이, 6개의 랜덤한 숫자\n",
    "# (3) 오름차순 정렬\n",
    "# (4) 1 ~ 45 숫자\n",
    "# 출력 결과 : [1, 2, 3, 34, 45, 33]\n",
    "import random\n",
    "lotto = []\n",
    "count = 1\n",
    "\n",
    "while count <= 6:\n",
    "    num = random.randint(1,45)\n",
    "    lotto.append(num)\n",
    "    count += 1\n",
    "    \n",
    "lotto.sort()\n",
    "print(lotto)"
   ]
  },
  {
   "cell_type": "code",
   "execution_count": 25,
   "metadata": {},
   "outputs": [
    {
     "name": "stdout",
     "output_type": "stream",
     "text": [
      "[4, 5, 6, 12, 21, 41]\n"
     ]
    }
   ],
   "source": [
    "# 강사님 코드\n",
    "import random\n",
    "\n",
    "# 빈 리스트 생성\n",
    "lotto = []\n",
    "\n",
    "#반복문 코드 작성\n",
    "while True:\n",
    "    #랜덤한 숫자 하나 선택\n",
    "    random_number = random.randint(1,45)\n",
    "\n",
    "    # 뽑힌 랜덤 숫자가 lotto 리스트에 없는 경우에만 추가합니다\n",
    "    if random_number not in lotto:\n",
    "        lotto.append(random_number)\n",
    "    \n",
    "    # lotto 리스트의 길이가 6이상이면 정렬하고 반복문을 종료\n",
    "    if len(lotto) >= 6:\n",
    "        lotto.sort()\n",
    "        break\n",
    "\n",
    "# 최종 로또 번호 출력\n",
    "print(lotto)"
   ]
  },
  {
   "cell_type": "code",
   "execution_count": 19,
   "metadata": {},
   "outputs": [],
   "source": [
    "# mini_quiz_4\n",
    "# 학생 성적 관리 시스템\n",
    "# (1) 학생이 있습니다\n",
    "# (2) 파이썬: 80점, 머신러닝: 90점, 딥러닝: 100점\n",
    "# points_li = [80, 90, 100]\n",
    "# (3) 총점, 평균, 최저점수를 출력해주세요\n",
    "# (4) while문 사용할 것\n",
    "# 출력결과: \n",
    "# 총점수는 270점입니다. 평균 점수는 90.0입니다. 최저 점수는 80점입니다."
   ]
  },
  {
   "cell_type": "code",
   "execution_count": 24,
   "metadata": {},
   "outputs": [
    {
     "name": "stdout",
     "output_type": "stream",
     "text": [
      "총점수는 270점입니다. 평균 점수는 90.0입니다. 최저 점수는 80점입니다.\n"
     ]
    }
   ],
   "source": [
    "points_li = [80, 90, 100]\n",
    "i = 0\n",
    "total = 0\n",
    "while i < len(points_li):\n",
    "    total += points_li[i]\n",
    "    i += 1\n",
    "avg = total / len(points_li)\n",
    "\n",
    "min_points = min(points_li)\n",
    "\n",
    "print(f'총점수는 {total}점입니다. 평균 점수는 {avg}입니다. 최저 점수는 {min_points}점입니다.')"
   ]
  },
  {
   "cell_type": "code",
   "execution_count": 26,
   "metadata": {},
   "outputs": [],
   "source": [
    "# 강사님 ver.\n",
    "import copy   # 원본 유지하면 복사본 사용하기 위해\n",
    "points_li = [80, 90, 100]\n",
    "\n",
    "total = 0\n",
    "avg = 0\n",
    "min_score = 1000\n",
    "\n",
    "datas = copy.deepcopy(points_li)"
   ]
  },
  {
   "cell_type": "code",
   "execution_count": null,
   "metadata": {},
   "outputs": [],
   "source": [
    "# pop()\n",
    "score = datas.pop()\n",
    "print('origin: ', points_li)\n",
    "print('copy: ', score)"
   ]
  },
  {
   "cell_type": "code",
   "execution_count": 27,
   "metadata": {},
   "outputs": [
    {
     "name": "stdout",
     "output_type": "stream",
     "text": [
      "총점수는 270점입니다. 평균 점수는 90.0입니다. 최저 점수는 80점입니다.\n"
     ]
    }
   ],
   "source": [
    "while datas:\n",
    "    score = datas.pop()\n",
    "    total += score\n",
    "\n",
    "    if score < min_score:\n",
    "        min_score = score\n",
    "\n",
    "avg = total / len(points_li)\n",
    "\n",
    "print(f'총점수는 {total}점입니다. 평균 점수는 {avg}입니다. 최저 점수는 {min_points}점입니다.')"
   ]
  },
  {
   "cell_type": "markdown",
   "metadata": {},
   "source": [
    "## 2. for\n",
    "- 횟수에 의한 반복문 \n",
    "- iterable 한 값을 하나씩 꺼내서 value에 대입\n",
    "- 코드를 iterable 변수의 값 갯수만큼 실행"
   ]
  },
  {
   "cell_type": "code",
   "execution_count": 28,
   "metadata": {},
   "outputs": [
    {
     "name": "stdout",
     "output_type": "stream",
     "text": [
      "1\n",
      "2\n",
      "3\n"
     ]
    }
   ],
   "source": [
    "my_li = [1, 2, 3]\n",
    "\n",
    "for number in my_li:\n",
    "    print(number)"
   ]
  },
  {
   "cell_type": "code",
   "execution_count": 29,
   "metadata": {},
   "outputs": [
    {
     "name": "stdout",
     "output_type": "stream",
     "text": [
      "1\n",
      "2\n",
      "3\n",
      "[1, 2, 3]\n"
     ]
    }
   ],
   "source": [
    "data = []\n",
    "\n",
    "for value in my_li:\n",
    "    print(value)\n",
    "    data.append(value)\n",
    "\n",
    "print(data)\n"
   ]
  },
  {
   "cell_type": "code",
   "execution_count": null,
   "metadata": {},
   "outputs": [],
   "source": [
    "# continue\n",
    "\n",
    "li = [0,1,2,3,4]\n",
    "\n",
    "for value in li:\n",
    "    # data가 홀수가 되면 continue 실행\n",
    "    if value % 2:\n",
    "        continue\n",
    "    print(value)"
   ]
  },
  {
   "cell_type": "code",
   "execution_count": 31,
   "metadata": {},
   "outputs": [
    {
     "data": {
      "text/plain": [
       "[0,\n",
       " 1,\n",
       " 2,\n",
       " 3,\n",
       " 4,\n",
       " 5,\n",
       " 6,\n",
       " 7,\n",
       " 8,\n",
       " 9,\n",
       " 10,\n",
       " 11,\n",
       " 12,\n",
       " 13,\n",
       " 14,\n",
       " 15,\n",
       " 16,\n",
       " 17,\n",
       " 18,\n",
       " 19,\n",
       " 20,\n",
       " 21,\n",
       " 22,\n",
       " 23,\n",
       " 24,\n",
       " 25,\n",
       " 26,\n",
       " 27,\n",
       " 28,\n",
       " 29,\n",
       " 30,\n",
       " 31,\n",
       " 32,\n",
       " 33,\n",
       " 34,\n",
       " 35,\n",
       " 36,\n",
       " 37,\n",
       " 38,\n",
       " 39,\n",
       " 40,\n",
       " 41,\n",
       " 42,\n",
       " 43,\n",
       " 44,\n",
       " 45,\n",
       " 46,\n",
       " 47,\n",
       " 48,\n",
       " 49,\n",
       " 50,\n",
       " 51,\n",
       " 52,\n",
       " 53,\n",
       " 54,\n",
       " 55,\n",
       " 56,\n",
       " 57,\n",
       " 58,\n",
       " 59,\n",
       " 60,\n",
       " 61,\n",
       " 62,\n",
       " 63,\n",
       " 64,\n",
       " 65,\n",
       " 66,\n",
       " 67,\n",
       " 68,\n",
       " 69,\n",
       " 70,\n",
       " 71,\n",
       " 72,\n",
       " 73,\n",
       " 74,\n",
       " 75,\n",
       " 76,\n",
       " 77,\n",
       " 78,\n",
       " 79,\n",
       " 80,\n",
       " 81,\n",
       " 82,\n",
       " 83,\n",
       " 84,\n",
       " 85,\n",
       " 86,\n",
       " 87,\n",
       " 88,\n",
       " 89,\n",
       " 90,\n",
       " 91,\n",
       " 92,\n",
       " 93,\n",
       " 94,\n",
       " 95,\n",
       " 96,\n",
       " 97,\n",
       " 98,\n",
       " 99]"
      ]
     },
     "execution_count": 31,
     "metadata": {},
     "output_type": "execute_result"
    }
   ],
   "source": [
    "# for문에 자주 사용하는 함수\n",
    "# range()\n",
    "# enumerate()\n",
    "# zip()\n",
    "\n",
    "my_li = [1, 2, 3, 4, 5, 6, 7, 8, 9, 10]\n",
    "\n",
    "list(range(100))"
   ]
  },
  {
   "cell_type": "code",
   "execution_count": 33,
   "metadata": {},
   "outputs": [
    {
     "data": {
      "text/plain": [
       "[1, 3, 5, 7, 9]"
      ]
     },
     "execution_count": 33,
     "metadata": {},
     "output_type": "execute_result"
    }
   ],
   "source": [
    "list(range(10))\n",
    "list(range(1,11))\n",
    "list(range(1,11,2))"
   ]
  },
  {
   "cell_type": "code",
   "execution_count": 34,
   "metadata": {},
   "outputs": [
    {
     "name": "stdout",
     "output_type": "stream",
     "text": [
      "4950\n"
     ]
    }
   ],
   "source": [
    "result = 0\n",
    "\n",
    "for data in range(100):\n",
    "    result += data\n",
    "print(result)"
   ]
  },
  {
   "cell_type": "code",
   "execution_count": null,
   "metadata": {},
   "outputs": [],
   "source": [
    "# enumerate()\n",
    "# 순서가 있는 자료형(iterable, 리스트, 튜플, 딕셔너리)를 입력으로 받습니다\n",
    "# 각 요소의 인덱스와 값을 함께 반환합니다"
   ]
  },
  {
   "cell_type": "code",
   "execution_count": 35,
   "metadata": {},
   "outputs": [],
   "source": [
    "ls = ['first', 'second', 'third']"
   ]
  },
  {
   "cell_type": "code",
   "execution_count": 37,
   "metadata": {},
   "outputs": [
    {
     "name": "stdout",
     "output_type": "stream",
     "text": [
      "0 first\n",
      "1 second\n",
      "2 third\n"
     ]
    }
   ],
   "source": [
    "for idx, data in enumerate(ls):\n",
    "    print(idx, data)"
   ]
  },
  {
   "cell_type": "code",
   "execution_count": 38,
   "metadata": {},
   "outputs": [
    {
     "data": {
      "text/plain": [
       "[1, 2]"
      ]
     },
     "execution_count": 38,
     "metadata": {},
     "output_type": "execute_result"
    }
   ],
   "source": [
    "# range() 만든 데이터\n",
    "# iterable 한 데이터\n",
    "# 인덱싱, 슬라이싱\n",
    "\n",
    "list(range(5))[1:3]"
   ]
  },
  {
   "cell_type": "code",
   "execution_count": 40,
   "metadata": {},
   "outputs": [],
   "source": [
    "# 딕셔너리 데이터 타입과 for문\n",
    "\n",
    "points_dict = {'python': 80, 'ml': 90, 'computer':100}\n"
   ]
  },
  {
   "cell_type": "code",
   "execution_count": 43,
   "metadata": {},
   "outputs": [
    {
     "name": "stdout",
     "output_type": "stream",
     "text": [
      "python\n",
      "ml\n",
      "computer\n"
     ]
    }
   ],
   "source": [
    "for data in points_dict:\n",
    "    print(data, end='\\n')"
   ]
  },
  {
   "cell_type": "code",
   "execution_count": 44,
   "metadata": {},
   "outputs": [
    {
     "name": "stdout",
     "output_type": "stream",
     "text": [
      "('python', 80) 3\n",
      "('ml', 90) 3\n",
      "('computer', 100) 3\n"
     ]
    }
   ],
   "source": [
    "for key in points_dict.items():\n",
    "    print(key, value)"
   ]
  },
  {
   "cell_type": "code",
   "execution_count": 50,
   "metadata": {},
   "outputs": [
    {
     "name": "stdout",
     "output_type": "stream",
     "text": [
      "fizz\n"
     ]
    }
   ],
   "source": [
    "# mini_quiz\n",
    "# (1) 숫자를 입력 받습니다\n",
    "# (2) 3의 배수이면 'fizz'\n",
    "# (3) 5의 배수이면 'buzz'\n",
    "# (4) 3과 5의 배수가 아니면 'fizzbuzz'\n",
    "# (5) 3과 5와 15의 배수가 아니면 입력한 숫자 출력\n",
    "\n",
    "num = int(input())\n",
    "\n",
    "if num%3 == 0:\n",
    "    print('fizz')\n",
    "elif num%5 == 0:\n",
    "    print('buzz')\n",
    "elif num%15 == 0:\n",
    "    print('fizzbuzz')\n",
    "else:\n",
    "    print(num)"
   ]
  },
  {
   "cell_type": "code",
   "execution_count": 48,
   "metadata": {},
   "outputs": [
    {
     "name": "stdout",
     "output_type": "stream",
     "text": [
      "5\n"
     ]
    }
   ],
   "source": [
    "# 강사님 ver.\n",
    "num = int(input())\n",
    "print(num)"
   ]
  },
  {
   "cell_type": "code",
   "execution_count": null,
   "metadata": {},
   "outputs": [],
   "source": [
    "# 조건문\n",
    "# fizz 는 소문자로 출력해주세요\n",
    "# buzz 는 대문자로 출력해주세요\n",
    "if num % 15 == 0:\n",
    "    print('fizzbuzz')\n",
    "elif num % 3 == 0:\n",
    "    print('FIZZ'.lower())  # lower()는 소문자로 출력\n",
    "elif num % 5 == 0:\n",
    "    print('buzz'.upper())  # upper는 대문자로 출력\n",
    "else:\n",
    "    print(num)"
   ]
  },
  {
   "cell_type": "code",
   "execution_count": 52,
   "metadata": {},
   "outputs": [
    {
     "name": "stdout",
     "output_type": "stream",
     "text": [
      "2 * 1 = 2\n",
      "2 * 2 = 4\n",
      "2 * 3 = 6\n",
      "2 * 4 = 8\n",
      "2 * 5 = 10\n",
      "2 * 6 = 12\n",
      "2 * 7 = 14\n",
      "2 * 8 = 16\n",
      "2 * 9 = 18\n",
      "\n",
      "3 * 1 = 3\n",
      "3 * 2 = 6\n",
      "3 * 3 = 9\n",
      "3 * 4 = 12\n",
      "3 * 5 = 15\n",
      "3 * 6 = 18\n",
      "3 * 7 = 21\n",
      "3 * 8 = 24\n",
      "3 * 9 = 27\n",
      "\n",
      "4 * 1 = 4\n",
      "4 * 2 = 8\n",
      "4 * 3 = 12\n",
      "4 * 4 = 16\n",
      "4 * 5 = 20\n",
      "4 * 6 = 24\n",
      "4 * 7 = 28\n",
      "4 * 8 = 32\n",
      "4 * 9 = 36\n",
      "\n",
      "5 * 1 = 5\n",
      "5 * 2 = 10\n",
      "5 * 3 = 15\n",
      "5 * 4 = 20\n",
      "5 * 5 = 25\n",
      "5 * 6 = 30\n",
      "5 * 7 = 35\n",
      "5 * 8 = 40\n",
      "5 * 9 = 45\n",
      "\n",
      "6 * 1 = 6\n",
      "6 * 2 = 12\n",
      "6 * 3 = 18\n",
      "6 * 4 = 24\n",
      "6 * 5 = 30\n",
      "6 * 6 = 36\n",
      "6 * 7 = 42\n",
      "6 * 8 = 48\n",
      "6 * 9 = 54\n",
      "\n",
      "7 * 1 = 7\n",
      "7 * 2 = 14\n",
      "7 * 3 = 21\n",
      "7 * 4 = 28\n",
      "7 * 5 = 35\n",
      "7 * 6 = 42\n",
      "7 * 7 = 49\n",
      "7 * 8 = 56\n",
      "7 * 9 = 63\n",
      "\n",
      "8 * 1 = 8\n",
      "8 * 2 = 16\n",
      "8 * 3 = 24\n",
      "8 * 4 = 32\n",
      "8 * 5 = 40\n",
      "8 * 6 = 48\n",
      "8 * 7 = 56\n",
      "8 * 8 = 64\n",
      "8 * 9 = 72\n",
      "\n",
      "9 * 1 = 9\n",
      "9 * 2 = 18\n",
      "9 * 3 = 27\n",
      "9 * 4 = 36\n",
      "9 * 5 = 45\n",
      "9 * 6 = 54\n",
      "9 * 7 = 63\n",
      "9 * 8 = 72\n",
      "9 * 9 = 81\n",
      "\n"
     ]
    }
   ],
   "source": [
    "# 2중 for 문\n",
    "# 보통, 3중 이상 for 문 사용하지 않습니다\n",
    "# 구구단\n",
    "\n",
    "for num1 in range(2,10):\n",
    "    #print(num1)\n",
    "    for num2 in range(1,10):\n",
    "        print(f'{num1} * {num2} = {num1 * num2}')\n",
    "    print()"
   ]
  },
  {
   "cell_type": "code",
   "execution_count": 54,
   "metadata": {},
   "outputs": [
    {
     "name": "stdout",
     "output_type": "stream",
     "text": [
      "python\n",
      "python\n",
      "python\n"
     ]
    }
   ],
   "source": [
    "# 사용되지 않지만, 선언이 되어야 하는 경우\n",
    "# 변수명은 _ 로 사용\n",
    "# 식별자가 중복되지 않도록 하기 위해서\n",
    "\n",
    "ls = [1, 2, 3]\n",
    "\n",
    "for _ in ls:\n",
    "    print('python')"
   ]
  },
  {
   "cell_type": "code",
   "execution_count": 56,
   "metadata": {},
   "outputs": [
    {
     "name": "stdout",
     "output_type": "stream",
     "text": [
      "*\n",
      "**\n",
      "***\n"
     ]
    }
   ],
   "source": [
    "# 숫자를 입력 받습니다\n",
    "# 받은 숫자만큼, * 찍기\n",
    "\n",
    "num = int(input())\n",
    "\n",
    "for first in range(num):\n",
    "    #print(first)\n",
    "    for _ in range(first + 1):\n",
    "        print('*', end=\"\")\n",
    "    print()"
   ]
  },
  {
   "cell_type": "code",
   "execution_count": 57,
   "metadata": {},
   "outputs": [
    {
     "name": "stdout",
     "output_type": "stream",
     "text": [
      "[[1, 2, 3], [4, 5, 6], [7, 8, 9]]\n"
     ]
    }
   ],
   "source": [
    "matrix = [[1, 2, 3], \n",
    "          [4, 5, 6], \n",
    "          [7, 8, 9]]\n",
    "\n",
    "print(matrix)"
   ]
  },
  {
   "cell_type": "markdown",
   "metadata": {},
   "source": [
    "# mini_quiz\n",
    "# 2중 for문\n",
    "\n",
    "```\n",
    "1 2 3\n",
    "4 5 6\n",
    "7 8 9\n",
    "```"
   ]
  },
  {
   "cell_type": "code",
   "execution_count": 60,
   "metadata": {},
   "outputs": [
    {
     "name": "stdout",
     "output_type": "stream",
     "text": [
      "1 2 3 \n",
      "4 5 6 \n",
      "7 8 9 \n"
     ]
    }
   ],
   "source": [
    "for first in matrix:\n",
    "    for second in first:\n",
    "        print(second, end=\" \")\n",
    "    print()"
   ]
  },
  {
   "cell_type": "code",
   "execution_count": null,
   "metadata": {},
   "outputs": [],
   "source": []
  }
 ],
 "metadata": {
  "kernelspec": {
   "display_name": "test_venv",
   "language": "python",
   "name": "python3"
  },
  "language_info": {
   "codemirror_mode": {
    "name": "ipython",
    "version": 3
   },
   "file_extension": ".py",
   "mimetype": "text/x-python",
   "name": "python",
   "nbconvert_exporter": "python",
   "pygments_lexer": "ipython3",
   "version": "3.8.18"
  },
  "orig_nbformat": 4
 },
 "nbformat": 4,
 "nbformat_minor": 2
}
