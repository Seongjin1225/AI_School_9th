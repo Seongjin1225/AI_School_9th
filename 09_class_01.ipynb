{
 "cells": [
  {
   "cell_type": "markdown",
   "metadata": {},
   "source": [
    "# 클래스(class)\n",
    "- 클래스 주요 개념 \n",
    "- 클래스 기본\n",
    "- 생성자 함수\n",
    "- self \n",
    "- 클래스 변수\n",
    "- 상속\n",
    "- 오버라이딩\n",
    "- is-a 와 has-a"
   ]
  },
  {
   "cell_type": "markdown",
   "metadata": {},
   "source": [
    "## 1. class 주요 개념 \n",
    "- 함수의 상위 개념 \n",
    "- 변수와 함수를 묶어 놓은 코드 \n",
    "- 주요 용어\n",
    "    - 객체 지향, 객체(object), 속성(attribute), 메서드(method), 인스턴스(instance)\n",
    "    - 카멜케이스(CamelCase)"
   ]
  },
  {
   "cell_type": "markdown",
   "metadata": {},
   "source": [
    "## 2. 클래스 기본"
   ]
  },
  {
   "cell_type": "code",
   "execution_count": 3,
   "metadata": {},
   "outputs": [],
   "source": [
    "# 클래스 기본 문법\n",
    "class ClassName:\n",
    "    pass"
   ]
  },
  {
   "cell_type": "code",
   "execution_count": 18,
   "metadata": {},
   "outputs": [],
   "source": [
    "# 클래스 선언\n",
    "class Person:\n",
    "    # 속성(attribute)\n",
    "    name = \"codelion\"\n",
    "    age = 5\n",
    "\n",
    "    # 메서드(method)  \n",
    "    # 클래스 안에서 함수를 작성하면, 첫 번째 매개변수를 꼭 self 를 받아야 합니다\n",
    "    def introduce(self):\n",
    "        print(f'안녕하세요! 제 이름은 {self.name} 입니다. 나이는 {self.age} 살 입니다.')"
   ]
  },
  {
   "cell_type": "code",
   "execution_count": 7,
   "metadata": {},
   "outputs": [],
   "source": [
    "# Person 클래스의 인스턴스(instance) 생성\n",
    "person = Person()\n",
    "# Person 클래스의 메서드 호출\n",
    "person.introduce()"
   ]
  },
  {
   "cell_type": "code",
   "execution_count": 20,
   "metadata": {},
   "outputs": [
    {
     "name": "stdout",
     "output_type": "stream",
     "text": [
      "안녕하세요! 제 이름은 codelion 입니다. 나이는 5 살 입니다.\n"
     ]
    }
   ],
   "source": [
    "# Person 클래스의 인스턴스(instance)를 생성\n",
    "honggildong = Person()\n",
    "honggildong.introduce()"
   ]
  },
  {
   "cell_type": "code",
   "execution_count": 14,
   "metadata": {},
   "outputs": [],
   "source": [
    "# 인스턴스의 속성값을 변경\n",
    "honggildong.name = \"홍길동\"\n",
    "honggildong.age = 16"
   ]
  },
  {
   "cell_type": "code",
   "execution_count": 17,
   "metadata": {},
   "outputs": [
    {
     "name": "stdout",
     "output_type": "stream",
     "text": [
      "안녕하세요! 제 이름은 홍길동 입니다. 나이는 16 살 입니다.\n"
     ]
    },
    {
     "data": {
      "text/plain": [
       "16"
      ]
     },
     "execution_count": 17,
     "metadata": {},
     "output_type": "execute_result"
    }
   ],
   "source": [
    "honggildong.introduce()\n",
    "honggildong.age"
   ]
  },
  {
   "cell_type": "code",
   "execution_count": 22,
   "metadata": {},
   "outputs": [
    {
     "data": {
      "text/plain": [
       "True"
      ]
     },
     "execution_count": 22,
     "metadata": {},
     "output_type": "execute_result"
    }
   ],
   "source": [
    "# isinstance()\n",
    "# 특정 클래스의 인스턴스인지 확인\n",
    "isinstance(honggildong, Person)"
   ]
  },
  {
   "cell_type": "code",
   "execution_count": 23,
   "metadata": {},
   "outputs": [
    {
     "name": "stdout",
     "output_type": "stream",
     "text": [
      "안녕하세요! 제 이름은 codetiger 입니다. 나이는 1 살 입니다.\n"
     ]
    }
   ],
   "source": [
    "person3 = Person()\n",
    "person3.name = \"codetiger\"\n",
    "person3.age = 1 \n",
    "person3.introduce()"
   ]
  },
  {
   "cell_type": "markdown",
   "metadata": {},
   "source": [
    "## 3. 생성자 함수"
   ]
  },
  {
   "cell_type": "code",
   "execution_count": 24,
   "metadata": {},
   "outputs": [],
   "source": [
    "# 클래스 선언\n",
    "class Person:\n",
    "    # 생성자 함수\n",
    "    def __init__(self, name, age):\n",
    "        self.name = name\n",
    "        self.age = age\n",
    "    \n",
    "    # 메서드 작성\n",
    "    def introduce(self):\n",
    "        print(f'안녕하세요! 제 이름은 {self.name} 입니다. 나이는 {self.age} 살 입니다.')"
   ]
  },
  {
   "cell_type": "code",
   "execution_count": 27,
   "metadata": {},
   "outputs": [],
   "source": [
    "# Person 클래스의 인스턴스 생성\n",
    "person1 = Person(\"조용하\", 18)\n",
    "person2 = Person(\"홍길동\", 16)"
   ]
  },
  {
   "cell_type": "code",
   "execution_count": 28,
   "metadata": {},
   "outputs": [
    {
     "name": "stdout",
     "output_type": "stream",
     "text": [
      "안녕하세요! 제 이름은 조용하 입니다. 나이는 18 살 입니다.\n",
      "안녕하세요! 제 이름은 홍길동 입니다. 나이는 16 살 입니다.\n"
     ]
    }
   ],
   "source": [
    "# 메서드 호출\n",
    "person1.introduce()\n",
    "person2.introduce()"
   ]
  },
  {
   "cell_type": "code",
   "execution_count": 30,
   "metadata": {},
   "outputs": [
    {
     "name": "stdout",
     "output_type": "stream",
     "text": [
      "조용하\n",
      "홍길동\n"
     ]
    }
   ],
   "source": [
    "# 속성 확인\n",
    "print(person1.name)\n",
    "print(person2.name)"
   ]
  },
  {
   "cell_type": "code",
   "execution_count": 32,
   "metadata": {},
   "outputs": [
    {
     "data": {
      "text/plain": [
       "'PYTHON'"
      ]
     },
     "execution_count": 32,
     "metadata": {},
     "output_type": "execute_result"
    }
   ],
   "source": [
    "# 파이썬 기본 자료형 모두 클래스로 구현되어 있습니다\n",
    "text = \"python\"\n",
    "text.upper()"
   ]
  },
  {
   "cell_type": "code",
   "execution_count": 49,
   "metadata": {},
   "outputs": [
    {
     "data": {
      "text/plain": [
       "['__add__',\n",
       " '__class__',\n",
       " '__contains__',\n",
       " '__delattr__',\n",
       " '__dir__',\n",
       " '__doc__',\n",
       " '__eq__',\n",
       " '__format__',\n",
       " '__ge__',\n",
       " '__getattribute__',\n",
       " '__getitem__',\n",
       " '__getnewargs__',\n",
       " '__gt__',\n",
       " '__hash__',\n",
       " '__init__',\n",
       " '__init_subclass__',\n",
       " '__iter__',\n",
       " '__le__',\n",
       " '__len__',\n",
       " '__lt__',\n",
       " '__mod__',\n",
       " '__mul__',\n",
       " '__ne__',\n",
       " '__new__',\n",
       " '__reduce__',\n",
       " '__reduce_ex__',\n",
       " '__repr__',\n",
       " '__rmod__',\n",
       " '__rmul__',\n",
       " '__setattr__',\n",
       " '__sizeof__',\n",
       " '__str__',\n",
       " '__subclasshook__',\n",
       " 'capitalize',\n",
       " 'casefold',\n",
       " 'center',\n",
       " 'count',\n",
       " 'encode',\n",
       " 'endswith',\n",
       " 'expandtabs',\n",
       " 'find',\n",
       " 'format',\n",
       " 'format_map',\n",
       " 'index',\n",
       " 'isalnum',\n",
       " 'isalpha',\n",
       " 'isascii',\n",
       " 'isdecimal',\n",
       " 'isdigit',\n",
       " 'isidentifier',\n",
       " 'islower',\n",
       " 'isnumeric',\n",
       " 'isprintable',\n",
       " 'isspace',\n",
       " 'istitle',\n",
       " 'isupper',\n",
       " 'join',\n",
       " 'ljust',\n",
       " 'lower',\n",
       " 'lstrip',\n",
       " 'maketrans',\n",
       " 'partition',\n",
       " 'replace',\n",
       " 'rfind',\n",
       " 'rindex',\n",
       " 'rjust',\n",
       " 'rpartition',\n",
       " 'rsplit',\n",
       " 'rstrip',\n",
       " 'split',\n",
       " 'splitlines',\n",
       " 'startswith',\n",
       " 'strip',\n",
       " 'swapcase',\n",
       " 'title',\n",
       " 'translate',\n",
       " 'upper',\n",
       " 'zfill']"
      ]
     },
     "execution_count": 49,
     "metadata": {},
     "output_type": "execute_result"
    }
   ],
   "source": [
    "# dir()\n",
    "# 클래스가 가진 속성과 메서드를 확인합니다\n",
    "dir(text)"
   ]
  },
  {
   "cell_type": "markdown",
   "metadata": {},
   "source": [
    "## 4. 클래스 변수"
   ]
  },
  {
   "cell_type": "markdown",
   "metadata": {},
   "source": [
    "### 노트북을 클래스 구현"
   ]
  },
  {
   "cell_type": "code",
   "execution_count": 58,
   "metadata": {},
   "outputs": [],
   "source": [
    "class NoteBook:\n",
    "    # 생성자 함수\n",
    "    def __init__(self, os, cpu, ram, ssd):\n",
    "        self.__os = os  # private attribute\n",
    "        self.cpu = cpu  # public attribute\n",
    "        self.__ram = ram\n",
    "        self.ssd = ssd\n",
    "\n",
    "    # 노트북 정보를 보여주는 메서드\n",
    "    def show_notebook_info(self):\n",
    "        print(f'os is {self.__os}')\n",
    "        print(f'cpu is {self.cpu}')\n",
    "        print(f'ram is {self.__ram}')\n",
    "        print(f'ssd is {self.ssd}')\n",
    "    \n",
    "    def upgrade_ram(self, upgrade):\n",
    "        print(f'정식기사님이 {self.__ram} 을 {upgrade} 로 업그레이드 했습니다.')\n",
    "        self.__ram = upgrade \n",
    "        print('노트북은 좋아졌지만.. 내 통장이 가벼워집니다..')"
   ]
  },
  {
   "cell_type": "code",
   "execution_count": 59,
   "metadata": {},
   "outputs": [
    {
     "name": "stdout",
     "output_type": "stream",
     "text": [
      "os is mac\n",
      "cpu is m1\n",
      "ram is 32gb\n",
      "ssd is 512gb\n"
     ]
    }
   ],
   "source": [
    "# NoteBook 클래스의 인스턴스 생성 \n",
    "notebook1 = NoteBook('mac', 'm1', '32gb', '512gb')\n",
    "notebook1.show_notebook_info()"
   ]
  },
  {
   "cell_type": "code",
   "execution_count": 60,
   "metadata": {},
   "outputs": [
    {
     "name": "stdout",
     "output_type": "stream",
     "text": [
      "os is mac\n",
      "cpu is m2\n",
      "ram is 32gb\n",
      "ssd is 1024gb\n"
     ]
    }
   ],
   "source": [
    "# 속성 값 변경\n",
    "# 불법 개조 \n",
    "notebook1.os = \"windows\"\n",
    "notebook1.cpu = \"m2\"\n",
    "notebook1.ram = \"64gb\"\n",
    "notebook1.ssd = \"1024gb\"\n",
    "\n",
    "notebook1.show_notebook_info()"
   ]
  },
  {
   "cell_type": "code",
   "execution_count": 61,
   "metadata": {},
   "outputs": [
    {
     "name": "stdout",
     "output_type": "stream",
     "text": [
      "정식기사님이 32gb 을 64gb 로 업그레이드 했습니다.\n",
      "노트북은 좋아졌지만.. 내 통장이 가벼워집니다..\n"
     ]
    }
   ],
   "source": [
    "# 서비스센터를 방문합니다 \n",
    "notebook1.upgrade_ram(\"64gb\")"
   ]
  },
  {
   "cell_type": "code",
   "execution_count": 62,
   "metadata": {},
   "outputs": [
    {
     "name": "stdout",
     "output_type": "stream",
     "text": [
      "os is mac\n",
      "cpu is m2\n",
      "ram is 64gb\n",
      "ssd is 1024gb\n"
     ]
    }
   ],
   "source": [
    "notebook1.show_notebook_info()"
   ]
  },
  {
   "cell_type": "markdown",
   "metadata": {},
   "source": [
    "## [mini practice]\n",
    "\n",
    "```\n",
    "사자 (포유류)가 로어 소리를 냅니다.\n",
    "고양이 (포유류)가 야옹 소리를 냅니다.\n",
    "앵무새 (조류)가 안녕하세요 소리를 냅니다.\n",
    "```"
   ]
  },
  {
   "cell_type": "code",
   "execution_count": 65,
   "metadata": {},
   "outputs": [],
   "source": [
    "class Animal:\n",
    "    def __init__(self, name, species):\n",
    "        self.name = name\n",
    "        self.species = species\n",
    "\n",
    "    # 메서드\n",
    "    def make_sound(self, sound):\n",
    "        print(f'{self.name} {self.species}가 {sound} 소리를 냅니다.')"
   ]
  },
  {
   "cell_type": "code",
   "execution_count": 66,
   "metadata": {},
   "outputs": [
    {
     "name": "stdout",
     "output_type": "stream",
     "text": [
      "사자 포유류가 으어어어그으크아앙 소리를 냅니다.\n"
     ]
    }
   ],
   "source": [
    "# 동물 객체 생성\n",
    "lion = Animal(\"사자\", \"포유류\")\n",
    "# 동물 소리 내기\n",
    "lion.make_sound(\"으어어어그으크아앙\")"
   ]
  },
  {
   "cell_type": "markdown",
   "metadata": {},
   "source": [
    "## 5. self ? \n",
    "- 객체 자신"
   ]
  },
  {
   "cell_type": "code",
   "execution_count": 1,
   "metadata": {},
   "outputs": [],
   "source": [
    "class Person:\n",
    "    def __init__(self, name):\n",
    "        self.name = name\n",
    "    \n",
    "    def say_hello(self):\n",
    "        print(f\"hello, my name is {self.name}\")"
   ]
  },
  {
   "cell_type": "code",
   "execution_count": 3,
   "metadata": {},
   "outputs": [
    {
     "name": "stdout",
     "output_type": "stream",
     "text": [
      "hello, my name is codelion\n"
     ]
    }
   ],
   "source": [
    "person1 = Person('codelion')\n",
    "person1.say_hello()"
   ]
  },
  {
   "cell_type": "code",
   "execution_count": 4,
   "metadata": {},
   "outputs": [
    {
     "data": {
      "text/plain": [
       "'codelion'"
      ]
     },
     "execution_count": 4,
     "metadata": {},
     "output_type": "execute_result"
    }
   ],
   "source": [
    "person1.name"
   ]
  },
  {
   "cell_type": "code",
   "execution_count": 10,
   "metadata": {},
   "outputs": [
    {
     "name": "stdout",
     "output_type": "stream",
     "text": [
      "hello, my name is 전역변수입니다\n"
     ]
    }
   ],
   "source": [
    "# 전역변수, 지역변수\n",
    "\n",
    "name = \"전역변수입니다\"\n",
    "\n",
    "class Person:\n",
    "    def __init__(self, name):\n",
    "        self.name = name\n",
    "    \n",
    "    def say_hello(self):\n",
    "        print(f'hello, my name is {self.name}')\n",
    "\n",
    "# Person 클래스의 인스턴스 생성\n",
    "person2 = Person('클래스 내부 변수입니다')\n",
    "# say_hello 메서드 호출\n",
    "person2.say_hello()"
   ]
  },
  {
   "cell_type": "code",
   "execution_count": 11,
   "metadata": {},
   "outputs": [
    {
     "data": {
      "text/plain": [
       "'클래스 내부 변수입니다'"
      ]
     },
     "execution_count": 11,
     "metadata": {},
     "output_type": "execute_result"
    }
   ],
   "source": [
    "person2.name"
   ]
  },
  {
   "cell_type": "code",
   "execution_count": 12,
   "metadata": {},
   "outputs": [
    {
     "ename": "AttributeError",
     "evalue": "type object 'Person' has no attribute 'name'",
     "output_type": "error",
     "traceback": [
      "\u001b[0;31m---------------------------------------------------------------------------\u001b[0m",
      "\u001b[0;31mAttributeError\u001b[0m                            Traceback (most recent call last)",
      "\u001b[1;32m/Users/yh/Documents/my_ws/edu/python/09_class.ipynb Cell 35\u001b[0m line \u001b[0;36m1\n\u001b[0;32m----> <a href='vscode-notebook-cell:/Users/yh/Documents/my_ws/edu/python/09_class.ipynb#X50sZmlsZQ%3D%3D?line=0'>1</a>\u001b[0m Person\u001b[39m.\u001b[39;49mname\n",
      "\u001b[0;31mAttributeError\u001b[0m: type object 'Person' has no attribute 'name'"
     ]
    }
   ],
   "source": [
    "Person.name"
   ]
  },
  {
   "cell_type": "markdown",
   "metadata": {},
   "source": [
    "[practice] 데이터 사이언티스트 클래스 구현\n",
    "- 10:20 분에 같이 확인하겠습니다!"
   ]
  },
  {
   "cell_type": "code",
   "execution_count": 62,
   "metadata": {},
   "outputs": [],
   "source": [
    "class DataScientist:\n",
    "\n",
    "    def __init__(self, name, education):\n",
    "        self.name = name \n",
    "        self.education = education\n",
    "        self.__skills = []\n",
    "        self.__projects = [] \n",
    "\n",
    "    # 데이터 수집    \n",
    "    def data_collection(self):\n",
    "        print(f'{self.name}은/는 {self.education}에서 교육을 받아 데이터 수집을 할 수 있습니다')\n",
    "        \n",
    "    # 데이터 분석\n",
    "    def data_analysis(self):\n",
    "        if self.__skills == []:\n",
    "            print(f'{self.name}가/이 {self.education}에서 교육 받고 있습니다. 조금만 더 기다려주세요!')\n",
    "        else:\n",
    "            print(f'{self.name}가/이 {self.education}에서 교육 받아 {self.__skills}으로 데이터 분석을 합니다!')\n",
    "\n",
    "    # 기술 추가\n",
    "    def add_skill(self, skill):\n",
    "        if skill not in self.__skills:\n",
    "            self.__skills.append(skill)\n",
    "            print(f'{self.name}가/이 {skill} 기술을 익혔습니다!')\n",
    "\n",
    "    # 보유 기술 정보 보여주기\n",
    "    def show_skills(self):\n",
    "        for skill in self.__skills:\n",
    "            print(f'{skill}을 할 줄 압니다. {self.education}에서 배웠습니다')\n",
    "\n",
    "    # 프로젝트 추가 \n",
    "    def add_project(self, project_name):\n",
    "        self.__projects.append(project_name)\n",
    "        print(f'{self.name}이 {project_name} 을 추가했습니다!')\n",
    "    \n",
    "    # 포트폴리오 보여주세요\n",
    "    def show_portfolio(self):\n",
    "        if self.__projects:\n",
    "            print(f'{self.name}의 포트폴리오')\n",
    "            for project in self.__projects:\n",
    "                print(f'{project}가 있습니다')\n",
    "        else:\n",
    "            print(f'{self.name}의 포트폴리오는 아직 비어있습니다. 조금만 더 기다려주세요')"
   ]
  },
  {
   "cell_type": "code",
   "execution_count": null,
   "metadata": {},
   "outputs": [],
   "source": [
    "- 오전: 클래스 문법 마무리 \n",
    "ㄴ 상속\n",
    "- 오후: 예외처리, 모듈\n",
    "ㄴ 15:00 \n",
    "- 테스트\n",
    "ㄴ 16:00 ~ 17:00 \n",
    "ㄴ 파이썬 기초 문제\n",
    "ㄴ 50분 동안 풀어보시고, 질문 있으면 17:00 \n",
    "- 17:00 ~ 18:00 \n",
    "ㄴ 마무리 "
   ]
  },
  {
   "cell_type": "code",
   "execution_count": 65,
   "metadata": {},
   "outputs": [
    {
     "name": "stdout",
     "output_type": "stream",
     "text": [
      "kudang은/는 멋쟁이사자처럼에서 교육을 받아 데이터 수집을 할 수 있습니다\n",
      "kudang가/이 멋쟁이사자처럼에서 교육 받고 있습니다. 조금만 더 기다려주세요!\n",
      "kudang가/이 파이썬 기술을 익혔습니다!\n",
      "kudang가/이 멋쟁이사자처럼에서 교육 받아 ['파이썬']으로 데이터 분석을 합니다!\n",
      "파이썬을 할 줄 압니다. 멋쟁이사자처럼에서 배웠습니다\n",
      "kudang의 포트폴리오는 아직 비어있습니다. 조금만 더 기다려주세요\n",
      "kudang이 배달팁 아끼기 AI 프로젝트 을 추가했습니다!\n",
      "kudang의 포트폴리오\n",
      "배달팁 아끼기 AI 프로젝트가 있습니다\n"
     ]
    }
   ],
   "source": [
    "ds1 = DataScientist('kudang', '멋쟁이사자처럼')\n",
    "ds1.data_collection()\n",
    "ds1.data_analysis()\n",
    "ds1.add_skill('파이썬')\n",
    "ds1.data_analysis()\n",
    "ds1.show_skills()\n",
    "ds1.show_portfolio()\n",
    "ds1.add_project('배달팁 아끼기 AI 프로젝트')\n",
    "ds1.show_portfolio()"
   ]
  },
  {
   "cell_type": "markdown",
   "metadata": {},
   "source": [
    "## 6. 상속 (inheritance)\n",
    "- 기존에 있는 클래스를 기반으로 내가 원하는 클래스를 작성\n",
    "- 부모클래스, 자식클래스"
   ]
  },
  {
   "cell_type": "code",
   "execution_count": 77,
   "metadata": {},
   "outputs": [],
   "source": [
    "class Parent:\n",
    "    def __init__(self):\n",
    "        self.parent_value = '부모님의 사랑❤️'\n",
    "        print('부모클래스의 생성자 함수가 실행됐습니다')\n",
    "    \n",
    "    def parent_give_love(self):\n",
    "        print('부모님은 자식에게 응원 메시지를 보냅니다.')\n",
    "\n",
    "class Child(Parent):\n",
    "    def __init__(self):\n",
    "        super().__init__()  # 부모클래스가 가진 속성과 메서드를 자식클래스가 사용할 수 있도록 하는 코드\n",
    "        print('자식클래스의 생성자 함수가 실행됐습니다. 이제 부모가 물려주신 변수나 메서드를 활용할 수 있습니다')\n",
    "\n",
    "    def child_take_love(self):\n",
    "        print(f'자식이 {self.parent_value} 을/를 받았습니다')"
   ]
  },
  {
   "cell_type": "code",
   "execution_count": 79,
   "metadata": {},
   "outputs": [
    {
     "name": "stdout",
     "output_type": "stream",
     "text": [
      "부모클래스의 생성자 함수가 실행됐습니다\n",
      "자식클래스의 생성자 함수가 실행됐습니다. 이제 부모가 물려주신 변수나 메서드를 활용할 수 있습니다\n",
      "부모클래스의 생성자 함수가 실행됐습니다\n",
      "부모님은 자식에게 응원 메시지를 보냅니다.\n",
      "자식이 부모님의 사랑❤️ 을/를 받았습니다\n"
     ]
    }
   ],
   "source": [
    "child = Child()\n",
    "parent = Parent()\n",
    "parent.parent_value\n",
    "parent.parent_give_love()\n",
    "child.parent_value\n",
    "child.child_take_love()"
   ]
  },
  {
   "cell_type": "markdown",
   "metadata": {},
   "source": [
    "## 7. 오버라이딩 (overriding)\n",
    "- 부모클래스의 메서드를 무시하고 새로운 메서드를 생성 \n",
    "- 사용하려는 메서드 이름이 같은 경우"
   ]
  },
  {
   "cell_type": "code",
   "execution_count": 83,
   "metadata": {},
   "outputs": [
    {
     "name": "stdout",
     "output_type": "stream",
     "text": [
      "2\n",
      "<class 'int'>\n",
      "2\n",
      "2\n"
     ]
    }
   ],
   "source": [
    "print(1 + 1)\n",
    "print(type(1))\n",
    "print(int(1) + int(1))\n",
    "print(int(1).__add__(int(1)))"
   ]
  },
  {
   "cell_type": "code",
   "execution_count": 88,
   "metadata": {},
   "outputs": [],
   "source": [
    "class MyAdd(int):\n",
    "    def __init__(self, value):\n",
    "        super().__init__()\n",
    "        self.value = value\n",
    "    \n",
    "    # int 클래스가 가진 __add__ 메서드에 오버라이딩\n",
    "    def __add__(self, other):\n",
    "        # 데이터 타입이 같은 경우에만 연산 수행\n",
    "        if isinstance(other, MyAdd):\n",
    "            return MyAdd(self.value - other)\n",
    "        else:\n",
    "            # 데이터 타입이 다른 경우 에러를 발생 시킵니다 \n",
    "            raise TypeError(\"MyAdd 로 만든 데이터만 사용해주세요\")"
   ]
  },
  {
   "cell_type": "code",
   "execution_count": 96,
   "metadata": {},
   "outputs": [
    {
     "name": "stdout",
     "output_type": "stream",
     "text": [
      "-5\n",
      "5\n",
      "0\n",
      "0\n",
      "10\n"
     ]
    }
   ],
   "source": [
    "# MyAdd 객체 생성\n",
    "num1 = MyAdd(5)\n",
    "num2 = MyAdd(10)\n",
    "\n",
    "# 오버라이딩한 __add__ 메서드 호출\n",
    "print(num1.__add__(num2))  # MyAdd 클래스의 오버라이딩 한 더하기 연산 사용\n",
    "print(MyAdd(10) + MyAdd(5))  # MyAdd 클래스의 오버라이딩 한 더하기 연산 사용\n",
    "print(MyAdd(5) - MyAdd(5)) # 상속받은(부모클래스) 가 가진 빼기 연산을 사용\n",
    "print(MyAdd(5) - 5)  # 상속받은(부모클래스) 가 가진 빼기 연산을 사용\n",
    "# print(MyAdd(5) + 5)  # 타입에러 발생! 왜? MyAdd 더하기 연산 사용\n",
    "print(MyAdd(20).__add__(MyAdd(10))) "
   ]
  },
  {
   "cell_type": "markdown",
   "metadata": {},
   "source": [
    "## 8. is-a has-a"
   ]
  },
  {
   "cell_type": "markdown",
   "metadata": {},
   "source": [
    "## 8-1. is-a (상속관계)\n",
    "- 하위 클래스(sub class, dervied class)가 상위 클래스(super class, base class)의 모든 속성과 메서드를 상속 받는 방식"
   ]
  },
  {
   "cell_type": "code",
   "execution_count": 116,
   "metadata": {},
   "outputs": [],
   "source": [
    "# 동물 클래스 정의\n",
    "class Animal:\n",
    "    def __init__(self, name):\n",
    "        self.name = name\n",
    "    \n",
    "    def speak(self):\n",
    "        pass \n",
    "\n",
    "# 강아지 클래스 정의 \n",
    "class Dog(Animal):\n",
    "    def speak(self):\n",
    "        return f'{self.name}가 왈왈 짖습니다.'\n",
    "\n",
    "# 고양이 클래스 정의 \n",
    "class Cat(Animal):\n",
    "    def speak(self):\n",
    "        return f'{self.name}가 야옹야옹 웁니다.'"
   ]
  },
  {
   "cell_type": "code",
   "execution_count": 115,
   "metadata": {},
   "outputs": [
    {
     "name": "stdout",
     "output_type": "stream",
     "text": [
      "멍멍이가 왈왈 짖습니다.\n",
      "야옹이가 야옹야옹 웁니다.\n"
     ]
    }
   ],
   "source": [
    "dog = Dog('멍멍이')\n",
    "cat = Cat('야옹이')\n",
    "\n",
    "print(dog.speak())\n",
    "print(cat.speak())"
   ]
  },
  {
   "cell_type": "markdown",
   "metadata": {},
   "source": [
    "## 8-2. has-a (포함관계)\n",
    "- 한 클래스가 다른 클래스의 인스턴스를 포함하는 관계\n",
    "    - 차는 엔진을 갖고있습니다\n",
    "    - 우리(사람)는 노트북을 갖고 있습니다"
   ]
  },
  {
   "cell_type": "code",
   "execution_count": 117,
   "metadata": {},
   "outputs": [],
   "source": [
    "class Car:\n",
    "    def __init__(self):\n",
    "        self.engine = Engine()\n",
    "    \n",
    "    def drive(self):\n",
    "        self.engine.start()\n",
    "\n",
    "class Engine:\n",
    "    def start(self):\n",
    "        pass"
   ]
  },
  {
   "cell_type": "code",
   "execution_count": 118,
   "metadata": {},
   "outputs": [],
   "source": [
    "class Person:\n",
    "    def __init__(self, name):\n",
    "        self.name = name \n",
    "        self.notebook = None  # 아무 것도 없는 상태\n",
    "    \n",
    "    def acquire_notebook(self, notebook):\n",
    "        self.notebook = notebook\n",
    "        print(f'{self.name}이/가 {self.notebook.brand}을 얻었습니다')\n",
    "\n",
    "class Notebook:\n",
    "    def __init__(self, brand):\n",
    "        self.brand = brand"
   ]
  },
  {
   "cell_type": "code",
   "execution_count": 120,
   "metadata": {},
   "outputs": [],
   "source": [
    "person = Person('codelion')\n",
    "notebook = Notebook('macbook')"
   ]
  },
  {
   "cell_type": "code",
   "execution_count": 121,
   "metadata": {},
   "outputs": [
    {
     "name": "stdout",
     "output_type": "stream",
     "text": [
      "codelion이/가 macbook을 얻었습니다\n"
     ]
    }
   ],
   "source": [
    "person.acquire_notebook(notebook)"
   ]
  },
  {
   "cell_type": "code",
   "execution_count": null,
   "metadata": {},
   "outputs": [],
   "source": []
  }
 ],
 "metadata": {
  "kernelspec": {
   "display_name": "test_venv",
   "language": "python",
   "name": "python3"
  },
  "language_info": {
   "codemirror_mode": {
    "name": "ipython",
    "version": 3
   },
   "file_extension": ".py",
   "mimetype": "text/x-python",
   "name": "python",
   "nbconvert_exporter": "python",
   "pygments_lexer": "ipython3",
   "version": "3.8.17"
  },
  "orig_nbformat": 4
 },
 "nbformat": 4,
 "nbformat_minor": 2
}
