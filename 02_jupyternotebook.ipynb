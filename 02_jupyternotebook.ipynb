{
 "cells": [
  {
   "cell_type": "markdown",
   "id": "5366a524",
   "metadata": {},
   "source": [
    "# Jupyter Notebook"
   ]
  },
  {
   "cell_type": "code",
   "execution_count": null,
   "id": "94cd44ca",
   "metadata": {},
   "outputs": [],
   "source": [
    "1. terminal (git bash, anaconda prompt)\n",
    "2. cd Documents/my_ws\n",
    "3. conda activate test_venv\n",
    "4. jupyter notebook"
   ]
  },
  {
   "cell_type": "markdown",
   "id": "46bf0227",
   "metadata": {},
   "source": [
    "- cell 단위로 이루어져 있습니다\n",
    "    - cell 단위로 코드를 실행\n",
    "- mode\n",
    "    - 명령모드: cell 을 수정할 때 사용\n",
    "    - 편집모드: cell 의 내용을 수정할 때 사용\n",
    "- cell type\n",
    "    - code: cell 을 python 문법으로 실행\n",
    "    - markdown: cell 을 markdown 문법으로 실행\n",
    "- 자주 쓰는 단축키 \n",
    "    - 코드 실행: shift + enter\n",
    "    - 명령모드\n",
    "        - 위에 새로운 셀 생성: a\n",
    "        - 아래 새로운 셀 생성: b\n",
    "        - 현재 선택된 셀 삭제: x\n",
    "        - cell type 을 markdown 변경: m\n",
    "        - cell type 을 code 변경: y"
   ]
  },
  {
   "cell_type": "markdown",
   "id": "8f8e4255",
   "metadata": {},
   "source": [
    "# 자주 쓰는 터미널 명령어"
   ]
  },
  {
   "cell_type": "markdown",
   "id": "5c571a55",
   "metadata": {},
   "source": [
    "- ls \n",
    "    - list \n",
    "    - 현재 디렉토리 내 파일, 폴더 목록 표기\n",
    "- cd\n",
    "    - change directory \n",
    "    - 디렉토리 변경 \n",
    "- pwd\n",
    "    - print working directory\n",
    "    - 현재 작업 중인 디렉토리 경로 표기\n",
    "- mkdir\n",
    "    - make directory\n",
    "    - 새 디렉토리(폴더) 생성\n",
    "- touch\n",
    "    - 빈 파일 생성\n",
    "- mv\n",
    "    - move\n",
    "    - 파일, 디렉토리를 이동하거나 이름 변경\n",
    "    - 'mv 대상파일 옮길위치'\n",
    "- cp\n",
    "    - copy\n",
    "    - 파일, 디렉토리 복사 \n",
    "    - 'cp 대상파일 옮길위치'\n",
    "- rm\n",
    "    - remove\n",
    "    - 파일, 디렉토리를 삭제\n",
    "    - 'rm -rf 대상폴더(파일)'\n",
    "    - -r == relation -f == force\n",
    "    - 하위 폴더 포함 모두 강제로 삭제 한다는 의미\n",
    "    - 대신, 조심해서 사용"
   ]
  },
  {
   "cell_type": "markdown",
   "id": "99157ece",
   "metadata": {},
   "source": [
    "# 터미널 명령어 사용하기"
   ]
  },
  {
   "cell_type": "code",
   "execution_count": null,
   "id": "295defb5",
   "metadata": {},
   "outputs": [],
   "source": [
    "!ls"
   ]
  },
  {
   "cell_type": "code",
   "execution_count": 2,
   "id": "dcb91875",
   "metadata": {},
   "outputs": [
    {
     "name": "stdout",
     "output_type": "stream",
     "text": [
      "Active code page: 65001\n",
      "python\n"
     ]
    }
   ],
   "source": [
    "!ls ../"
   ]
  },
  {
   "cell_type": "code",
   "execution_count": 3,
   "id": "524322dc",
   "metadata": {},
   "outputs": [
    {
     "name": "stdout",
     "output_type": "stream",
     "text": [
      "Active code page: 65001\n"
     ]
    }
   ],
   "source": [
    "!touch practice.py"
   ]
  },
  {
   "cell_type": "code",
   "execution_count": 4,
   "id": "5a89f8e1",
   "metadata": {},
   "outputs": [
    {
     "name": "stdout",
     "output_type": "stream",
     "text": [
      "Active code page: 65001\n",
      "02_jupyternotebook.ipynb\n",
      "practice.py\n"
     ]
    }
   ],
   "source": [
    "!ls"
   ]
  },
  {
   "cell_type": "code",
   "execution_count": 5,
   "id": "eac87bf2",
   "metadata": {},
   "outputs": [
    {
     "name": "stdout",
     "output_type": "stream",
     "text": [
      "Active code page: 65001\n",
      " Volume in drive C has no label.\n",
      " Volume Serial Number is D2A9-FB06\n",
      "\n",
      " Directory of C:\\Users\\SeongJin\\Documents\\my_ws\\edu\\python\n",
      "\n",
      "2023-09-20  �삤�썑 01:37    <DIR>          .\n",
      "2023-09-20  �삤�썑 01:04    <DIR>          ..\n",
      "2023-09-20  �삤�썑 01:20    <DIR>          .ipynb_checkpoints\n",
      "2023-09-20  �삤�썑 01:37             3,676 02_jupyternotebook.ipynb\n",
      "2023-09-20  �삤�썑 01:36                 0 practice.py\n",
      "               2 File(s)          3,676 bytes\n",
      "               3 Dir(s)  34,379,571,200 bytes free\n"
     ]
    }
   ],
   "source": [
    "!dir"
   ]
  },
  {
   "cell_type": "code",
   "execution_count": 6,
   "id": "9239f22c",
   "metadata": {},
   "outputs": [
    {
     "name": "stdout",
     "output_type": "stream",
     "text": [
      "Active code page: 65001\n"
     ]
    },
    {
     "name": "stderr",
     "output_type": "stream",
     "text": [
      "The syntax of the command is incorrect.\n"
     ]
    }
   ],
   "source": [
    "!mkdir practice/"
   ]
  },
  {
   "cell_type": "code",
   "execution_count": 7,
   "id": "7f8b021d",
   "metadata": {},
   "outputs": [
    {
     "name": "stdout",
     "output_type": "stream",
     "text": [
      "Active code page: 65001\n"
     ]
    },
    {
     "name": "stderr",
     "output_type": "stream",
     "text": [
      "The syntax of the command is incorrect.\n"
     ]
    }
   ],
   "source": [
    "!mkdir practice/"
   ]
  },
  {
   "cell_type": "code",
   "execution_count": 8,
   "id": "ee58a2d0",
   "metadata": {},
   "outputs": [
    {
     "name": "stdout",
     "output_type": "stream",
     "text": [
      "Active code page: 65001\n"
     ]
    },
    {
     "name": "stderr",
     "output_type": "stream",
     "text": [
      "The syntax of the command is incorrect.\n"
     ]
    }
   ],
   "source": [
    "mkdir practice/"
   ]
  },
  {
   "cell_type": "code",
   "execution_count": null,
   "id": "0a733538",
   "metadata": {},
   "outputs": [],
   "source": [
    "rm -rf practice"
   ]
  }
 ],
 "metadata": {
  "kernelspec": {
   "display_name": "Python 3 (ipykernel)",
   "language": "python",
   "name": "python3"
  },
  "language_info": {
   "codemirror_mode": {
    "name": "ipython",
    "version": 3
   },
   "file_extension": ".py",
   "mimetype": "text/x-python",
   "name": "python",
   "nbconvert_exporter": "python",
   "pygments_lexer": "ipython3",
   "version": "3.11.4"
  }
 },
 "nbformat": 4,
 "nbformat_minor": 5
}
