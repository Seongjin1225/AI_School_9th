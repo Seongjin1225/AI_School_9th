{
 "cells": [
  {
   "cell_type": "markdown",
   "id": "1ea29a0b",
   "metadata": {},
   "source": [
    "# Conditon 조건문"
   ]
  },
  {
   "cell_type": "markdown",
   "id": "c537a677",
   "metadata": {},
   "source": [
    "## 1. if else elif\n",
    "- 특정 조건에 따라서 코드를 실행하고자 할 때 사용(코드의 흐름 제어)\n",
    "- if else elif"
   ]
  },
  {
   "cell_type": "code",
   "execution_count": 3,
   "id": "99964cbf",
   "metadata": {},
   "outputs": [
    {
     "ename": "SyntaxError",
     "evalue": "invalid syntax (2833835096.py, line 1)",
     "output_type": "error",
     "traceback": [
      "\u001b[1;36m  Cell \u001b[1;32mIn[3], line 1\u001b[1;36m\u001b[0m\n\u001b[1;33m    ```python\u001b[0m\n\u001b[1;37m    ^\u001b[0m\n\u001b[1;31mSyntaxError\u001b[0m\u001b[1;31m:\u001b[0m invalid syntax\n"
     ]
    }
   ],
   "source": [
    "```python\n",
    "if condition:  # True 이면 코드를 실행\n",
    "    code"
   ]
  },
  {
   "cell_type": "code",
   "execution_count": 4,
   "id": "8d757e85",
   "metadata": {},
   "outputs": [
    {
     "name": "stdout",
     "output_type": "stream",
     "text": [
      "if 문 밖에 있는 print 코드입니다\n"
     ]
    }
   ],
   "source": [
    "# 조건 부분: bool 데이터 타입 이외 데이터 타입이 오면, 자동으로 bool 형변환 되어 판단\n",
    "if True: \n",
    "    print('if 문 안에 있는 print 코드입니다')\n",
    "print('if 문 밖에 있는 print 코드입니다')"
   ]
  },
  {
   "cell_type": "code",
   "execution_count": 5,
   "id": "c207a9b0",
   "metadata": {},
   "outputs": [
    {
     "name": "stdout",
     "output_type": "stream",
     "text": [
      "if\n"
     ]
    }
   ],
   "source": [
    "if 1:\n",
    "    print('if')"
   ]
  },
  {
   "cell_type": "code",
   "execution_count": 6,
   "id": "5e54f4f6",
   "metadata": {},
   "outputs": [],
   "source": [
    "if 0:\n",
    "    print('if')"
   ]
  },
  {
   "cell_type": "code",
   "execution_count": 7,
   "id": "ca62175f",
   "metadata": {},
   "outputs": [
    {
     "data": {
      "text/plain": [
       "(True, False)"
      ]
     },
     "execution_count": 7,
     "metadata": {},
     "output_type": "execute_result"
    }
   ],
   "source": [
    "bool(1), bool(0)"
   ]
  },
  {
   "cell_type": "code",
   "execution_count": 8,
   "id": "eb57e992",
   "metadata": {},
   "outputs": [
    {
     "data": {
      "text/plain": [
       "(False, True, True, True)"
      ]
     },
     "execution_count": 8,
     "metadata": {},
     "output_type": "execute_result"
    }
   ],
   "source": [
    "# int: 0을 제외한 나머지 값은 모두 True\n",
    "bool(0), bool(1), bool(100), bool(123412312312)"
   ]
  },
  {
   "cell_type": "code",
   "execution_count": 9,
   "id": "0a36fddd",
   "metadata": {},
   "outputs": [
    {
     "data": {
      "text/plain": [
       "(False, True, False, False)"
      ]
     },
     "execution_count": 9,
     "metadata": {},
     "output_type": "execute_result"
    }
   ],
   "source": [
    "bool([]), bool([1]), bool({}), bool(())"
   ]
  },
  {
   "cell_type": "code",
   "execution_count": 10,
   "id": "cd03bdb2",
   "metadata": {},
   "outputs": [
    {
     "name": "stdout",
     "output_type": "stream",
     "text": [
      "num is True or False\n"
     ]
    }
   ],
   "source": [
    "num = 1\n",
    "\n",
    "if num:\n",
    "    print('num is True or False')"
   ]
  },
  {
   "cell_type": "code",
   "execution_count": 11,
   "id": "dd678f56",
   "metadata": {},
   "outputs": [],
   "source": [
    "num = 0\n",
    "\n",
    "if num:\n",
    "    print('num is True or False')"
   ]
  },
  {
   "cell_type": "code",
   "execution_count": 12,
   "id": "b12eac2d",
   "metadata": {},
   "outputs": [
    {
     "name": "stdout",
     "output_type": "stream",
     "text": [
      "홀수\n"
     ]
    }
   ],
   "source": [
    "num = 7\n",
    "\n",
    "if num % 2:\n",
    "    print('홀수')"
   ]
  },
  {
   "cell_type": "code",
   "execution_count": 13,
   "id": "6df3b614",
   "metadata": {},
   "outputs": [
    {
     "name": "stdout",
     "output_type": "stream",
     "text": [
      "홀수\n"
     ]
    }
   ],
   "source": [
    "num = 7\n",
    "\n",
    "if num % 2 == 1:\n",
    "    print('홀수')"
   ]
  },
  {
   "cell_type": "code",
   "execution_count": null,
   "id": "d3384475",
   "metadata": {},
   "outputs": [],
   "source": [
    "# int: 0을 제외한 나머지는 True\n",
    "# float: 0.0을 제외한 나머지는 True\n",
    "# str: \"\",''을 제외한 나머지는 True\n",
    "# list, tuple, dict: [], (), {}을 제외한 나머지는 True"
   ]
  },
  {
   "cell_type": "code",
   "execution_count": 14,
   "id": "80d69869",
   "metadata": {},
   "outputs": [
    {
     "data": {
      "text/plain": [
       "(False, False, False, False)"
      ]
     },
     "execution_count": 14,
     "metadata": {},
     "output_type": "execute_result"
    }
   ],
   "source": [
    "bool(0.0), bool(''), bool([]), bool(())"
   ]
  },
  {
   "cell_type": "code",
   "execution_count": null,
   "id": "bd4c9fd8",
   "metadata": {
    "collapsed": true
   },
   "outputs": [],
   "source": [
    "# 지갑에 돈이 10000원 이상 있으면 택시를 탑니다\n",
    "# 그렇지 않으면, 걸어서 집에 갑니다"
   ]
  },
  {
   "cell_type": "code",
   "execution_count": 18,
   "id": "c0386e99",
   "metadata": {},
   "outputs": [],
   "source": [
    "money = 8000"
   ]
  },
  {
   "cell_type": "code",
   "execution_count": 19,
   "id": "d09f15b7",
   "metadata": {},
   "outputs": [
    {
     "name": "stdout",
     "output_type": "stream",
     "text": [
      "걸어서 집에 갑니다. ㅜㅜ\n"
     ]
    }
   ],
   "source": [
    "if money >= 10000:\n",
    "    print('택시를 타고 집에 갑니다. 유후')\n",
    "    \n",
    "if money < 10000:\n",
    "    print('걸어서 집에 갑니다. ㅜㅜ')"
   ]
  },
  {
   "cell_type": "code",
   "execution_count": 21,
   "id": "6cfc458f",
   "metadata": {},
   "outputs": [
    {
     "name": "stdout",
     "output_type": "stream",
     "text": [
      "걷기\n"
     ]
    }
   ],
   "source": [
    "# else\n",
    "money = 9000\n",
    "\n",
    "if money >= 10000:\n",
    "    print('택시')\n",
    "else:\n",
    "    print('걷기')"
   ]
  },
  {
   "cell_type": "code",
   "execution_count": null,
   "id": "927428d7",
   "metadata": {},
   "outputs": [],
   "source": [
    "# elif\n",
    "# 지갑에 돈이 10000원 이상 있으면 택시를 탑니다\n",
    "# 2000원 이상 10000원 미만 있으면 버스를 탑니다\n",
    "# 그렇지 않으면 걸어서 집에 갑니다"
   ]
  },
  {
   "cell_type": "code",
   "execution_count": 22,
   "id": "7fda9457",
   "metadata": {},
   "outputs": [
    {
     "name": "stdout",
     "output_type": "stream",
     "text": [
      "버스를 타고 집에 갑니다\n"
     ]
    }
   ],
   "source": [
    "# elif\n",
    "money = 5000\n",
    "\n",
    "if money >= 10000:\n",
    "    print('택시를 타고 집에 갑니다')\n",
    "if (money >= 2000) and (money < 10000):\n",
    "    print('버스를 타고 집에 갑니다')\n",
    "else:\n",
    "    print('그렇지 않으면 걸어서 집에 갑니다')\n"
   ]
  },
  {
   "cell_type": "code",
   "execution_count": 24,
   "id": "b0050a10",
   "metadata": {},
   "outputs": [
    {
     "name": "stdout",
     "output_type": "stream",
     "text": [
      "걸어서 집에 갑니다\n"
     ]
    }
   ],
   "source": [
    "money = 1000\n",
    "\n",
    "if money >= 10000:\n",
    "    print('택시를 타고 집에 갑니다')\n",
    "elif money >= 5000:\n",
    "    print('광역버스를 타고 집에 갑니다')\n",
    "elif money >= 2000:\n",
    "    print('일반 버스를 타고 집에 갑니다')\n",
    "else:\n",
    "    print('걸어서 집에 갑니다')"
   ]
  },
  {
   "cell_type": "code",
   "execution_count": 27,
   "id": "53b218d1",
   "metadata": {},
   "outputs": [
    {
     "name": "stdout",
     "output_type": "stream",
     "text": [
      "얼마를 뽑으실건가요?: 10000\n"
     ]
    }
   ],
   "source": [
    "# 계좌에 10000원이 있습니다\n",
    "# 인출 금액을 입력 받습니다\n",
    "draw_money = int(input('얼마를 뽑으실건가요?: '))\n",
    "# 인출 금액이 계좌에 있는 금액보다 크면 '인출이 불가능합니다.' 출력\n",
    "# 인출 금액이 계좌에 있는 금액보다 작으면 '인출 되었습니다.' 출력\n",
    "# 마지막에 현재 계좌의 잔액을 출력"
   ]
  },
  {
   "cell_type": "code",
   "execution_count": 28,
   "id": "7a34b624",
   "metadata": {},
   "outputs": [
    {
     "name": "stdout",
     "output_type": "stream",
     "text": [
      "0원 남아 았습니다.\n"
     ]
    }
   ],
   "source": [
    "print(str(10000 - draw_money) + '원 남아 았습니다.')"
   ]
  },
  {
   "cell_type": "code",
   "execution_count": 30,
   "id": "57596740",
   "metadata": {},
   "outputs": [
    {
     "name": "stdout",
     "output_type": "stream",
     "text": [
      "얼마를 뽑으실건가요? 3000\n",
      "draw money : 3000\n",
      "3000원 인출 되었습니다\n",
      "현재 잔액은 7000원 입니다.\n"
     ]
    }
   ],
   "source": [
    "#퀴즈 \n",
    "draw_money = int(input('얼마를 뽑으실건가요? '))\n",
    "print('draw money : ' + str(draw_money))\n",
    "if draw_money <= 10000:\n",
    "    print(str(draw_money) + '원 인출 되었습니다')\n",
    "else:\n",
    "    print('인출이 불가능합니다.')\n",
    "    \n",
    "print('현재 잔액은 ' + str(10000 - draw_money) + '원 입니다.' )"
   ]
  },
  {
   "cell_type": "code",
   "execution_count": null,
   "id": "285806b4",
   "metadata": {},
   "outputs": [],
   "source": [
    "# 강사님 ver.\n",
    "account = 10000\n",
    "\n",
    "draw_money = int(input('얼마를 뽑으실건가요? '))\n",
    "if account >= draw_money:\n",
    "    account -= draw_money\n",
    "    print(str(draw_money) + '원 인출 되었습니다')\n",
    "else:\n",
    "    print('인출이 불가능합니다. ' + str(draw_money - ))"
   ]
  },
  {
   "cell_type": "code",
   "execution_count": 32,
   "id": "4ee9e601",
   "metadata": {},
   "outputs": [
    {
     "name": "stdout",
     "output_type": "stream",
     "text": [
      "5 x 2 = 9\n",
      "오답\n"
     ]
    }
   ],
   "source": [
    "#예제_1\n",
    "num = int(input('5 x 2 = '))\n",
    "answer = 5*2\n",
    "if num == answer:\n",
    "    print('정답')\n",
    "else:\n",
    "    print('오답')"
   ]
  },
  {
   "cell_type": "code",
   "execution_count": 4,
   "id": "2d2fa758",
   "metadata": {},
   "outputs": [
    {
     "name": "stdout",
     "output_type": "stream",
     "text": [
      "9 - 1 = \n",
      "7\n",
      "오답\n"
     ]
    }
   ],
   "source": [
    "#예제_2\n",
    "import random\n",
    "\n",
    "ques = [\n",
    "    '5 * 2 = ',\n",
    "    '3 + 2 = ',\n",
    "    '9 - 1 = '\n",
    "]\n",
    "answer = [10, 5, 8]\n",
    "idx = random.randint(0,len(ques))\n",
    "print(ques[idx])\n",
    "\n",
    "num = int(input())\n",
    "\n",
    "if num == answer[idx]:\n",
    "    print('정답')\n",
    "else:\n",
    "    print('오답')\n"
   ]
  },
  {
   "cell_type": "code",
   "execution_count": 1,
   "id": "c95ca4da",
   "metadata": {},
   "outputs": [
    {
     "name": "stdout",
     "output_type": "stream",
     "text": [
      "현재 잔액은 10000원 입니다\n",
      "현재 잔액은 10000원 입니다.\n",
      "현재 잔액은 10000원 입니다. 그리고 인출 금액은 5000 입니다.\n",
      "현재 잔액은 5000원 입니다. 그리고 인출 금액은 10000 입니다.\n",
      "현재 잔액은 5000원 입니다. 그리고 인출 금액은 10000 입니다.\n",
      "현재 잔액은 10000원 입니다. 그리고 인출 금액은 5000 입니다.\n"
     ]
    }
   ],
   "source": [
    "# 문자열 포멧팅\n",
    "# format() 함수\n",
    "\n",
    "account = 10000\n",
    "draw_money = 5000\n",
    "\n",
    "print('현재 잔액은 ' + str(account) + '원 입니다')\n",
    "print('현재 잔액은 {}원 입니다.'.format(account))\n",
    "print('현재 잔액은 {}원 입니다. 그리고 인출 금액은 {} 입니다.'.format(account, draw_money))\n",
    "print('현재 잔액은 {}원 입니다. 그리고 인출 금액은 {} 입니다.'.format(draw_money, account))\n",
    "print('현재 잔액은 {data1}원 입니다. 그리고 인출 금액은 {data2} 입니다.'.format(data1 = draw_money, data2 = account))\n",
    "print('현재 잔액은 {data1}원 입니다. 그리고 인출 금액은 {data2} 입니다.'.format(data2 = draw_money, data1 = account))"
   ]
  },
  {
   "cell_type": "code",
   "execution_count": 5,
   "id": "fb699641",
   "metadata": {},
   "outputs": [
    {
     "name": "stdout",
     "output_type": "stream",
     "text": [
      "현재 잔액은 10000 원 입니다.\n",
      "현재 잔액은 10000 원 입니다.\n",
      "현재 잔액은 10000 원 입니다. 인출 금액은 5000 원 입니다.\n"
     ]
    }
   ],
   "source": [
    "# c style\n",
    "print('현재 잔액은 %d 원 입니다.' % account)\n",
    "# python style\n",
    "print('현재 잔액은 {} 원 입니다.'.format(account))\n",
    "# python style\n",
    "print(f'현재 잔액은 {account} 원 입니다. 인출 금액은 {draw_money} 원 입니다.')  # -> 가장 추천하는 방법"
   ]
  },
  {
   "cell_type": "markdown",
   "id": "4876a85e",
   "metadata": {},
   "source": [
    "## 2. 삼항 연산자\n",
    "- 간단한 조건일 경우, if else 구문을 한 줄의 코드로 표현할 수 있는 문법"
   ]
  },
  {
   "cell_type": "code",
   "execution_count": 7,
   "id": "c32c2146",
   "metadata": {},
   "outputs": [
    {
     "name": "stdout",
     "output_type": "stream",
     "text": [
      "taxi\n"
     ]
    }
   ],
   "source": [
    "money = 10000\n",
    "\n",
    "if money >= 10000:\n",
    "    print('taxi')\n",
    "else:\n",
    "    print('walk')\n",
    "    "
   ]
  },
  {
   "cell_type": "code",
   "execution_count": 8,
   "id": "da6a4356",
   "metadata": {},
   "outputs": [
    {
     "name": "stdout",
     "output_type": "stream",
     "text": [
      "True\n"
     ]
    }
   ],
   "source": [
    "# 삼항 연산자(True 이면 왼쪽, False 이면 오른쪽)\n",
    "print('True') if money >= 10000 else print('False')"
   ]
  },
  {
   "cell_type": "code",
   "execution_count": 9,
   "id": "559719c0",
   "metadata": {},
   "outputs": [
    {
     "name": "stdout",
     "output_type": "stream",
     "text": [
      "zero????\n"
     ]
    }
   ],
   "source": [
    "data = 0\n",
    "\n",
    "if data:\n",
    "    print('zero')\n",
    "else:\n",
    "    print('zero????')"
   ]
  },
  {
   "cell_type": "code",
   "execution_count": 10,
   "id": "eae1c328",
   "metadata": {},
   "outputs": [],
   "source": [
    "result = 'not zero' if data else 'zero'"
   ]
  },
  {
   "cell_type": "code",
   "execution_count": 11,
   "id": "58c82904",
   "metadata": {},
   "outputs": [
    {
     "name": "stdout",
     "output_type": "stream",
     "text": [
      "zero\n"
     ]
    }
   ],
   "source": [
    "print(result)"
   ]
  },
  {
   "cell_type": "code",
   "execution_count": null,
   "id": "f2893a44",
   "metadata": {},
   "outputs": [],
   "source": []
  }
 ],
 "metadata": {
  "kernelspec": {
   "display_name": "Python 3 (ipykernel)",
   "language": "python",
   "name": "python3"
  },
  "language_info": {
   "codemirror_mode": {
    "name": "ipython",
    "version": 3
   },
   "file_extension": ".py",
   "mimetype": "text/x-python",
   "name": "python",
   "nbconvert_exporter": "python",
   "pygments_lexer": "ipython3",
   "version": "3.11.4"
  }
 },
 "nbformat": 4,
 "nbformat_minor": 5
}
